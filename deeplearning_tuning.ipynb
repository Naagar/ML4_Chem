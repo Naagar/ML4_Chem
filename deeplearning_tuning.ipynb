{
 "cells": [
  {
   "cell_type": "code",
   "execution_count": 2,
   "metadata": {
    "pycharm": {
     "name": "#%%\n"
    }
   },
   "outputs": [],
   "source": [
    "from rdkit import Chem\n",
    "import networkx as nx\n",
    "from karateclub import Graph2Vec\n",
    "import numpy as np\n",
    "import pandas as pd\n",
    "from rdkit.Chem import Draw\n",
    "from IPython.display import Image\n",
    "import networkx as nx\n",
    "import matplotlib.pyplot as plt\n",
    "from karateclub import Graph2Vec\n",
    "from sklearn.model_selection import train_test_split\n",
    "from sklearn.preprocessing import StandardScaler\n",
    "from sklearn.neural_network import MLPClassifier\n",
    "from imblearn.over_sampling import SMOTE\n",
    "from keras.models import Sequential\n",
    "from keras.layers import Dense\n",
    "from tensorflow.keras.layers import Conv2D, MaxPooling2D, Dense, Flatten, Activation\n",
    "from tensorflow.keras import layers\n",
    "import time"
   ]
  },
  {
   "cell_type": "code",
   "execution_count": 3,
   "metadata": {
    "pycharm": {
     "name": "#%%\n"
    }
   },
   "outputs": [
    {
     "name": "stdout",
     "output_type": "stream",
     "text": [
      "Transform smiles to rdkit mol object\n"
     ]
    },
    {
     "name": "stderr",
     "output_type": "stream",
     "text": [
      "[17:57:35] WARNING: not removing hydrogen atom without neighbors\n",
      "[17:57:35] WARNING: not removing hydrogen atom without neighbors\n"
     ]
    },
    {
     "name": "stdout",
     "output_type": "stream",
     "text": [
      "Create Networkx object from RDKit\n",
      "Create graph embedding\n",
      "Synthetic balanced dataset\n",
      "0    40426\n",
      "1    40426\n",
      "Name: HIV_active, dtype: int64\n"
     ]
    }
   ],
   "source": [
    "data = pd.read_csv('./HIV.csv')\n",
    "def mol_to_nx(mol):\n",
    "    G = nx.Graph()\n",
    "\n",
    "    for atom in mol.GetAtoms():\n",
    "        G.add_node(atom.GetIdx(),\n",
    "                   atomic_num=atom.GetAtomicNum(),\n",
    "                   is_aromatic=atom.GetIsAromatic(),\n",
    "                   atom_symbol=atom.GetSymbol())\n",
    "        \n",
    "    for bond in mol.GetBonds():\n",
    "        G.add_edge(bond.GetBeginAtomIdx(),\n",
    "                   bond.GetEndAtomIdx(),\n",
    "                   bond_type=bond.GetBondType())\n",
    "        \n",
    "    return G\n",
    "print(\"Transform smiles to rdkit mol object\")\n",
    "data['mol'] = data['smiles'].apply(lambda x: Chem.MolFromSmiles(x))      \n",
    "print(\"Create Networkx object from RDKit\")\n",
    "data['graph'] = data['mol'].apply(lambda x: mol_to_nx(x))\n",
    "print(\"Create graph embedding\")\n",
    "model = Graph2Vec()\n",
    "model.fit(data['graph'])\n",
    "hiv_graph2vec = model.get_embedding()\n",
    "hiv_graph2vec = pd.DataFrame(hiv_graph2vec)\n",
    "X = hiv_graph2vec\n",
    "y = data['HIV_active']\n",
    "oversample = SMOTE()\n",
    "X, y = oversample.fit_resample(X, y)\n",
    "print('Synthetic balanced dataset')\n",
    "print(y.value_counts())\n",
    "\n",
    "X_train, X_test, y_train, y_test = train_test_split(X, y, test_size = 0.2)"
   ]
  },
  {
   "cell_type": "code",
   "execution_count": 6,
   "metadata": {
    "pycharm": {
     "name": "#%%\n"
    }
   },
   "outputs": [],
   "source": [
    "\n",
    "def build_model(hp):\n",
    "    model = Sequential()\n",
    "    #model.add(Dense(128, input_dim=128, activation='relu'))\n",
    "    model.add(Dense(hp.Int('input_units',\n",
    "                                min_value=128,\n",
    "                                max_value=256,\n",
    "                                step=32), input_dim=128))\n",
    "    model.add(Activation('relu'))\n",
    "    for i in range(hp.Int('n_layers', 1, 4)):  # adding variation of layers.\n",
    "        model.add(Dense(hp.Int(f'dense_{i}_units',\n",
    "                                min_value=32,\n",
    "                                max_value=256,\n",
    "                                step=32)))\n",
    "        model.add(Activation('relu'))\n",
    "    \n",
    "    model.add(Dense(1, activation='sigmoid'))\n",
    "    model.compile(loss='binary_crossentropy', optimizer='adam', metrics=['accuracy'])\n",
    "    \n",
    "    return model"
   ]
  },
  {
   "cell_type": "code",
   "execution_count": 7,
   "metadata": {
    "pycharm": {
     "name": "#%%\n"
    }
   },
   "outputs": [],
   "source": [
    "\n",
    "LOG_DIR = f\"{int(time.time())}\"\n",
    "from kerastuner.tuners import RandomSearch\n",
    "from kerastuner.engine.hyperparameters import HyperParameters\n",
    "tuner = RandomSearch(\n",
    "    build_model,\n",
    "    objective='val_accuracy',\n",
    "    max_trials=1,  # how many model variations to test?\n",
    "    executions_per_trial=1,  # how many trials per variation? (same model could perform differently)\n",
    "    directory=LOG_DIR)"
   ]
  },
  {
   "cell_type": "code",
   "execution_count": 8,
   "metadata": {
    "pycharm": {
     "name": "#%%\n"
    }
   },
   "outputs": [
    {
     "name": "stdout",
     "output_type": "stream",
     "text": [
      "Search space summary\n",
      "Default search space size: 3\n",
      "input_units (Int)\n",
      "{'default': None, 'conditions': [], 'min_value': 128, 'max_value': 256, 'step': 32, 'sampling': None}\n",
      "n_layers (Int)\n",
      "{'default': None, 'conditions': [], 'min_value': 1, 'max_value': 4, 'step': 1, 'sampling': None}\n",
      "dense_0_units (Int)\n",
      "{'default': None, 'conditions': [], 'min_value': 32, 'max_value': 256, 'step': 32, 'sampling': None}\n"
     ]
    }
   ],
   "source": [
    "tuner.search_space_summary()"
   ]
  },
  {
   "cell_type": "code",
   "execution_count": 9,
   "metadata": {
    "pycharm": {
     "name": "#%%\n"
    }
   },
   "outputs": [
    {
     "name": "stdout",
     "output_type": "stream",
     "text": [
      "Trial 1 Complete [00h 00m 33s]\n",
      "val_accuracy: 0.9204749464988708\n",
      "\n",
      "Best val_accuracy So Far: 0.9204749464988708\n",
      "Total elapsed time: 00h 00m 33s\n",
      "INFO:tensorflow:Oracle triggered exit\n"
     ]
    }
   ],
   "source": [
    "tuner.search(x=X_train,\n",
    "             y=y_train,\n",
    "             verbose=2, # just slapping this here bc jupyter notebook. The console out was getting messy.\n",
    "             epochs=10,\n",
    "             batch_size=64,\n",
    "             #callbacks=[tensorboard],  # if you have callbacks like tensorboard, they go here.\n",
    "             validation_data=(X_test, y_test))"
   ]
  },
  {
   "cell_type": "code",
   "execution_count": 10,
   "metadata": {
    "pycharm": {
     "name": "#%%\n"
    }
   },
   "outputs": [
    {
     "name": "stdout",
     "output_type": "stream",
     "text": [
      "Results summary\n",
      "Results in 1651062637\\untitled_project\n",
      "Showing 10 best trials\n",
      "<keras_tuner.engine.objective.Objective object at 0x000001D637A3C610>\n",
      "Trial summary\n",
      "Hyperparameters:\n",
      "input_units: 224\n",
      "n_layers: 3\n",
      "dense_0_units: 96\n",
      "dense_1_units: 32\n",
      "dense_2_units: 32\n",
      "Score: 0.9204749464988708\n"
     ]
    }
   ],
   "source": [
    "tuner.results_summary()"
   ]
  },
  {
   "cell_type": "code",
   "execution_count": 11,
   "metadata": {
    "pycharm": {
     "name": "#%%\n"
    }
   },
   "outputs": [
    {
     "data": {
      "text/plain": [
       "{'input_units': 224,\n",
       " 'n_layers': 3,\n",
       " 'dense_0_units': 96,\n",
       " 'dense_1_units': 32,\n",
       " 'dense_2_units': 32}"
      ]
     },
     "execution_count": 11,
     "metadata": {},
     "output_type": "execute_result"
    }
   ],
   "source": [
    "tuner.get_best_hyperparameters()[0].values"
   ]
  },
  {
   "cell_type": "code",
   "execution_count": null,
   "metadata": {},
   "outputs": [],
   "source": []
  }
 ],
 "metadata": {
  "kernelspec": {
   "display_name": "Python 3 (ipykernel)",
   "language": "python",
   "name": "python3"
  },
  "language_info": {
   "codemirror_mode": {
    "name": "ipython",
    "version": 3
   },
   "file_extension": ".py",
   "mimetype": "text/x-python",
   "name": "python",
   "nbconvert_exporter": "python",
   "pygments_lexer": "ipython3",
   "version": "3.9.12"
  }
 },
 "nbformat": 4,
 "nbformat_minor": 1
}