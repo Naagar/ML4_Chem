{
 "cells": [
  {
   "cell_type": "code",
   "execution_count": null,
   "id": "d176ba0c",
   "metadata": {
    "pycharm": {
     "name": "#%%\n"
    }
   },
   "outputs": [],
   "source": [
    "# https://deepchem.io/\n",
    "import numpy as np\n",
    "import deepchem as dc\n",
    "from rdkit import Chem\n",
    "np.random.seed(123)"
   ]
  },
  {
   "cell_type": "code",
   "execution_count": null,
   "id": "633a6192",
   "metadata": {
    "pycharm": {
     "name": "#%%\n"
    }
   },
   "outputs": [],
   "source": [
    "# Load delaney dataset\n",
    "delaney_tasks, delaney_datasets, transformers = dc.molnet.load_delaney(featurizer='GraphConv')\n",
    "train_dataset, valid_dataset, test_dataset = delaney_datasets"
   ]
  },
  {
   "cell_type": "code",
   "execution_count": null,
   "id": "a555012a",
   "metadata": {
    "pycharm": {
     "name": "#%%\n"
    }
   },
   "outputs": [],
   "source": [
    "# Fit models\n",
    "metric = dc.metrics.Metric(dc.metrics.pearson_r2_score)\n",
    "\n",
    "model = dc.models.GraphConvModel(\n",
    "    n_tasks=1,\n",
    "    mode='regression',\n",
    "    dropouts=[.25],\n",
    "    batch_size=50)\n",
    "\n",
    "# Fit trained model\n",
    "model.fit(train_dataset, nb_epoch=10)"
   ]
  },
  {
   "cell_type": "code",
   "execution_count": null,
   "id": "f375be24",
   "metadata": {
    "pycharm": {
     "name": "#%%\n"
    }
   },
   "outputs": [],
   "source": [
    "# Perfromance\n",
    "train_scores = model.evaluate(train_dataset, [metric], transformers)\n",
    "valid_scores = model.evaluate(valid_dataset, [metric], transformers)\n",
    "\n",
    "print(\"Train r2 scores\", train_scores)\n",
    "\n",
    "print(\"Validation r2 scores\",valid_scores)"
   ]
  },
  {
   "cell_type": "code",
   "execution_count": null,
   "id": "ea14a0d7",
   "metadata": {
    "pycharm": {
     "name": "#%%\n"
    }
   },
   "outputs": [],
   "source": [
    "# Predict\n",
    "smiles = ['ClCC(Cl)(Cl)Cl',\n",
    "            'CC(Cl)(Cl)Cl',\n",
    "            'ClC(Cl)C(Cl)Cl',\n",
    "            'ClCC(Cl)Cl',\n",
    "            'CCOC(C)OCC',\n",
    "            'Clc1ccc(Cl)c(Cl)c1Cl',\n",
    "            'C1CCc2ccccc2C1',\n",
    "            'Clc1cc(Cl)c(Cl)c(Cl)c1',\n",
    "            'Clc1cccc(Cl)c1Cl',\n",
    "            'Cc1cccc(C)c1C']\n",
    "\n",
    "\n",
    "mols = [Chem.MolFromSmiles(s) for s in smiles]\n",
    "featurizer = dc.feat.ConvMolFeaturizer()\n",
    "x = featurizer.featurize(mols)\n",
    "predicted_solubility = model.predict_on_batch(x)\n",
    "predicted_solubility"
   ]
  },
  {
   "cell_type": "code",
   "execution_count": null,
   "id": "6a4d1beb",
   "metadata": {
    "pycharm": {
     "name": "#%%\n"
    }
   },
   "outputs": [],
   "source": []
  },
  {
   "cell_type": "code",
   "execution_count": null,
   "id": "00f8caa7",
   "metadata": {
    "pycharm": {
     "name": "#%%\n"
    }
   },
   "outputs": [],
   "source": []
  }
 ],
 "metadata": {
  "kernelspec": {
   "display_name": "Python 3 (ipykernel)",
   "language": "python",
   "name": "python3"
  },
  "language_info": {
   "codemirror_mode": {
    "name": "ipython",
    "version": 3
   },
   "file_extension": ".py",
   "mimetype": "text/x-python",
   "name": "python",
   "nbconvert_exporter": "python",
   "pygments_lexer": "ipython3",
   "version": "3.9.12"
  }
 },
 "nbformat": 4,
 "nbformat_minor": 5
}