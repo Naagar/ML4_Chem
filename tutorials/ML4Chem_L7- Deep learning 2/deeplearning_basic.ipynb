{
 "cells": [
  {
   "cell_type": "code",
   "execution_count": 1,
   "metadata": {
    "pycharm": {
     "is_executing": true,
     "name": "#%%\n"
    }
   },
   "outputs": [],
   "source": [
    "# Inspired by https://towardsdatascience.com/basic-molecular-representation-for-machine-learning-b6be52e9ff76\n",
    "from rdkit import Chem\n",
    "import networkx as nx\n",
    "from karateclub import Graph2Vec\n",
    "import numpy as np\n",
    "import pandas as pd\n",
    "from rdkit.Chem import Draw\n",
    "from IPython.display import Image\n",
    "import networkx as nx\n",
    "import matplotlib.pyplot as plt\n",
    "from karateclub import Graph2Vec\n",
    "from sklearn.model_selection import train_test_split\n",
    "from sklearn.preprocessing import StandardScaler\n",
    "from sklearn.neural_network import MLPClassifier\n",
    "from imblearn.over_sampling import SMOTE\n",
    "from keras.models import Sequential\n",
    "from keras.layers import Dense"
   ]
  },
  {
   "cell_type": "code",
   "execution_count": 2,
   "metadata": {
    "pycharm": {
     "name": "#%%\n"
    }
   },
   "outputs": [
    {
     "data": {
      "text/html": [
       "<div>\n",
       "<style scoped>\n",
       "    .dataframe tbody tr th:only-of-type {\n",
       "        vertical-align: middle;\n",
       "    }\n",
       "\n",
       "    .dataframe tbody tr th {\n",
       "        vertical-align: top;\n",
       "    }\n",
       "\n",
       "    .dataframe thead th {\n",
       "        text-align: right;\n",
       "    }\n",
       "</style>\n",
       "<table border=\"1\" class=\"dataframe\">\n",
       "  <thead>\n",
       "    <tr style=\"text-align: right;\">\n",
       "      <th></th>\n",
       "      <th>smiles</th>\n",
       "      <th>activity</th>\n",
       "      <th>HIV_active</th>\n",
       "    </tr>\n",
       "  </thead>\n",
       "  <tbody>\n",
       "    <tr>\n",
       "      <th>0</th>\n",
       "      <td>CCC1=[O+][Cu-3]2([O+]=C(CC)C1)[O+]=C(CC)CC(CC)...</td>\n",
       "      <td>CI</td>\n",
       "      <td>0</td>\n",
       "    </tr>\n",
       "    <tr>\n",
       "      <th>1</th>\n",
       "      <td>C(=Cc1ccccc1)C1=[O+][Cu-3]2([O+]=C(C=Cc3ccccc3...</td>\n",
       "      <td>CI</td>\n",
       "      <td>0</td>\n",
       "    </tr>\n",
       "    <tr>\n",
       "      <th>2</th>\n",
       "      <td>CC(=O)N1c2ccccc2Sc2c1ccc1ccccc21</td>\n",
       "      <td>CI</td>\n",
       "      <td>0</td>\n",
       "    </tr>\n",
       "    <tr>\n",
       "      <th>3</th>\n",
       "      <td>Nc1ccc(C=Cc2ccc(N)cc2S(=O)(=O)O)c(S(=O)(=O)O)c1</td>\n",
       "      <td>CI</td>\n",
       "      <td>0</td>\n",
       "    </tr>\n",
       "    <tr>\n",
       "      <th>4</th>\n",
       "      <td>O=S(=O)(O)CCS(=O)(=O)O</td>\n",
       "      <td>CI</td>\n",
       "      <td>0</td>\n",
       "    </tr>\n",
       "    <tr>\n",
       "      <th>5</th>\n",
       "      <td>CCOP(=O)(Nc1cccc(Cl)c1)OCC</td>\n",
       "      <td>CI</td>\n",
       "      <td>0</td>\n",
       "    </tr>\n",
       "    <tr>\n",
       "      <th>6</th>\n",
       "      <td>O=C(O)c1ccccc1O</td>\n",
       "      <td>CI</td>\n",
       "      <td>0</td>\n",
       "    </tr>\n",
       "    <tr>\n",
       "      <th>7</th>\n",
       "      <td>CC1=C2C(=COC(C)C2C)C(O)=C(C(=O)O)C1=O</td>\n",
       "      <td>CI</td>\n",
       "      <td>0</td>\n",
       "    </tr>\n",
       "    <tr>\n",
       "      <th>8</th>\n",
       "      <td>O=[N+]([O-])c1ccc(SSc2ccc([N+](=O)[O-])cc2[N+]...</td>\n",
       "      <td>CI</td>\n",
       "      <td>0</td>\n",
       "    </tr>\n",
       "    <tr>\n",
       "      <th>9</th>\n",
       "      <td>O=[N+]([O-])c1ccccc1SSc1ccccc1[N+](=O)[O-]</td>\n",
       "      <td>CI</td>\n",
       "      <td>0</td>\n",
       "    </tr>\n",
       "  </tbody>\n",
       "</table>\n",
       "</div>"
      ],
      "text/plain": [
       "                                              smiles activity  HIV_active\n",
       "0  CCC1=[O+][Cu-3]2([O+]=C(CC)C1)[O+]=C(CC)CC(CC)...       CI           0\n",
       "1  C(=Cc1ccccc1)C1=[O+][Cu-3]2([O+]=C(C=Cc3ccccc3...       CI           0\n",
       "2                   CC(=O)N1c2ccccc2Sc2c1ccc1ccccc21       CI           0\n",
       "3    Nc1ccc(C=Cc2ccc(N)cc2S(=O)(=O)O)c(S(=O)(=O)O)c1       CI           0\n",
       "4                             O=S(=O)(O)CCS(=O)(=O)O       CI           0\n",
       "5                         CCOP(=O)(Nc1cccc(Cl)c1)OCC       CI           0\n",
       "6                                    O=C(O)c1ccccc1O       CI           0\n",
       "7              CC1=C2C(=COC(C)C2C)C(O)=C(C(=O)O)C1=O       CI           0\n",
       "8  O=[N+]([O-])c1ccc(SSc2ccc([N+](=O)[O-])cc2[N+]...       CI           0\n",
       "9         O=[N+]([O-])c1ccccc1SSc1ccccc1[N+](=O)[O-]       CI           0"
      ]
     },
     "execution_count": 2,
     "metadata": {},
     "output_type": "execute_result"
    }
   ],
   "source": [
    "# Read dataset\n",
    "data = pd.read_csv('./HIV.csv')\n",
    "data.head(10)"
   ]
  },
  {
   "cell_type": "code",
   "execution_count": 3,
   "metadata": {
    "pycharm": {
     "name": "#%%\n"
    }
   },
   "outputs": [],
   "source": [
    "# Reading and drawing sample molecule\n",
    "sample = data['smiles'][0]\n",
    "mol = Chem.MolFromSmiles(sample)\n",
    "Draw.MolToFile(mol, 'sample.png')\n",
    "for i, atom in enumerate(mol.GetAtoms()):\n",
    "    atom.SetProp(\"molAtomMapNumber\", str(atom.GetIdx()))\n",
    "    \n",
    "Draw.MolToFile(mol, 'sample_with_prop.png')"
   ]
  },
  {
   "cell_type": "code",
   "execution_count": 4,
   "metadata": {
    "pycharm": {
     "name": "#%%\n"
    }
   },
   "outputs": [
    {
     "data": {
      "image/png": "[encoded data removed]",
      "text/plain": [
       "<IPython.core.display.Image object>"
      ]
     },
     "execution_count": 4,
     "metadata": {},
     "output_type": "execute_result"
    }
   ],
   "source": [
    "Image(filename='sample.png') "
   ]
  },
  {
   "cell_type": "code",
   "execution_count": 5,
   "metadata": {
    "pycharm": {
     "name": "#%%\n"
    }
   },
   "outputs": [
    {
     "data": {
      "image/png": "[encoded data removed]",
      "text/plain": [
       "<IPython.core.display.Image object>"
      ]
     },
     "execution_count": 5,
     "metadata": {},
     "output_type": "execute_result"
    }
   ],
   "source": [
    "Image(filename='sample_with_prop.png')"
   ]
  },
  {
   "cell_type": "code",
   "execution_count": 6,
   "metadata": {
    "pycharm": {
     "name": "#%%\n"
    }
   },
   "outputs": [
    {
     "data": {
      "image/png": "[encoded data removed]",
      "text/plain": [
       "<Figure size 432x288 with 1 Axes>"
      ]
     },
     "metadata": {},
     "output_type": "display_data"
    }
   ],
   "source": [
    "# Molecular Representation in Graph\n",
    "sample = data['smiles'][0]\n",
    "sample_mol = Chem.MolFromSmiles(sample)\n",
    "def mol_to_nx(mol):\n",
    "    G = nx.Graph()\n",
    "\n",
    "    for atom in mol.GetAtoms():\n",
    "        G.add_node(atom.GetIdx(),\n",
    "                   atomic_num=atom.GetAtomicNum(),\n",
    "                   is_aromatic=atom.GetIsAromatic(),\n",
    "                   atom_symbol=atom.GetSymbol())\n",
    "        \n",
    "    for bond in mol.GetBonds():\n",
    "        G.add_edge(bond.GetBeginAtomIdx(),\n",
    "                   bond.GetEndAtomIdx(),\n",
    "                   bond_type=bond.GetBondType())\n",
    "        \n",
    "    return G\n",
    "\n",
    "sample_nx = mol_to_nx(sample_mol)\n",
    "sample_atom = nx.get_node_attributes(sample_nx, 'atom_symbol')\n",
    "color_map = {'C': 'cyan',\n",
    "             'O': 'orange',\n",
    "             'N': 'magenta'}  \n",
    "\n",
    "graph_colors = []\n",
    "for idx in sample_nx.nodes():\n",
    "    if (sample_nx.nodes[idx]['atom_symbol'] in color_map):\n",
    "        graph_colors.append(color_map[sample_nx.nodes[idx]['atom_symbol']])\n",
    "    else:\n",
    "        graph_colors.append('gray')\n",
    "    \n",
    "nx.draw(sample_nx,\n",
    "        labels=sample_atom,\n",
    "        with_labels = True,\n",
    "        node_color=graph_colors,\n",
    "        node_size=800)\n",
    "\n",
    "plt.show()"
   ]
  },
  {
   "cell_type": "code",
   "execution_count": 7,
   "metadata": {
    "pycharm": {
     "name": "#%%\n"
    }
   },
   "outputs": [
    {
     "name": "stdout",
     "output_type": "stream",
     "text": [
      "Transform smiles to rdkit mol object\n",
      "Create Networkx object from RDKit\n",
      "Create graph embedding\n"
     ]
    },
    {
     "data": {
      "text/html": [
       "<div>\n",
       "<style scoped>\n",
       "    .dataframe tbody tr th:only-of-type {\n",
       "        vertical-align: middle;\n",
       "    }\n",
       "\n",
       "    .dataframe tbody tr th {\n",
       "        vertical-align: top;\n",
       "    }\n",
       "\n",
       "    .dataframe thead th {\n",
       "        text-align: right;\n",
       "    }\n",
       "</style>\n",
       "<table border=\"1\" class=\"dataframe\">\n",
       "  <thead>\n",
       "    <tr style=\"text-align: right;\">\n",
       "      <th></th>\n",
       "      <th>0</th>\n",
       "      <th>1</th>\n",
       "      <th>2</th>\n",
       "      <th>3</th>\n",
       "      <th>4</th>\n",
       "      <th>5</th>\n",
       "      <th>6</th>\n",
       "      <th>7</th>\n",
       "      <th>8</th>\n",
       "      <th>9</th>\n",
       "      <th>...</th>\n",
       "      <th>118</th>\n",
       "      <th>119</th>\n",
       "      <th>120</th>\n",
       "      <th>121</th>\n",
       "      <th>122</th>\n",
       "      <th>123</th>\n",
       "      <th>124</th>\n",
       "      <th>125</th>\n",
       "      <th>126</th>\n",
       "      <th>127</th>\n",
       "    </tr>\n",
       "  </thead>\n",
       "  <tbody>\n",
       "    <tr>\n",
       "      <th>0</th>\n",
       "      <td>0.090017</td>\n",
       "      <td>-0.025276</td>\n",
       "      <td>0.009186</td>\n",
       "      <td>0.144655</td>\n",
       "      <td>-0.026491</td>\n",
       "      <td>-0.037248</td>\n",
       "      <td>-0.032797</td>\n",
       "      <td>-0.084750</td>\n",
       "      <td>-0.054650</td>\n",
       "      <td>-0.033314</td>\n",
       "      <td>...</td>\n",
       "      <td>-0.027615</td>\n",
       "      <td>-0.028252</td>\n",
       "      <td>-0.026290</td>\n",
       "      <td>-0.030576</td>\n",
       "      <td>0.048431</td>\n",
       "      <td>-0.021823</td>\n",
       "      <td>-0.144377</td>\n",
       "      <td>0.059747</td>\n",
       "      <td>0.097021</td>\n",
       "      <td>0.035418</td>\n",
       "    </tr>\n",
       "    <tr>\n",
       "      <th>1</th>\n",
       "      <td>0.069134</td>\n",
       "      <td>0.017155</td>\n",
       "      <td>0.052945</td>\n",
       "      <td>0.160981</td>\n",
       "      <td>0.049915</td>\n",
       "      <td>0.009456</td>\n",
       "      <td>-0.045622</td>\n",
       "      <td>-0.029025</td>\n",
       "      <td>-0.080332</td>\n",
       "      <td>-0.017462</td>\n",
       "      <td>...</td>\n",
       "      <td>-0.051398</td>\n",
       "      <td>-0.055297</td>\n",
       "      <td>-0.076094</td>\n",
       "      <td>-0.016771</td>\n",
       "      <td>0.041782</td>\n",
       "      <td>-0.002139</td>\n",
       "      <td>-0.146800</td>\n",
       "      <td>0.111925</td>\n",
       "      <td>0.094769</td>\n",
       "      <td>0.096508</td>\n",
       "    </tr>\n",
       "    <tr>\n",
       "      <th>2</th>\n",
       "      <td>-0.022203</td>\n",
       "      <td>0.065622</td>\n",
       "      <td>0.004288</td>\n",
       "      <td>0.137257</td>\n",
       "      <td>-0.026252</td>\n",
       "      <td>-0.097056</td>\n",
       "      <td>-0.000759</td>\n",
       "      <td>0.027776</td>\n",
       "      <td>-0.075071</td>\n",
       "      <td>-0.070744</td>\n",
       "      <td>...</td>\n",
       "      <td>0.027640</td>\n",
       "      <td>-0.017144</td>\n",
       "      <td>0.020173</td>\n",
       "      <td>-0.029443</td>\n",
       "      <td>-0.052433</td>\n",
       "      <td>0.017350</td>\n",
       "      <td>-0.085394</td>\n",
       "      <td>-0.020283</td>\n",
       "      <td>-0.015167</td>\n",
       "      <td>-0.091329</td>\n",
       "    </tr>\n",
       "    <tr>\n",
       "      <th>3</th>\n",
       "      <td>0.035615</td>\n",
       "      <td>0.094317</td>\n",
       "      <td>0.005448</td>\n",
       "      <td>-0.011407</td>\n",
       "      <td>0.117748</td>\n",
       "      <td>-0.000657</td>\n",
       "      <td>-0.051511</td>\n",
       "      <td>-0.078509</td>\n",
       "      <td>-0.098564</td>\n",
       "      <td>-0.104803</td>\n",
       "      <td>...</td>\n",
       "      <td>-0.097748</td>\n",
       "      <td>-0.048776</td>\n",
       "      <td>0.076120</td>\n",
       "      <td>-0.025367</td>\n",
       "      <td>-0.030122</td>\n",
       "      <td>-0.127232</td>\n",
       "      <td>-0.057834</td>\n",
       "      <td>0.003236</td>\n",
       "      <td>0.015567</td>\n",
       "      <td>-0.126875</td>\n",
       "    </tr>\n",
       "    <tr>\n",
       "      <th>4</th>\n",
       "      <td>0.045862</td>\n",
       "      <td>-0.054553</td>\n",
       "      <td>-0.026617</td>\n",
       "      <td>0.029091</td>\n",
       "      <td>0.113962</td>\n",
       "      <td>-0.040930</td>\n",
       "      <td>-0.007053</td>\n",
       "      <td>-0.067791</td>\n",
       "      <td>-0.030211</td>\n",
       "      <td>-0.055749</td>\n",
       "      <td>...</td>\n",
       "      <td>0.039236</td>\n",
       "      <td>-0.005336</td>\n",
       "      <td>0.096609</td>\n",
       "      <td>-0.030028</td>\n",
       "      <td>0.083408</td>\n",
       "      <td>-0.039091</td>\n",
       "      <td>-0.055249</td>\n",
       "      <td>0.049674</td>\n",
       "      <td>0.116016</td>\n",
       "      <td>-0.093649</td>\n",
       "    </tr>\n",
       "  </tbody>\n",
       "</table>\n",
       "<p>5 rows × 128 columns</p>\n",
       "</div>"
      ],
      "text/plain": [
       "        0         1         2         3         4         5         6    \\\n",
       "0  0.090017 -0.025276  0.009186  0.144655 -0.026491 -0.037248 -0.032797   \n",
       "1  0.069134  0.017155  0.052945  0.160981  0.049915  0.009456 -0.045622   \n",
       "2 -0.022203  0.065622  0.004288  0.137257 -0.026252 -0.097056 -0.000759   \n",
       "3  0.035615  0.094317  0.005448 -0.011407  0.117748 -0.000657 -0.051511   \n",
       "4  0.045862 -0.054553 -0.026617  0.029091  0.113962 -0.040930 -0.007053   \n",
       "\n",
       "        7         8         9    ...       118       119       120       121  \\\n",
       "0 -0.084750 -0.054650 -0.033314  ... -0.027615 -0.028252 -0.026290 -0.030576   \n",
       "1 -0.029025 -0.080332 -0.017462  ... -0.051398 -0.055297 -0.076094 -0.016771   \n",
       "2  0.027776 -0.075071 -0.070744  ...  0.027640 -0.017144  0.020173 -0.029443   \n",
       "3 -0.078509 -0.098564 -0.104803  ... -0.097748 -0.048776  0.076120 -0.025367   \n",
       "4 -0.067791 -0.030211 -0.055749  ...  0.039236 -0.005336  0.096609 -0.030028   \n",
       "\n",
       "        122       123       124       125       126       127  \n",
       "0  0.048431 -0.021823 -0.144377  0.059747  0.097021  0.035418  \n",
       "1  0.041782 -0.002139 -0.146800  0.111925  0.094769  0.096508  \n",
       "2 -0.052433  0.017350 -0.085394 -0.020283 -0.015167 -0.091329  \n",
       "3 -0.030122 -0.127232 -0.057834  0.003236  0.015567 -0.126875  \n",
       "4  0.083408 -0.039091 -0.055249  0.049674  0.116016 -0.093649  \n",
       "\n",
       "[5 rows x 128 columns]"
      ]
     },
     "execution_count": 7,
     "metadata": {},
     "output_type": "execute_result"
    }
   ],
   "source": [
    "print(\"Transform smiles to rdkit mol object\")\n",
    "data['mol'] = data['smiles'].apply(lambda x: Chem.MolFromSmiles(x))      \n",
    "print(\"Create Networkx object from RDKit\")\n",
    "data['graph'] = data['mol'].apply(lambda x: mol_to_nx(x))\n",
    "print(\"Create graph embedding\")\n",
    "model = Graph2Vec()\n",
    "model.fit(data['graph'])\n",
    "hiv_graph2vec = model.get_embedding()\n",
    "hiv_graph2vec = pd.DataFrame(hiv_graph2vec)\n",
    "hiv_graph2vec.head()"
   ]
  },
  {
   "cell_type": "code",
   "execution_count": 8,
   "metadata": {
    "pycharm": {
     "name": "#%%\n"
    }
   },
   "outputs": [
    {
     "name": "stdout",
     "output_type": "stream",
     "text": [
      "Original imbalanced dataset\n",
      "0    40426\n",
      "1     1487\n",
      "Name: HIV_active, dtype: int64\n"
     ]
    }
   ],
   "source": [
    "# Data Balancing\n",
    "print('Original imbalanced dataset')\n",
    "print(data['HIV_active'].value_counts())"
   ]
  },
  {
   "cell_type": "code",
   "execution_count": 9,
   "metadata": {
    "pycharm": {
     "name": "#%%\n"
    }
   },
   "outputs": [
    {
     "name": "stdout",
     "output_type": "stream",
     "text": [
      "Synthetic balanced dataset\n",
      "0    40426\n",
      "1    40426\n",
      "Name: HIV_active, dtype: int64\n"
     ]
    }
   ],
   "source": [
    "# Data Balancing\n",
    "X = hiv_graph2vec\n",
    "y = data['HIV_active']\n",
    "oversample = SMOTE()\n",
    "X, y = oversample.fit_resample(X, y)\n",
    "print('Synthetic balanced dataset')\n",
    "print(y.value_counts())\n",
    "\n",
    "X_train, X_test, y_train, y_test = train_test_split(X, y, test_size = 0.2)"
   ]
  },
  {
   "cell_type": "code",
   "execution_count": 10,
   "metadata": {},
   "outputs": [
    {
     "name": "stdout",
     "output_type": "stream",
     "text": [
      "Synthetic balanced dataset\n",
      "0    40426\n",
      "1    40426\n",
      "Name: HIV_active, dtype: int64\n"
     ]
    }
   ],
   "source": [
    "# Data Balancing\n",
    "X = hiv_graph2vec\n",
    "y = data['HIV_active']\n",
    "oversample = SMOTE()\n",
    "X, y = oversample.fit_resample(X, y)\n",
    "print('Synthetic balanced dataset')\n",
    "print(y.value_counts())\n",
    "\n",
    "X_train, X_test, y_train, y_test = train_test_split(X, y, test_size = 0.2)"
   ]
  },
  {
   "cell_type": "code",
   "execution_count": 13,
   "metadata": {
    "pycharm": {
     "name": "#%%\n"
    }
   },
   "outputs": [
    {
     "name": "stdout",
     "output_type": "stream",
     "text": [
      "Epoch 1/10\n",
      "1011/1011 [==============================] - 3s 3ms/step - loss: 0.5884 - accuracy: 0.6679\n",
      "Epoch 2/10\n",
      "1011/1011 [==============================] - 3s 3ms/step - loss: 0.5200 - accuracy: 0.7269\n",
      "Epoch 3/10\n",
      "1011/1011 [==============================] - 3s 3ms/step - loss: 0.4722 - accuracy: 0.7641\n",
      "Epoch 4/10\n",
      "1011/1011 [==============================] - 3s 3ms/step - loss: 0.4355 - accuracy: 0.7899\n",
      "Epoch 5/10\n",
      "1011/1011 [==============================] - 3s 3ms/step - loss: 0.4029 - accuracy: 0.8102\n",
      "Epoch 6/10\n",
      "1011/1011 [==============================] - 3s 3ms/step - loss: 0.3765 - accuracy: 0.8258\n",
      "Epoch 7/10\n",
      "1011/1011 [==============================] - 3s 3ms/step - loss: 0.3507 - accuracy: 0.8417\n",
      "Epoch 8/10\n",
      "1011/1011 [==============================] - 3s 3ms/step - loss: 0.3278 - accuracy: 0.8572\n",
      "Epoch 9/10\n",
      "1011/1011 [==============================] - 3s 3ms/step - loss: 0.3080 - accuracy: 0.8670\n",
      "Epoch 10/10\n",
      "1011/1011 [==============================] - 3s 3ms/step - loss: 0.2873 - accuracy: 0.8782\n"
     ]
    },
    {
     "data": {
      "text/plain": [
       "<keras.callbacks.History at 0x2819be8d700>"
      ]
     },
     "execution_count": 13,
     "metadata": {},
     "output_type": "execute_result"
    }
   ],
   "source": [
    "# DL Model\n",
    "model = Sequential()\n",
    "model.add(Dense(128, input_dim=128, activation='relu'))\n",
    "model.add(Dense(64, activation='relu'))\n",
    "model.add(Dense(12, activation='relu'))\n",
    "model.add(Dense(1, activation='sigmoid'))\n",
    "# compile the keras model\n",
    "model.compile(loss='binary_crossentropy', optimizer='adam', metrics=['accuracy'])\n",
    "# fit the keras model on the dataset\n",
    "model.fit(X_train, y_train, epochs=10, batch_size=64)"
   ]
  },
  {
   "cell_type": "code",
   "execution_count": 14,
   "metadata": {
    "pycharm": {
     "name": "#%%\n"
    }
   },
   "outputs": [
    {
     "name": "stdout",
     "output_type": "stream",
     "text": [
      "506/506 [==============================] - 1s 2ms/step - loss: 0.3095 - accuracy: 0.8621\n",
      "Accuracy: 86.21\n"
     ]
    }
   ],
   "source": [
    "# evaluate the keras model\n",
    "_, accuracy = model.evaluate(X_test, y_test)\n",
    "print('Accuracy: %.2f' % (accuracy*100))"
   ]
  },
  {
   "cell_type": "code",
   "execution_count": 15,
   "metadata": {
    "pycharm": {
     "name": "#%%\n"
    }
   },
   "outputs": [
    {
     "data": {
      "text/plain": [
       "array([[1],\n",
       "       [1],\n",
       "       [0],\n",
       "       ...,\n",
       "       [1],\n",
       "       [1],\n",
       "       [0]])"
      ]
     },
     "execution_count": 15,
     "metadata": {},
     "output_type": "execute_result"
    }
   ],
   "source": [
    "# make probability predictions with the model\n",
    "predictions = model.predict(X_test)\n",
    "# make class predictions with the model\n",
    "pred_class = (predictions > 0.5).astype(int)\n",
    "pred_class"
   ]
  },
  {
   "cell_type": "code",
   "execution_count": null,
   "metadata": {
    "pycharm": {
     "name": "#%%\n"
    }
   },
   "outputs": [],
   "source": []
  }
 ],
 "metadata": {
  "kernelspec": {
   "display_name": "Python 3 (ipykernel)",
   "language": "python",
   "name": "python3"
  },
  "language_info": {
   "codemirror_mode": {
    "name": "ipython",
    "version": 3
   },
   "file_extension": ".py",
   "mimetype": "text/x-python",
   "name": "python",
   "nbconvert_exporter": "python",
   "pygments_lexer": "ipython3",
   "version": "3.9.12"
  }
 },
 "nbformat": 4,
 "nbformat_minor": 1
}