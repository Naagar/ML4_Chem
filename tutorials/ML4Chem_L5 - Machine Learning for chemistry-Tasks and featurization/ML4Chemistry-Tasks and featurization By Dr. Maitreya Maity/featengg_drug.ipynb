{
 "cells": [
  {
   "cell_type": "code",
   "execution_count": null,
   "metadata": {},
   "outputs": [],
   "source": [
    "import pandas as pd\n",
    "import numpy as np\n",
    "from rdkit import Chem\n",
    "from rdkit.Chem import Descriptors\n",
    "from sklearn.model_selection import train_test_split\n",
    "from sklearn import linear_model\n",
    "from sklearn.metrics import mean_squared_error"
   ]
  },
  {
   "cell_type": "code",
   "execution_count": null,
   "metadata": {
    "pycharm": {
     "name": "#%%\n"
    }
   },
   "outputs": [],
   "source": [
    "# Read dataset\n",
    "use_cols = [\n",
    "    'measured log(solubility:mol/L)', 'SMILES', 'Quality'\n",
    "]\n",
    "data = pd.read_csv('delaney.csv', usecols=use_cols)\n",
    "print(data.shape)\n",
    "print(data.head(10))"
   ]
  },
  {
   "cell_type": "code",
   "execution_count": null,
   "metadata": {
    "pycharm": {
     "name": "#%%\n"
    },
    "scrolled": true
   },
   "outputs": [],
   "source": [
    "# Check for missing data\n",
    "\n",
    "for colname in use_cols:\n",
    "    print('Column name - {}, Null values found - {}, Count - {}'.format(colname,data[colname].isnull().values.any(),data[colname].isnull().sum()))\n",
    "\n",
    "data['Quality'].fillna(data['Quality'].value_counts().idxmax(), inplace=True)\n",
    "data.head(10)"
   ]
  },
  {
   "cell_type": "code",
   "execution_count": null,
   "metadata": {
    "pycharm": {
     "name": "#%%\n"
    }
   },
   "outputs": [],
   "source": [
    "# Convert SMILES to RDKit object\n",
    "mol_list= []\n",
    "for element in data.SMILES:\n",
    "  mol = Chem.MolFromSmiles(element)\n",
    "  mol_list.append(mol)"
   ]
  },
  {
   "cell_type": "code",
   "execution_count": null,
   "metadata": {
    "pycharm": {
     "name": "#%%\n"
    }
   },
   "outputs": [],
   "source": [
    "# Calculate molecular descriptors from SMILES\n",
    "'''\n",
    "cLogP (Octanol-water partition coefficient)\n",
    "MW (Molecular weight)\n",
    "RB (Number of rotatable bonds)\n",
    "AP (Aromatic proportion = number of aromatic atoms / number of heavy atoms)\n",
    "'''\n",
    "\n",
    "def generate_MolDes(smiles, verbose=False):\n",
    "    '''\n",
    "    Inspired by: https://codeocean.com/explore/capsules?query=tag:data-curation\n",
    "                    https://towardsdatascience.com/how-to-use-machine-learning-for-drug-discovery-1ccb5fdf81ad#885b\n",
    "     '''\n",
    "    moldata= []\n",
    "    for elem in smiles:\n",
    "        mol=Chem.MolFromSmiles(elem)\n",
    "        moldata.append(mol)\n",
    "\n",
    "    baseData= np.arange(1,1)\n",
    "    i=0\n",
    "    for mol in moldata:\n",
    "\n",
    "        desc_MolLogP = Descriptors.MolLogP(mol)\n",
    "        desc_MolWt = Descriptors.MolWt(mol)\n",
    "        desc_NumRotatableBonds = Descriptors.NumRotatableBonds(mol)\n",
    "\n",
    "        row = np.array([desc_MolLogP,\n",
    "                        desc_MolWt,\n",
    "                        desc_NumRotatableBonds])\n",
    "\n",
    "        if(i==0):\n",
    "            baseData=row\n",
    "        else:\n",
    "            baseData=np.vstack([baseData, row])\n",
    "        i=i+1\n",
    "\n",
    "    columnNames=[\"MolLogP\",\"MolWt\",\"NumRotatableBonds\"]\n",
    "    descriptors = pd.DataFrame(data=baseData,columns=columnNames)\n",
    "\n",
    "    return descriptors\n",
    "\n",
    "def AromaticAtoms(m):\n",
    "  aromatic_atoms = [m.GetAtomWithIdx(i).GetIsAromatic() for i in range(m.GetNumAtoms())]\n",
    "  aa_count = []\n",
    "  for i in aromatic_atoms:\n",
    "    if i==True:\n",
    "      aa_count.append(1)\n",
    "  sum_aa_count = sum(aa_count)\n",
    "  return sum_aa_count"
   ]
  },
  {
   "cell_type": "code",
   "execution_count": null,
   "metadata": {
    "pycharm": {
     "name": "#%%\n"
    }
   },
   "outputs": [],
   "source": [
    "# Calculate cLogP,MW,RB\n",
    "desc_df = generate_MolDes(data.SMILES)\n",
    "# Calculate AP\n",
    "desc_AromaticProportion = [AromaticAtoms(element)/Descriptors.HeavyAtomCount(element) for element in mol_list]\n",
    "desc_df['Aromatic proportion'] = desc_AromaticProportion\n",
    "print(desc_df.head(10))"
   ]
  },
  {
   "cell_type": "code",
   "execution_count": null,
   "metadata": {
    "pycharm": {
     "name": "#%%\n"
    }
   },
   "outputs": [],
   "source": [
    "# Create X and Y\n",
    "encoded_columns = pd.get_dummies(data['Quality'])\n",
    "X = pd.concat([desc_df,encoded_columns], axis=1)\n",
    "Y = data['measured log(solubility:mol/L)']\n",
    "\n",
    "print(X.head(10))"
   ]
  },
  {
   "cell_type": "code",
   "execution_count": null,
   "metadata": {
    "pycharm": {
     "name": "#%%\n"
    }
   },
   "outputs": [],
   "source": [
    "# Linear Regression Model Train and Test\n",
    "X_train, X_test, Y_train, Y_test = train_test_split(X, Y, test_size=0.2, random_state=42)\n",
    "\n",
    "model = linear_model.LinearRegression()\n",
    "model.fit(X_train, Y_train)\n",
    "Y_pred_train = model.predict(X_train)\n",
    "print('Coefficients:', model.coef_)\n",
    "print('Intercept:', model.intercept_)\n",
    "print('Mean squared error (MSE): %.2f'% mean_squared_error(Y_train, Y_pred_train))"
   ]
  },
  {
   "cell_type": "code",
   "execution_count": null,
   "metadata": {
    "pycharm": {
     "name": "#%%\n"
    }
   },
   "outputs": [],
   "source": []
  },
  {
   "cell_type": "code",
   "execution_count": null,
   "metadata": {
    "pycharm": {
     "name": "#%%\n"
    }
   },
   "outputs": [],
   "source": []
  },
  {
   "cell_type": "code",
   "execution_count": null,
   "metadata": {
    "pycharm": {
     "name": "#%%\n"
    }
   },
   "outputs": [],
   "source": []
  }
 ],
 "metadata": {
  "kernelspec": {
   "display_name": "Python 3 (ipykernel)",
   "language": "python",
   "name": "python3"
  },
  "language_info": {
   "codemirror_mode": {
    "name": "ipython",
    "version": 3
   },
   "file_extension": ".py",
   "mimetype": "text/x-python",
   "name": "python",
   "nbconvert_exporter": "python",
   "pygments_lexer": "ipython3",
   "version": "3.9.12"
  }
 },
 "nbformat": 4,
 "nbformat_minor": 1
}