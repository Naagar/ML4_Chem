{
  "nbformat": 4,
  "nbformat_minor": 0,
  "metadata": {
    "colab": {
      "name": "ML4Chem_Lab_2_PandasPlotting.ipynb",
      "provenance": [],
      "collapsed_sections": []
    },
    "kernelspec": {
      "name": "python3",
      "display_name": "Python 3"
    },
    "language_info": {
      "name": "python"
    }
  },
  "cells": [
    {
      "cell_type": "markdown",
      "source": [
        "## 1. Introduction to Exploratory Data Analysis"
      ],
      "metadata": {
        "id": "yGC5EN_6KOFU"
      }
    },
    {
      "cell_type": "markdown",
      "source": [
        "**What is Exploratory Data Analysis ?**\n",
        "\n",
        "Exploratory Data Analysis or (EDA) is understanding the data sets by summarizing their main characteristics often plotting them visually. This step is very important especially when we arrive at modeling the data in order to apply Machine learning. Plotting in EDA consists of Histograms, Box plot, Scatter plot and many more. It often takes much time to explore the data. Through the process of EDA, we can ask to define the problem statement or definition on our data set which is very important."
      ],
      "metadata": {
        "id": "qJ8xPpUJKQx3"
      }
    },
    {
      "cell_type": "markdown",
      "source": [
        "**How to perform Exploratory Data Analysis ?**\n",
        "\n",
        "This is one such question that everyone is keen on knowing the answer. Well, the answer is it depends on the data set that you are working. There is no one method or common methods in order to perform EDA, whereas in this tutorial you can understand some common methods and plots that would be used in the EDA process."
      ],
      "metadata": {
        "id": "7jbpWAr8KRu3"
      }
    },
    {
      "cell_type": "code",
      "execution_count": null,
      "metadata": {
        "id": "NWw3soGkeU2q"
      },
      "outputs": [],
      "source": [
        "import pandas as pd"
      ]
    },
    {
      "cell_type": "markdown",
      "source": [
        "## 2. Reading in and Selecting from DataFrames "
      ],
      "metadata": {
        "id": "o4lLhv5xTeXF"
      }
    },
    {
      "cell_type": "markdown",
      "source": [
        "Most datasets will be available in one of few formats:\n",
        "* CSV file (Comma Separated Values): These files mimic an excel spreadsheet, with the different rows on each separate line and the columns separated by commas or semicolons or other symbol on the same line. `pd.read_csv` can be used to read in the file.\n",
        "* JSON file (Java Script Object Notation): This format consists of object types (key value pairs) in curly braces, and arrays in square braces, and example is as follows: `{type:solvation_data, data:[{SoluteSMILES:\"CCC(C)N\", SolventSMILES:\"CCCCCCC\", \"DeltaG_Solv\":-3.34}, {SoluteSMILES:\"CC(CO)O\", SolventSMILES:\"CC(CO)O\", \"DeltaG_Solv\":-8.58}]}`. `pd.read_json` can be used to read in the file. "
      ],
      "metadata": {
        "id": "XxUaNPs64SSd"
      }
    },
    {
      "cell_type": "code",
      "source": [
        "df = pd.read_csv(\"solvatum.csv\", sep=\";\")"
      ],
      "metadata": {
        "id": "us_-5I4HTkKR",
        "outputId": "1894674f-86c2-4b54-b781-d720ee9ed2a4",
        "colab": {
          "base_uri": "https://localhost:8080/",
          "height": 329
        }
      },
      "execution_count": null,
      "outputs": [
        {
          "output_type": "error",
          "ename": "FileNotFoundError",
          "evalue": "ignored",
          "traceback": [
            "\u001b[0;31m---------------------------------------------------------------------------\u001b[0m",
            "\u001b[0;31mFileNotFoundError\u001b[0m                         Traceback (most recent call last)",
            "\u001b[0;32m<ipython-input-2-7aec1636ac35>\u001b[0m in \u001b[0;36m<module>\u001b[0;34m()\u001b[0m\n\u001b[0;32m----> 1\u001b[0;31m \u001b[0mdf\u001b[0m \u001b[0;34m=\u001b[0m \u001b[0mpd\u001b[0m\u001b[0;34m.\u001b[0m\u001b[0mread_csv\u001b[0m\u001b[0;34m(\u001b[0m\u001b[0;34m\"solvatum.csv\"\u001b[0m\u001b[0;34m,\u001b[0m \u001b[0msep\u001b[0m\u001b[0;34m=\u001b[0m\u001b[0;34m\";\"\u001b[0m\u001b[0;34m)\u001b[0m\u001b[0;34m\u001b[0m\u001b[0;34m\u001b[0m\u001b[0m\n\u001b[0m",
            "\u001b[0;32m/usr/local/lib/python3.7/dist-packages/pandas/util/_decorators.py\u001b[0m in \u001b[0;36mwrapper\u001b[0;34m(*args, **kwargs)\u001b[0m\n\u001b[1;32m    309\u001b[0m                     \u001b[0mstacklevel\u001b[0m\u001b[0;34m=\u001b[0m\u001b[0mstacklevel\u001b[0m\u001b[0;34m,\u001b[0m\u001b[0;34m\u001b[0m\u001b[0;34m\u001b[0m\u001b[0m\n\u001b[1;32m    310\u001b[0m                 )\n\u001b[0;32m--> 311\u001b[0;31m             \u001b[0;32mreturn\u001b[0m \u001b[0mfunc\u001b[0m\u001b[0;34m(\u001b[0m\u001b[0;34m*\u001b[0m\u001b[0margs\u001b[0m\u001b[0;34m,\u001b[0m \u001b[0;34m**\u001b[0m\u001b[0mkwargs\u001b[0m\u001b[0;34m)\u001b[0m\u001b[0;34m\u001b[0m\u001b[0;34m\u001b[0m\u001b[0m\n\u001b[0m\u001b[1;32m    312\u001b[0m \u001b[0;34m\u001b[0m\u001b[0m\n\u001b[1;32m    313\u001b[0m         \u001b[0;32mreturn\u001b[0m \u001b[0mwrapper\u001b[0m\u001b[0;34m\u001b[0m\u001b[0;34m\u001b[0m\u001b[0m\n",
            "\u001b[0;32m/usr/local/lib/python3.7/dist-packages/pandas/io/parsers/readers.py\u001b[0m in \u001b[0;36mread_csv\u001b[0;34m(filepath_or_buffer, sep, delimiter, header, names, index_col, usecols, squeeze, prefix, mangle_dupe_cols, dtype, engine, converters, true_values, false_values, skipinitialspace, skiprows, skipfooter, nrows, na_values, keep_default_na, na_filter, verbose, skip_blank_lines, parse_dates, infer_datetime_format, keep_date_col, date_parser, dayfirst, cache_dates, iterator, chunksize, compression, thousands, decimal, lineterminator, quotechar, quoting, doublequote, escapechar, comment, encoding, encoding_errors, dialect, error_bad_lines, warn_bad_lines, on_bad_lines, delim_whitespace, low_memory, memory_map, float_precision, storage_options)\u001b[0m\n\u001b[1;32m    584\u001b[0m     \u001b[0mkwds\u001b[0m\u001b[0;34m.\u001b[0m\u001b[0mupdate\u001b[0m\u001b[0;34m(\u001b[0m\u001b[0mkwds_defaults\u001b[0m\u001b[0;34m)\u001b[0m\u001b[0;34m\u001b[0m\u001b[0;34m\u001b[0m\u001b[0m\n\u001b[1;32m    585\u001b[0m \u001b[0;34m\u001b[0m\u001b[0m\n\u001b[0;32m--> 586\u001b[0;31m     \u001b[0;32mreturn\u001b[0m \u001b[0m_read\u001b[0m\u001b[0;34m(\u001b[0m\u001b[0mfilepath_or_buffer\u001b[0m\u001b[0;34m,\u001b[0m \u001b[0mkwds\u001b[0m\u001b[0;34m)\u001b[0m\u001b[0;34m\u001b[0m\u001b[0;34m\u001b[0m\u001b[0m\n\u001b[0m\u001b[1;32m    587\u001b[0m \u001b[0;34m\u001b[0m\u001b[0m\n\u001b[1;32m    588\u001b[0m \u001b[0;34m\u001b[0m\u001b[0m\n",
            "\u001b[0;32m/usr/local/lib/python3.7/dist-packages/pandas/io/parsers/readers.py\u001b[0m in \u001b[0;36m_read\u001b[0;34m(filepath_or_buffer, kwds)\u001b[0m\n\u001b[1;32m    480\u001b[0m \u001b[0;34m\u001b[0m\u001b[0m\n\u001b[1;32m    481\u001b[0m     \u001b[0;31m# Create the parser.\u001b[0m\u001b[0;34m\u001b[0m\u001b[0;34m\u001b[0m\u001b[0;34m\u001b[0m\u001b[0m\n\u001b[0;32m--> 482\u001b[0;31m     \u001b[0mparser\u001b[0m \u001b[0;34m=\u001b[0m \u001b[0mTextFileReader\u001b[0m\u001b[0;34m(\u001b[0m\u001b[0mfilepath_or_buffer\u001b[0m\u001b[0;34m,\u001b[0m \u001b[0;34m**\u001b[0m\u001b[0mkwds\u001b[0m\u001b[0;34m)\u001b[0m\u001b[0;34m\u001b[0m\u001b[0;34m\u001b[0m\u001b[0m\n\u001b[0m\u001b[1;32m    483\u001b[0m \u001b[0;34m\u001b[0m\u001b[0m\n\u001b[1;32m    484\u001b[0m     \u001b[0;32mif\u001b[0m \u001b[0mchunksize\u001b[0m \u001b[0;32mor\u001b[0m \u001b[0miterator\u001b[0m\u001b[0;34m:\u001b[0m\u001b[0;34m\u001b[0m\u001b[0;34m\u001b[0m\u001b[0m\n",
            "\u001b[0;32m/usr/local/lib/python3.7/dist-packages/pandas/io/parsers/readers.py\u001b[0m in \u001b[0;36m__init__\u001b[0;34m(self, f, engine, **kwds)\u001b[0m\n\u001b[1;32m    809\u001b[0m             \u001b[0mself\u001b[0m\u001b[0;34m.\u001b[0m\u001b[0moptions\u001b[0m\u001b[0;34m[\u001b[0m\u001b[0;34m\"has_index_names\"\u001b[0m\u001b[0;34m]\u001b[0m \u001b[0;34m=\u001b[0m \u001b[0mkwds\u001b[0m\u001b[0;34m[\u001b[0m\u001b[0;34m\"has_index_names\"\u001b[0m\u001b[0;34m]\u001b[0m\u001b[0;34m\u001b[0m\u001b[0;34m\u001b[0m\u001b[0m\n\u001b[1;32m    810\u001b[0m \u001b[0;34m\u001b[0m\u001b[0m\n\u001b[0;32m--> 811\u001b[0;31m         \u001b[0mself\u001b[0m\u001b[0;34m.\u001b[0m\u001b[0m_engine\u001b[0m \u001b[0;34m=\u001b[0m \u001b[0mself\u001b[0m\u001b[0;34m.\u001b[0m\u001b[0m_make_engine\u001b[0m\u001b[0;34m(\u001b[0m\u001b[0mself\u001b[0m\u001b[0;34m.\u001b[0m\u001b[0mengine\u001b[0m\u001b[0;34m)\u001b[0m\u001b[0;34m\u001b[0m\u001b[0;34m\u001b[0m\u001b[0m\n\u001b[0m\u001b[1;32m    812\u001b[0m \u001b[0;34m\u001b[0m\u001b[0m\n\u001b[1;32m    813\u001b[0m     \u001b[0;32mdef\u001b[0m \u001b[0mclose\u001b[0m\u001b[0;34m(\u001b[0m\u001b[0mself\u001b[0m\u001b[0;34m)\u001b[0m\u001b[0;34m:\u001b[0m\u001b[0;34m\u001b[0m\u001b[0;34m\u001b[0m\u001b[0m\n",
            "\u001b[0;32m/usr/local/lib/python3.7/dist-packages/pandas/io/parsers/readers.py\u001b[0m in \u001b[0;36m_make_engine\u001b[0;34m(self, engine)\u001b[0m\n\u001b[1;32m   1038\u001b[0m             )\n\u001b[1;32m   1039\u001b[0m         \u001b[0;31m# error: Too many arguments for \"ParserBase\"\u001b[0m\u001b[0;34m\u001b[0m\u001b[0;34m\u001b[0m\u001b[0;34m\u001b[0m\u001b[0m\n\u001b[0;32m-> 1040\u001b[0;31m         \u001b[0;32mreturn\u001b[0m \u001b[0mmapping\u001b[0m\u001b[0;34m[\u001b[0m\u001b[0mengine\u001b[0m\u001b[0;34m]\u001b[0m\u001b[0;34m(\u001b[0m\u001b[0mself\u001b[0m\u001b[0;34m.\u001b[0m\u001b[0mf\u001b[0m\u001b[0;34m,\u001b[0m \u001b[0;34m**\u001b[0m\u001b[0mself\u001b[0m\u001b[0;34m.\u001b[0m\u001b[0moptions\u001b[0m\u001b[0;34m)\u001b[0m  \u001b[0;31m# type: ignore[call-arg]\u001b[0m\u001b[0;34m\u001b[0m\u001b[0;34m\u001b[0m\u001b[0m\n\u001b[0m\u001b[1;32m   1041\u001b[0m \u001b[0;34m\u001b[0m\u001b[0m\n\u001b[1;32m   1042\u001b[0m     \u001b[0;32mdef\u001b[0m \u001b[0m_failover_to_python\u001b[0m\u001b[0;34m(\u001b[0m\u001b[0mself\u001b[0m\u001b[0;34m)\u001b[0m\u001b[0;34m:\u001b[0m\u001b[0;34m\u001b[0m\u001b[0;34m\u001b[0m\u001b[0m\n",
            "\u001b[0;32m/usr/local/lib/python3.7/dist-packages/pandas/io/parsers/c_parser_wrapper.py\u001b[0m in \u001b[0;36m__init__\u001b[0;34m(self, src, **kwds)\u001b[0m\n\u001b[1;32m     49\u001b[0m \u001b[0;34m\u001b[0m\u001b[0m\n\u001b[1;32m     50\u001b[0m         \u001b[0;31m# open handles\u001b[0m\u001b[0;34m\u001b[0m\u001b[0;34m\u001b[0m\u001b[0;34m\u001b[0m\u001b[0m\n\u001b[0;32m---> 51\u001b[0;31m         \u001b[0mself\u001b[0m\u001b[0;34m.\u001b[0m\u001b[0m_open_handles\u001b[0m\u001b[0;34m(\u001b[0m\u001b[0msrc\u001b[0m\u001b[0;34m,\u001b[0m \u001b[0mkwds\u001b[0m\u001b[0;34m)\u001b[0m\u001b[0;34m\u001b[0m\u001b[0;34m\u001b[0m\u001b[0m\n\u001b[0m\u001b[1;32m     52\u001b[0m         \u001b[0;32massert\u001b[0m \u001b[0mself\u001b[0m\u001b[0;34m.\u001b[0m\u001b[0mhandles\u001b[0m \u001b[0;32mis\u001b[0m \u001b[0;32mnot\u001b[0m \u001b[0;32mNone\u001b[0m\u001b[0;34m\u001b[0m\u001b[0;34m\u001b[0m\u001b[0m\n\u001b[1;32m     53\u001b[0m \u001b[0;34m\u001b[0m\u001b[0m\n",
            "\u001b[0;32m/usr/local/lib/python3.7/dist-packages/pandas/io/parsers/base_parser.py\u001b[0m in \u001b[0;36m_open_handles\u001b[0;34m(self, src, kwds)\u001b[0m\n\u001b[1;32m    227\u001b[0m             \u001b[0mmemory_map\u001b[0m\u001b[0;34m=\u001b[0m\u001b[0mkwds\u001b[0m\u001b[0;34m.\u001b[0m\u001b[0mget\u001b[0m\u001b[0;34m(\u001b[0m\u001b[0;34m\"memory_map\"\u001b[0m\u001b[0;34m,\u001b[0m \u001b[0;32mFalse\u001b[0m\u001b[0;34m)\u001b[0m\u001b[0;34m,\u001b[0m\u001b[0;34m\u001b[0m\u001b[0;34m\u001b[0m\u001b[0m\n\u001b[1;32m    228\u001b[0m             \u001b[0mstorage_options\u001b[0m\u001b[0;34m=\u001b[0m\u001b[0mkwds\u001b[0m\u001b[0;34m.\u001b[0m\u001b[0mget\u001b[0m\u001b[0;34m(\u001b[0m\u001b[0;34m\"storage_options\"\u001b[0m\u001b[0;34m,\u001b[0m \u001b[0;32mNone\u001b[0m\u001b[0;34m)\u001b[0m\u001b[0;34m,\u001b[0m\u001b[0;34m\u001b[0m\u001b[0;34m\u001b[0m\u001b[0m\n\u001b[0;32m--> 229\u001b[0;31m             \u001b[0merrors\u001b[0m\u001b[0;34m=\u001b[0m\u001b[0mkwds\u001b[0m\u001b[0;34m.\u001b[0m\u001b[0mget\u001b[0m\u001b[0;34m(\u001b[0m\u001b[0;34m\"encoding_errors\"\u001b[0m\u001b[0;34m,\u001b[0m \u001b[0;34m\"strict\"\u001b[0m\u001b[0;34m)\u001b[0m\u001b[0;34m,\u001b[0m\u001b[0;34m\u001b[0m\u001b[0;34m\u001b[0m\u001b[0m\n\u001b[0m\u001b[1;32m    230\u001b[0m         )\n\u001b[1;32m    231\u001b[0m \u001b[0;34m\u001b[0m\u001b[0m\n",
            "\u001b[0;32m/usr/local/lib/python3.7/dist-packages/pandas/io/common.py\u001b[0m in \u001b[0;36mget_handle\u001b[0;34m(path_or_buf, mode, encoding, compression, memory_map, is_text, errors, storage_options)\u001b[0m\n\u001b[1;32m    705\u001b[0m                 \u001b[0mencoding\u001b[0m\u001b[0;34m=\u001b[0m\u001b[0mioargs\u001b[0m\u001b[0;34m.\u001b[0m\u001b[0mencoding\u001b[0m\u001b[0;34m,\u001b[0m\u001b[0;34m\u001b[0m\u001b[0;34m\u001b[0m\u001b[0m\n\u001b[1;32m    706\u001b[0m                 \u001b[0merrors\u001b[0m\u001b[0;34m=\u001b[0m\u001b[0merrors\u001b[0m\u001b[0;34m,\u001b[0m\u001b[0;34m\u001b[0m\u001b[0;34m\u001b[0m\u001b[0m\n\u001b[0;32m--> 707\u001b[0;31m                 \u001b[0mnewline\u001b[0m\u001b[0;34m=\u001b[0m\u001b[0;34m\"\"\u001b[0m\u001b[0;34m,\u001b[0m\u001b[0;34m\u001b[0m\u001b[0;34m\u001b[0m\u001b[0m\n\u001b[0m\u001b[1;32m    708\u001b[0m             )\n\u001b[1;32m    709\u001b[0m         \u001b[0;32melse\u001b[0m\u001b[0;34m:\u001b[0m\u001b[0;34m\u001b[0m\u001b[0;34m\u001b[0m\u001b[0m\n",
            "\u001b[0;31mFileNotFoundError\u001b[0m: [Errno 2] No such file or directory: 'solvatum.csv'"
          ]
        }
      ]
    },
    {
      "cell_type": "markdown",
      "source": [
        "To view the first few rows of the dataset, we can print it's head, by calling the `df.head(number_of_rows)` function."
      ],
      "metadata": {
        "id": "uxSPBNeP59SO"
      }
    },
    {
      "cell_type": "code",
      "source": [
        "df.head(10)"
      ],
      "metadata": {
        "id": "13lif-wQUvu0",
        "outputId": "2f495bdf-e5c0-4e16-f77f-01a1ba346dae",
        "colab": {
          "base_uri": "https://localhost:8080/",
          "height": 363
        }
      },
      "execution_count": null,
      "outputs": [
        {
          "output_type": "execute_result",
          "data": {
            "text/plain": [
              "             Solute                Solvent SoluteSMILES SolventSMILES  \\\n",
              "0  HYDROGEN SULFIDE     4-FORMYLMORPHOLINE            S   C1COCCN1C=O   \n",
              "1  HYDROGEN SULFIDE            ACETIC ACID            S       CC(=O)O   \n",
              "2  HYDROGEN SULFIDE                ACETONE            S       CC(=O)C   \n",
              "3  HYDROGEN SULFIDE           BROMOBENZENE            S  c1ccc(cc1)Br   \n",
              "4  HYDROGEN SULFIDE          CHLOROBENZENE            S  c1ccc(cc1)Cl   \n",
              "5  HYDROGEN SULFIDE      DIMETHYLFORMAMIDE            S      CN(C)C=O   \n",
              "6  HYDROGEN SULFIDE        ETHYLENE GLYCOL            S        C(CO)O   \n",
              "7  HYDROGEN SULFIDE    N-METHYLPYRROLIDONE            S    CN1CCCC1=O   \n",
              "8  HYDROGEN SULFIDE  N,N-DIMETHYLACETAMIDE            S   CC(=O)N(C)C   \n",
              "9  HYDROGEN SULFIDE            PHENYLAMINE            S   c1ccc(cc1)N   \n",
              "\n",
              "   DeltaGsolv  \n",
              "0       -1.81  \n",
              "1       -1.50  \n",
              "2       -1.90  \n",
              "3       -1.30  \n",
              "4       -1.50  \n",
              "5       -2.20  \n",
              "6       -0.99  \n",
              "7       -2.25  \n",
              "8       -2.25  \n",
              "9       -1.70  "
            ],
            "text/html": [
              "\n",
              "  <div id=\"df-46a8d606-e6b9-4c84-8854-80e95d8ebc8c\">\n",
              "    <div class=\"colab-df-container\">\n",
              "      <div>\n",
              "<style scoped>\n",
              "    .dataframe tbody tr th:only-of-type {\n",
              "        vertical-align: middle;\n",
              "    }\n",
              "\n",
              "    .dataframe tbody tr th {\n",
              "        vertical-align: top;\n",
              "    }\n",
              "\n",
              "    .dataframe thead th {\n",
              "        text-align: right;\n",
              "    }\n",
              "</style>\n",
              "<table border=\"1\" class=\"dataframe\">\n",
              "  <thead>\n",
              "    <tr style=\"text-align: right;\">\n",
              "      <th></th>\n",
              "      <th>Solute</th>\n",
              "      <th>Solvent</th>\n",
              "      <th>SoluteSMILES</th>\n",
              "      <th>SolventSMILES</th>\n",
              "      <th>DeltaGsolv</th>\n",
              "    </tr>\n",
              "  </thead>\n",
              "  <tbody>\n",
              "    <tr>\n",
              "      <th>0</th>\n",
              "      <td>HYDROGEN SULFIDE</td>\n",
              "      <td>4-FORMYLMORPHOLINE</td>\n",
              "      <td>S</td>\n",
              "      <td>C1COCCN1C=O</td>\n",
              "      <td>-1.81</td>\n",
              "    </tr>\n",
              "    <tr>\n",
              "      <th>1</th>\n",
              "      <td>HYDROGEN SULFIDE</td>\n",
              "      <td>ACETIC ACID</td>\n",
              "      <td>S</td>\n",
              "      <td>CC(=O)O</td>\n",
              "      <td>-1.50</td>\n",
              "    </tr>\n",
              "    <tr>\n",
              "      <th>2</th>\n",
              "      <td>HYDROGEN SULFIDE</td>\n",
              "      <td>ACETONE</td>\n",
              "      <td>S</td>\n",
              "      <td>CC(=O)C</td>\n",
              "      <td>-1.90</td>\n",
              "    </tr>\n",
              "    <tr>\n",
              "      <th>3</th>\n",
              "      <td>HYDROGEN SULFIDE</td>\n",
              "      <td>BROMOBENZENE</td>\n",
              "      <td>S</td>\n",
              "      <td>c1ccc(cc1)Br</td>\n",
              "      <td>-1.30</td>\n",
              "    </tr>\n",
              "    <tr>\n",
              "      <th>4</th>\n",
              "      <td>HYDROGEN SULFIDE</td>\n",
              "      <td>CHLOROBENZENE</td>\n",
              "      <td>S</td>\n",
              "      <td>c1ccc(cc1)Cl</td>\n",
              "      <td>-1.50</td>\n",
              "    </tr>\n",
              "    <tr>\n",
              "      <th>5</th>\n",
              "      <td>HYDROGEN SULFIDE</td>\n",
              "      <td>DIMETHYLFORMAMIDE</td>\n",
              "      <td>S</td>\n",
              "      <td>CN(C)C=O</td>\n",
              "      <td>-2.20</td>\n",
              "    </tr>\n",
              "    <tr>\n",
              "      <th>6</th>\n",
              "      <td>HYDROGEN SULFIDE</td>\n",
              "      <td>ETHYLENE GLYCOL</td>\n",
              "      <td>S</td>\n",
              "      <td>C(CO)O</td>\n",
              "      <td>-0.99</td>\n",
              "    </tr>\n",
              "    <tr>\n",
              "      <th>7</th>\n",
              "      <td>HYDROGEN SULFIDE</td>\n",
              "      <td>N-METHYLPYRROLIDONE</td>\n",
              "      <td>S</td>\n",
              "      <td>CN1CCCC1=O</td>\n",
              "      <td>-2.25</td>\n",
              "    </tr>\n",
              "    <tr>\n",
              "      <th>8</th>\n",
              "      <td>HYDROGEN SULFIDE</td>\n",
              "      <td>N,N-DIMETHYLACETAMIDE</td>\n",
              "      <td>S</td>\n",
              "      <td>CC(=O)N(C)C</td>\n",
              "      <td>-2.25</td>\n",
              "    </tr>\n",
              "    <tr>\n",
              "      <th>9</th>\n",
              "      <td>HYDROGEN SULFIDE</td>\n",
              "      <td>PHENYLAMINE</td>\n",
              "      <td>S</td>\n",
              "      <td>c1ccc(cc1)N</td>\n",
              "      <td>-1.70</td>\n",
              "    </tr>\n",
              "  </tbody>\n",
              "</table>\n",
              "</div>\n",
              "      <button class=\"colab-df-convert\" onclick=\"convertToInteractive('df-46a8d606-e6b9-4c84-8854-80e95d8ebc8c')\"\n",
              "              title=\"Convert this dataframe to an interactive table.\"\n",
              "              style=\"display:none;\">\n",
              "        \n",
              "  <svg xmlns=\"http://www.w3.org/2000/svg\" height=\"24px\"viewBox=\"0 0 24 24\"\n",
              "       width=\"24px\">\n",
              "    <path d=\"M0 0h24v24H0V0z\" fill=\"none\"/>\n",
              "    <path d=\"M18.56 5.44l.94 2.06.94-2.06 2.06-.94-2.06-.94-.94-2.06-.94 2.06-2.06.94zm-11 1L8.5 8.5l.94-2.06 2.06-.94-2.06-.94L8.5 2.5l-.94 2.06-2.06.94zm10 10l.94 2.06.94-2.06 2.06-.94-2.06-.94-.94-2.06-.94 2.06-2.06.94z\"/><path d=\"M17.41 7.96l-1.37-1.37c-.4-.4-.92-.59-1.43-.59-.52 0-1.04.2-1.43.59L10.3 9.45l-7.72 7.72c-.78.78-.78 2.05 0 2.83L4 21.41c.39.39.9.59 1.41.59.51 0 1.02-.2 1.41-.59l7.78-7.78 2.81-2.81c.8-.78.8-2.07 0-2.86zM5.41 20L4 18.59l7.72-7.72 1.47 1.35L5.41 20z\"/>\n",
              "  </svg>\n",
              "      </button>\n",
              "      \n",
              "  <style>\n",
              "    .colab-df-container {\n",
              "      display:flex;\n",
              "      flex-wrap:wrap;\n",
              "      gap: 12px;\n",
              "    }\n",
              "\n",
              "    .colab-df-convert {\n",
              "      background-color: #E8F0FE;\n",
              "      border: none;\n",
              "      border-radius: 50%;\n",
              "      cursor: pointer;\n",
              "      display: none;\n",
              "      fill: #1967D2;\n",
              "      height: 32px;\n",
              "      padding: 0 0 0 0;\n",
              "      width: 32px;\n",
              "    }\n",
              "\n",
              "    .colab-df-convert:hover {\n",
              "      background-color: #E2EBFA;\n",
              "      box-shadow: 0px 1px 2px rgba(60, 64, 67, 0.3), 0px 1px 3px 1px rgba(60, 64, 67, 0.15);\n",
              "      fill: #174EA6;\n",
              "    }\n",
              "\n",
              "    [theme=dark] .colab-df-convert {\n",
              "      background-color: #3B4455;\n",
              "      fill: #D2E3FC;\n",
              "    }\n",
              "\n",
              "    [theme=dark] .colab-df-convert:hover {\n",
              "      background-color: #434B5C;\n",
              "      box-shadow: 0px 1px 3px 1px rgba(0, 0, 0, 0.15);\n",
              "      filter: drop-shadow(0px 1px 2px rgba(0, 0, 0, 0.3));\n",
              "      fill: #FFFFFF;\n",
              "    }\n",
              "  </style>\n",
              "\n",
              "      <script>\n",
              "        const buttonEl =\n",
              "          document.querySelector('#df-46a8d606-e6b9-4c84-8854-80e95d8ebc8c button.colab-df-convert');\n",
              "        buttonEl.style.display =\n",
              "          google.colab.kernel.accessAllowed ? 'block' : 'none';\n",
              "\n",
              "        async function convertToInteractive(key) {\n",
              "          const element = document.querySelector('#df-46a8d606-e6b9-4c84-8854-80e95d8ebc8c');\n",
              "          const dataTable =\n",
              "            await google.colab.kernel.invokeFunction('convertToInteractive',\n",
              "                                                     [key], {});\n",
              "          if (!dataTable) return;\n",
              "\n",
              "          const docLinkHtml = 'Like what you see? Visit the ' +\n",
              "            '<a target=\"_blank\" href=https://colab.research.google.com/notebooks/data_table.ipynb>data table notebook</a>'\n",
              "            + ' to learn more about interactive tables.';\n",
              "          element.innerHTML = '';\n",
              "          dataTable['output_type'] = 'display_data';\n",
              "          await google.colab.output.renderOutput(dataTable, element);\n",
              "          const docLink = document.createElement('div');\n",
              "          docLink.innerHTML = docLinkHtml;\n",
              "          element.appendChild(docLink);\n",
              "        }\n",
              "      </script>\n",
              "    </div>\n",
              "  </div>\n",
              "  "
            ]
          },
          "metadata": {},
          "execution_count": 10
        }
      ]
    },
    {
      "cell_type": "markdown",
      "source": [
        "We can extract any subset of rows or columns from the dataset.\n",
        "* `df[names-of-columns]` is used for selecting columns, where we may provide a single column or an array thereof\n",
        "* `df.iloc[id-of-rows]` can be used to select some rows in particular when the row-id for those rows is known"
      ],
      "metadata": {
        "id": "omi3j1lW6qS4"
      }
    },
    {
      "cell_type": "code",
      "source": [
        "df[['Solute', 'Solvent','DeltaGsolv']] "
      ],
      "metadata": {
        "id": "eSmWgUbsar6z",
        "outputId": "fc2ea1aa-daf1-4a6e-8cd4-3ec6eb2d13d2",
        "colab": {
          "base_uri": "https://localhost:8080/",
          "height": 424
        }
      },
      "execution_count": null,
      "outputs": [
        {
          "output_type": "execute_result",
          "data": {
            "text/plain": [
              "                Solute             Solvent  DeltaGsolv\n",
              "0     HYDROGEN SULFIDE  4-FORMYLMORPHOLINE       -1.81\n",
              "1     HYDROGEN SULFIDE         ACETIC ACID       -1.50\n",
              "2     HYDROGEN SULFIDE             ACETONE       -1.90\n",
              "3     HYDROGEN SULFIDE        BROMOBENZENE       -1.30\n",
              "4     HYDROGEN SULFIDE       CHLOROBENZENE       -1.50\n",
              "...                ...                 ...         ...\n",
              "6234   CARBON MONOXIDE      PROPYL ACETATE        0.83\n",
              "6235   CARBON MONOXIDE            PYRIDINE        1.27\n",
              "6236   CARBON MONOXIDE        TERT-BUTANOL        0.90\n",
              "6237   CARBON MONOXIDE             TOLUENE        1.01\n",
              "6238   CARBON MONOXIDE            UNDECANE        1.02\n",
              "\n",
              "[6239 rows x 3 columns]"
            ],
            "text/html": [
              "\n",
              "  <div id=\"df-35ff9e9e-1034-4822-82db-ab7f937ecd15\">\n",
              "    <div class=\"colab-df-container\">\n",
              "      <div>\n",
              "<style scoped>\n",
              "    .dataframe tbody tr th:only-of-type {\n",
              "        vertical-align: middle;\n",
              "    }\n",
              "\n",
              "    .dataframe tbody tr th {\n",
              "        vertical-align: top;\n",
              "    }\n",
              "\n",
              "    .dataframe thead th {\n",
              "        text-align: right;\n",
              "    }\n",
              "</style>\n",
              "<table border=\"1\" class=\"dataframe\">\n",
              "  <thead>\n",
              "    <tr style=\"text-align: right;\">\n",
              "      <th></th>\n",
              "      <th>Solute</th>\n",
              "      <th>Solvent</th>\n",
              "      <th>DeltaGsolv</th>\n",
              "    </tr>\n",
              "  </thead>\n",
              "  <tbody>\n",
              "    <tr>\n",
              "      <th>0</th>\n",
              "      <td>HYDROGEN SULFIDE</td>\n",
              "      <td>4-FORMYLMORPHOLINE</td>\n",
              "      <td>-1.81</td>\n",
              "    </tr>\n",
              "    <tr>\n",
              "      <th>1</th>\n",
              "      <td>HYDROGEN SULFIDE</td>\n",
              "      <td>ACETIC ACID</td>\n",
              "      <td>-1.50</td>\n",
              "    </tr>\n",
              "    <tr>\n",
              "      <th>2</th>\n",
              "      <td>HYDROGEN SULFIDE</td>\n",
              "      <td>ACETONE</td>\n",
              "      <td>-1.90</td>\n",
              "    </tr>\n",
              "    <tr>\n",
              "      <th>3</th>\n",
              "      <td>HYDROGEN SULFIDE</td>\n",
              "      <td>BROMOBENZENE</td>\n",
              "      <td>-1.30</td>\n",
              "    </tr>\n",
              "    <tr>\n",
              "      <th>4</th>\n",
              "      <td>HYDROGEN SULFIDE</td>\n",
              "      <td>CHLOROBENZENE</td>\n",
              "      <td>-1.50</td>\n",
              "    </tr>\n",
              "    <tr>\n",
              "      <th>...</th>\n",
              "      <td>...</td>\n",
              "      <td>...</td>\n",
              "      <td>...</td>\n",
              "    </tr>\n",
              "    <tr>\n",
              "      <th>6234</th>\n",
              "      <td>CARBON MONOXIDE</td>\n",
              "      <td>PROPYL ACETATE</td>\n",
              "      <td>0.83</td>\n",
              "    </tr>\n",
              "    <tr>\n",
              "      <th>6235</th>\n",
              "      <td>CARBON MONOXIDE</td>\n",
              "      <td>PYRIDINE</td>\n",
              "      <td>1.27</td>\n",
              "    </tr>\n",
              "    <tr>\n",
              "      <th>6236</th>\n",
              "      <td>CARBON MONOXIDE</td>\n",
              "      <td>TERT-BUTANOL</td>\n",
              "      <td>0.90</td>\n",
              "    </tr>\n",
              "    <tr>\n",
              "      <th>6237</th>\n",
              "      <td>CARBON MONOXIDE</td>\n",
              "      <td>TOLUENE</td>\n",
              "      <td>1.01</td>\n",
              "    </tr>\n",
              "    <tr>\n",
              "      <th>6238</th>\n",
              "      <td>CARBON MONOXIDE</td>\n",
              "      <td>UNDECANE</td>\n",
              "      <td>1.02</td>\n",
              "    </tr>\n",
              "  </tbody>\n",
              "</table>\n",
              "<p>6239 rows × 3 columns</p>\n",
              "</div>\n",
              "      <button class=\"colab-df-convert\" onclick=\"convertToInteractive('df-35ff9e9e-1034-4822-82db-ab7f937ecd15')\"\n",
              "              title=\"Convert this dataframe to an interactive table.\"\n",
              "              style=\"display:none;\">\n",
              "        \n",
              "  <svg xmlns=\"http://www.w3.org/2000/svg\" height=\"24px\"viewBox=\"0 0 24 24\"\n",
              "       width=\"24px\">\n",
              "    <path d=\"M0 0h24v24H0V0z\" fill=\"none\"/>\n",
              "    <path d=\"M18.56 5.44l.94 2.06.94-2.06 2.06-.94-2.06-.94-.94-2.06-.94 2.06-2.06.94zm-11 1L8.5 8.5l.94-2.06 2.06-.94-2.06-.94L8.5 2.5l-.94 2.06-2.06.94zm10 10l.94 2.06.94-2.06 2.06-.94-2.06-.94-.94-2.06-.94 2.06-2.06.94z\"/><path d=\"M17.41 7.96l-1.37-1.37c-.4-.4-.92-.59-1.43-.59-.52 0-1.04.2-1.43.59L10.3 9.45l-7.72 7.72c-.78.78-.78 2.05 0 2.83L4 21.41c.39.39.9.59 1.41.59.51 0 1.02-.2 1.41-.59l7.78-7.78 2.81-2.81c.8-.78.8-2.07 0-2.86zM5.41 20L4 18.59l7.72-7.72 1.47 1.35L5.41 20z\"/>\n",
              "  </svg>\n",
              "      </button>\n",
              "      \n",
              "  <style>\n",
              "    .colab-df-container {\n",
              "      display:flex;\n",
              "      flex-wrap:wrap;\n",
              "      gap: 12px;\n",
              "    }\n",
              "\n",
              "    .colab-df-convert {\n",
              "      background-color: #E8F0FE;\n",
              "      border: none;\n",
              "      border-radius: 50%;\n",
              "      cursor: pointer;\n",
              "      display: none;\n",
              "      fill: #1967D2;\n",
              "      height: 32px;\n",
              "      padding: 0 0 0 0;\n",
              "      width: 32px;\n",
              "    }\n",
              "\n",
              "    .colab-df-convert:hover {\n",
              "      background-color: #E2EBFA;\n",
              "      box-shadow: 0px 1px 2px rgba(60, 64, 67, 0.3), 0px 1px 3px 1px rgba(60, 64, 67, 0.15);\n",
              "      fill: #174EA6;\n",
              "    }\n",
              "\n",
              "    [theme=dark] .colab-df-convert {\n",
              "      background-color: #3B4455;\n",
              "      fill: #D2E3FC;\n",
              "    }\n",
              "\n",
              "    [theme=dark] .colab-df-convert:hover {\n",
              "      background-color: #434B5C;\n",
              "      box-shadow: 0px 1px 3px 1px rgba(0, 0, 0, 0.15);\n",
              "      filter: drop-shadow(0px 1px 2px rgba(0, 0, 0, 0.3));\n",
              "      fill: #FFFFFF;\n",
              "    }\n",
              "  </style>\n",
              "\n",
              "      <script>\n",
              "        const buttonEl =\n",
              "          document.querySelector('#df-35ff9e9e-1034-4822-82db-ab7f937ecd15 button.colab-df-convert');\n",
              "        buttonEl.style.display =\n",
              "          google.colab.kernel.accessAllowed ? 'block' : 'none';\n",
              "\n",
              "        async function convertToInteractive(key) {\n",
              "          const element = document.querySelector('#df-35ff9e9e-1034-4822-82db-ab7f937ecd15');\n",
              "          const dataTable =\n",
              "            await google.colab.kernel.invokeFunction('convertToInteractive',\n",
              "                                                     [key], {});\n",
              "          if (!dataTable) return;\n",
              "\n",
              "          const docLinkHtml = 'Like what you see? Visit the ' +\n",
              "            '<a target=\"_blank\" href=https://colab.research.google.com/notebooks/data_table.ipynb>data table notebook</a>'\n",
              "            + ' to learn more about interactive tables.';\n",
              "          element.innerHTML = '';\n",
              "          dataTable['output_type'] = 'display_data';\n",
              "          await google.colab.output.renderOutput(dataTable, element);\n",
              "          const docLink = document.createElement('div');\n",
              "          docLink.innerHTML = docLinkHtml;\n",
              "          element.appendChild(docLink);\n",
              "        }\n",
              "      </script>\n",
              "    </div>\n",
              "  </div>\n",
              "  "
            ]
          },
          "metadata": {},
          "execution_count": 11
        }
      ]
    },
    {
      "cell_type": "code",
      "source": [
        "df.iloc[10]"
      ],
      "metadata": {
        "id": "wA6ICd5pa27H",
        "outputId": "10789e5f-9986-4dc6-c675-e010e54f91ef",
        "colab": {
          "base_uri": "https://localhost:8080/"
        }
      },
      "execution_count": null,
      "outputs": [
        {
          "output_type": "execute_result",
          "data": {
            "text/plain": [
              "Solute              HYDROGEN SULFIDE\n",
              "Solvent          PROPYLENE CARBONATE\n",
              "SoluteSMILES                       S\n",
              "SolventSMILES           CC1COC(=O)O1\n",
              "DeltaGsolv                     -1.56\n",
              "Name: 10, dtype: object"
            ]
          },
          "metadata": {},
          "execution_count": 12
        }
      ]
    },
    {
      "cell_type": "markdown",
      "source": [
        "We can always convert a dataframe back to it's array representation, and manipulate it there. But it's idiomatic and efficient to do all dataprocessing in Pandas.\n",
        "\n",
        "Here we convert the whole dataframe into an array, and then the first 3 rows and the last column which represents the solvation free energies of the first three molecules."
      ],
      "metadata": {
        "id": "55NRvgaI79lu"
      }
    },
    {
      "cell_type": "code",
      "source": [
        "df.values"
      ],
      "metadata": {
        "id": "1jNY2tOj8GcE"
      },
      "execution_count": null,
      "outputs": []
    },
    {
      "cell_type": "code",
      "source": [
        "df.values[:3, -1]"
      ],
      "metadata": {
        "id": "M_ZfSQYg8Ieb"
      },
      "execution_count": null,
      "outputs": []
    },
    {
      "cell_type": "markdown",
      "source": [
        "**Exercise Questions:**\n",
        "* Print the element in the 23rd row of the dataset\n",
        "* Make a list of all the solvation free energy values as a list, and compute it's mean\n",
        "* Make a dataframe with just the smiles strings of solvents and solutes and the solvation free energies, i.e. remove the common names."
      ],
      "metadata": {
        "id": "uvXh1OCdwbIo"
      }
    },
    {
      "cell_type": "code",
      "source": [
        "df.iloc[23]"
      ],
      "metadata": {
        "colab": {
          "base_uri": "https://localhost:8080/"
        },
        "id": "neymeTJVA8CP",
        "outputId": "d1a4afe8-be1f-419c-ecb7-61ec809ffc77"
      },
      "execution_count": null,
      "outputs": [
        {
          "output_type": "execute_result",
          "data": {
            "text/plain": [
              "Solute              SULFUR DIOXIDE\n",
              "Solvent          DIMETHYLFORMAMIDE\n",
              "SoluteSMILES                 O=S=O\n",
              "SolventSMILES             CN(C)C=O\n",
              "DeltaGsolv                   -3.63\n",
              "Name: 23, dtype: object"
            ]
          },
          "metadata": {},
          "execution_count": 4
        }
      ]
    },
    {
      "cell_type": "code",
      "source": [
        "free_en_list = df['DeltaGsolv']"
      ],
      "metadata": {
        "id": "rD0KNN4IBBuQ"
      },
      "execution_count": null,
      "outputs": []
    },
    {
      "cell_type": "code",
      "source": [
        "free_en_list.mean()"
      ],
      "metadata": {
        "colab": {
          "base_uri": "https://localhost:8080/"
        },
        "id": "mV4oa-bRBe1q",
        "outputId": "2d84e3d9-9080-45d9-8b6f-2fe2680243bd"
      },
      "execution_count": null,
      "outputs": [
        {
          "output_type": "execute_result",
          "data": {
            "text/plain": [
              "-3.831540310947248"
            ]
          },
          "metadata": {},
          "execution_count": 7
        }
      ]
    },
    {
      "cell_type": "code",
      "source": [
        "df_smiles = df[['SoluteSMILES','SolventSMILES','DeltaGsolv']]"
      ],
      "metadata": {
        "id": "7WvBL2UYBnq_"
      },
      "execution_count": null,
      "outputs": []
    },
    {
      "cell_type": "markdown",
      "source": [
        "## 3. Statistics on DataFrames"
      ],
      "metadata": {
        "id": "bmJY1G1Q8gTk"
      }
    },
    {
      "cell_type": "markdown",
      "source": [
        "For the many numerical quantities that exist in a dataframe, we might want to compute it's mean, median, mode, quartiles, and other statistical measures. Several inbuilt functions in pandas exist for there."
      ],
      "metadata": {
        "id": "IsWE51rs8oBD"
      }
    },
    {
      "cell_type": "markdown",
      "source": [
        "The catch all for any numerical column is called describe, which for each numerical data column prints it's unique values count, mean, standard deviation, and quartiles.\n",
        "\n",
        "This data is really useful when applied to features or outputs in estimating which features are high variance, which can be relied on significantly, etc. making this type of data analysis key in feature engineering. "
      ],
      "metadata": {
        "id": "EDcJcgRN89J-"
      }
    },
    {
      "cell_type": "code",
      "source": [
        "df.describe()"
      ],
      "metadata": {
        "id": "0RBH_X4P848x",
        "colab": {
          "base_uri": "https://localhost:8080/",
          "height": 300
        },
        "outputId": "4b293f00-dcbc-40e0-a6ec-24e8d8ae3cda"
      },
      "execution_count": null,
      "outputs": [
        {
          "output_type": "execute_result",
          "data": {
            "text/plain": [
              "        DeltaGsolv\n",
              "count  6239.000000\n",
              "mean     -3.831540\n",
              "std       2.278619\n",
              "min     -25.470000\n",
              "25%      -4.950000\n",
              "50%      -3.930000\n",
              "75%      -2.730000\n",
              "max       3.430000"
            ],
            "text/html": [
              "\n",
              "  <div id=\"df-74caf966-5ac7-43e9-aacc-13573e48e9eb\">\n",
              "    <div class=\"colab-df-container\">\n",
              "      <div>\n",
              "<style scoped>\n",
              "    .dataframe tbody tr th:only-of-type {\n",
              "        vertical-align: middle;\n",
              "    }\n",
              "\n",
              "    .dataframe tbody tr th {\n",
              "        vertical-align: top;\n",
              "    }\n",
              "\n",
              "    .dataframe thead th {\n",
              "        text-align: right;\n",
              "    }\n",
              "</style>\n",
              "<table border=\"1\" class=\"dataframe\">\n",
              "  <thead>\n",
              "    <tr style=\"text-align: right;\">\n",
              "      <th></th>\n",
              "      <th>DeltaGsolv</th>\n",
              "    </tr>\n",
              "  </thead>\n",
              "  <tbody>\n",
              "    <tr>\n",
              "      <th>count</th>\n",
              "      <td>6239.000000</td>\n",
              "    </tr>\n",
              "    <tr>\n",
              "      <th>mean</th>\n",
              "      <td>-3.831540</td>\n",
              "    </tr>\n",
              "    <tr>\n",
              "      <th>std</th>\n",
              "      <td>2.278619</td>\n",
              "    </tr>\n",
              "    <tr>\n",
              "      <th>min</th>\n",
              "      <td>-25.470000</td>\n",
              "    </tr>\n",
              "    <tr>\n",
              "      <th>25%</th>\n",
              "      <td>-4.950000</td>\n",
              "    </tr>\n",
              "    <tr>\n",
              "      <th>50%</th>\n",
              "      <td>-3.930000</td>\n",
              "    </tr>\n",
              "    <tr>\n",
              "      <th>75%</th>\n",
              "      <td>-2.730000</td>\n",
              "    </tr>\n",
              "    <tr>\n",
              "      <th>max</th>\n",
              "      <td>3.430000</td>\n",
              "    </tr>\n",
              "  </tbody>\n",
              "</table>\n",
              "</div>\n",
              "      <button class=\"colab-df-convert\" onclick=\"convertToInteractive('df-74caf966-5ac7-43e9-aacc-13573e48e9eb')\"\n",
              "              title=\"Convert this dataframe to an interactive table.\"\n",
              "              style=\"display:none;\">\n",
              "        \n",
              "  <svg xmlns=\"http://www.w3.org/2000/svg\" height=\"24px\"viewBox=\"0 0 24 24\"\n",
              "       width=\"24px\">\n",
              "    <path d=\"M0 0h24v24H0V0z\" fill=\"none\"/>\n",
              "    <path d=\"M18.56 5.44l.94 2.06.94-2.06 2.06-.94-2.06-.94-.94-2.06-.94 2.06-2.06.94zm-11 1L8.5 8.5l.94-2.06 2.06-.94-2.06-.94L8.5 2.5l-.94 2.06-2.06.94zm10 10l.94 2.06.94-2.06 2.06-.94-2.06-.94-.94-2.06-.94 2.06-2.06.94z\"/><path d=\"M17.41 7.96l-1.37-1.37c-.4-.4-.92-.59-1.43-.59-.52 0-1.04.2-1.43.59L10.3 9.45l-7.72 7.72c-.78.78-.78 2.05 0 2.83L4 21.41c.39.39.9.59 1.41.59.51 0 1.02-.2 1.41-.59l7.78-7.78 2.81-2.81c.8-.78.8-2.07 0-2.86zM5.41 20L4 18.59l7.72-7.72 1.47 1.35L5.41 20z\"/>\n",
              "  </svg>\n",
              "      </button>\n",
              "      \n",
              "  <style>\n",
              "    .colab-df-container {\n",
              "      display:flex;\n",
              "      flex-wrap:wrap;\n",
              "      gap: 12px;\n",
              "    }\n",
              "\n",
              "    .colab-df-convert {\n",
              "      background-color: #E8F0FE;\n",
              "      border: none;\n",
              "      border-radius: 50%;\n",
              "      cursor: pointer;\n",
              "      display: none;\n",
              "      fill: #1967D2;\n",
              "      height: 32px;\n",
              "      padding: 0 0 0 0;\n",
              "      width: 32px;\n",
              "    }\n",
              "\n",
              "    .colab-df-convert:hover {\n",
              "      background-color: #E2EBFA;\n",
              "      box-shadow: 0px 1px 2px rgba(60, 64, 67, 0.3), 0px 1px 3px 1px rgba(60, 64, 67, 0.15);\n",
              "      fill: #174EA6;\n",
              "    }\n",
              "\n",
              "    [theme=dark] .colab-df-convert {\n",
              "      background-color: #3B4455;\n",
              "      fill: #D2E3FC;\n",
              "    }\n",
              "\n",
              "    [theme=dark] .colab-df-convert:hover {\n",
              "      background-color: #434B5C;\n",
              "      box-shadow: 0px 1px 3px 1px rgba(0, 0, 0, 0.15);\n",
              "      filter: drop-shadow(0px 1px 2px rgba(0, 0, 0, 0.3));\n",
              "      fill: #FFFFFF;\n",
              "    }\n",
              "  </style>\n",
              "\n",
              "      <script>\n",
              "        const buttonEl =\n",
              "          document.querySelector('#df-74caf966-5ac7-43e9-aacc-13573e48e9eb button.colab-df-convert');\n",
              "        buttonEl.style.display =\n",
              "          google.colab.kernel.accessAllowed ? 'block' : 'none';\n",
              "\n",
              "        async function convertToInteractive(key) {\n",
              "          const element = document.querySelector('#df-74caf966-5ac7-43e9-aacc-13573e48e9eb');\n",
              "          const dataTable =\n",
              "            await google.colab.kernel.invokeFunction('convertToInteractive',\n",
              "                                                     [key], {});\n",
              "          if (!dataTable) return;\n",
              "\n",
              "          const docLinkHtml = 'Like what you see? Visit the ' +\n",
              "            '<a target=\"_blank\" href=https://colab.research.google.com/notebooks/data_table.ipynb>data table notebook</a>'\n",
              "            + ' to learn more about interactive tables.';\n",
              "          element.innerHTML = '';\n",
              "          dataTable['output_type'] = 'display_data';\n",
              "          await google.colab.output.renderOutput(dataTable, element);\n",
              "          const docLink = document.createElement('div');\n",
              "          docLink.innerHTML = docLinkHtml;\n",
              "          element.appendChild(docLink);\n",
              "        }\n",
              "      </script>\n",
              "    </div>\n",
              "  </div>\n",
              "  "
            ]
          },
          "metadata": {},
          "execution_count": 13
        }
      ]
    },
    {
      "cell_type": "code",
      "source": [
        "df.mean(numeric_only=True)"
      ],
      "metadata": {
        "id": "DtbJuy8S9TZI",
        "colab": {
          "base_uri": "https://localhost:8080/"
        },
        "outputId": "3d78d38e-6751-4546-df69-fa2e471ed36a"
      },
      "execution_count": null,
      "outputs": [
        {
          "output_type": "execute_result",
          "data": {
            "text/plain": [
              "DeltaGsolv   -3.83154\n",
              "dtype: float64"
            ]
          },
          "metadata": {},
          "execution_count": 14
        }
      ]
    },
    {
      "cell_type": "code",
      "source": [
        "df.median(numeric_only=True)"
      ],
      "metadata": {
        "id": "RzdIao1_9Zo9",
        "colab": {
          "base_uri": "https://localhost:8080/"
        },
        "outputId": "e5a693fd-3cc3-4329-d41a-a941fba3fe1b"
      },
      "execution_count": null,
      "outputs": [
        {
          "output_type": "execute_result",
          "data": {
            "text/plain": [
              "DeltaGsolv   -3.93\n",
              "dtype: float64"
            ]
          },
          "metadata": {},
          "execution_count": 15
        }
      ]
    },
    {
      "cell_type": "code",
      "source": [
        "df[\"DeltaGsolv\"].max()"
      ],
      "metadata": {
        "id": "uXxduODI9d1M",
        "colab": {
          "base_uri": "https://localhost:8080/"
        },
        "outputId": "d2c43cfa-803e-4f31-f667-6573e0513bc1"
      },
      "execution_count": null,
      "outputs": [
        {
          "output_type": "execute_result",
          "data": {
            "text/plain": [
              "3.43"
            ]
          },
          "metadata": {},
          "execution_count": 16
        }
      ]
    },
    {
      "cell_type": "code",
      "source": [
        "df[\"DeltaGsolv\"].min()"
      ],
      "metadata": {
        "id": "xUDrDI8y9rN3"
      },
      "execution_count": null,
      "outputs": []
    },
    {
      "cell_type": "markdown",
      "source": [
        "**Exercise Question:** Find the solvation free energy value which is higher than that of 80% of the molecules, and lower than 20% of them."
      ],
      "metadata": {
        "id": "G5rx0DEUxL8g"
      }
    },
    {
      "cell_type": "code",
      "source": [
        "df['DeltaGsolv'].describe()"
      ],
      "metadata": {
        "colab": {
          "base_uri": "https://localhost:8080/"
        },
        "id": "YUxopc0vECpS",
        "outputId": "c5735bdf-3096-4646-be82-62dc0d674d42"
      },
      "execution_count": null,
      "outputs": [
        {
          "output_type": "execute_result",
          "data": {
            "text/plain": [
              "count    6239.000000\n",
              "mean       -3.831540\n",
              "std         2.278619\n",
              "min       -25.470000\n",
              "25%        -4.950000\n",
              "50%        -3.930000\n",
              "75%        -2.730000\n",
              "max         3.430000\n",
              "Name: DeltaGsolv, dtype: float64"
            ]
          },
          "metadata": {},
          "execution_count": 10
        }
      ]
    },
    {
      "cell_type": "markdown",
      "source": [
        "More discussion on this sort of analysis will follow once we learn to use plotting tools to gain more insights."
      ],
      "metadata": {
        "id": "rdBv0Tiv9vcZ"
      }
    },
    {
      "cell_type": "markdown",
      "source": [
        "## 4. Sampling, Grouping and Filtering"
      ],
      "metadata": {
        "id": "reoOlNJ27gvE"
      }
    },
    {
      "cell_type": "markdown",
      "source": [
        "To sample some number of rows, or fraction of all the rows from the dataframe, we can use the `df.sample` function. This is very often used for quick processing since dataframes can get too huge to gain insights from quickly, on the fly.\n",
        "\n",
        "Since the row indices stay from the original dataframe, to make the new dataframe independent of those indices, we reset the indices and drop the old index column."
      ],
      "metadata": {
        "id": "aSBWDTfZ7qZ9"
      }
    },
    {
      "cell_type": "code",
      "source": [
        "sampled_df = df.sample(100)\n",
        "sampled_df = sampled_df.reset_index().drop(columns=[\"index\"])\n",
        "sampled_df"
      ],
      "metadata": {
        "id": "tsopY5Y-5Qjn",
        "colab": {
          "base_uri": "https://localhost:8080/",
          "height": 424
        },
        "outputId": "9f2be2a5-ac03-4d75-abbb-7a6583dc2274"
      },
      "execution_count": null,
      "outputs": [
        {
          "output_type": "execute_result",
          "data": {
            "text/plain": [
              "                  Solute                       Solvent     SoluteSMILES  \\\n",
              "0                 NONENE                    HEXADECANE       CCCCCCCC=C   \n",
              "1   CARBON TETRACHLORIDE  5,8,11,14-TETRAOXAOCTADECANE  C(Cl)(Cl)(Cl)Cl   \n",
              "2     3-METHYLBUTAN-1-OL                       HEPTANE         CC(C)CCO   \n",
              "3                 HEXANE          CARBON TETRACHLORIDE           CCCCCC   \n",
              "4            PHENYLAMINE                  BROMOBENZENE      c1ccc(cc1)N   \n",
              "..                   ...                           ...              ...   \n",
              "95     DIISOPROPYL ETHER             N-METHYLACETAMIDE      CC(C)OC(C)C   \n",
              "96               PENTANE                   PHENYLAMINE            CCCCC   \n",
              "97      MOLECULAR OXYGEN                        OCTANE              O=O   \n",
              "98           ISOPROPANOL                     1-OCTANOL           CC(C)O   \n",
              "99                OCTANE             DIISOPROPYL ETHER         CCCCCCCC   \n",
              "\n",
              "         SolventSMILES  DeltaGsolv  \n",
              "0     CCCCCCCCCCCCCCCC       -5.46  \n",
              "1   CCCCOCCOCCOCCOCCCC       -4.12  \n",
              "2              CCCCCCC       -3.96  \n",
              "3      C(Cl)(Cl)(Cl)Cl       -4.07  \n",
              "4         c1ccc(cc1)Br       -7.04  \n",
              "..                 ...         ...  \n",
              "95         C/C(=N/C)/O       -3.25  \n",
              "96         c1ccc(cc1)N       -1.81  \n",
              "97            CCCCCCCC        0.70  \n",
              "98           CCCCCCCCO       -4.61  \n",
              "99         CC(C)OC(C)C       -5.24  \n",
              "\n",
              "[100 rows x 5 columns]"
            ],
            "text/html": [
              "\n",
              "  <div id=\"df-6de0551a-fffa-408e-a497-e50f4e73ce0f\">\n",
              "    <div class=\"colab-df-container\">\n",
              "      <div>\n",
              "<style scoped>\n",
              "    .dataframe tbody tr th:only-of-type {\n",
              "        vertical-align: middle;\n",
              "    }\n",
              "\n",
              "    .dataframe tbody tr th {\n",
              "        vertical-align: top;\n",
              "    }\n",
              "\n",
              "    .dataframe thead th {\n",
              "        text-align: right;\n",
              "    }\n",
              "</style>\n",
              "<table border=\"1\" class=\"dataframe\">\n",
              "  <thead>\n",
              "    <tr style=\"text-align: right;\">\n",
              "      <th></th>\n",
              "      <th>Solute</th>\n",
              "      <th>Solvent</th>\n",
              "      <th>SoluteSMILES</th>\n",
              "      <th>SolventSMILES</th>\n",
              "      <th>DeltaGsolv</th>\n",
              "    </tr>\n",
              "  </thead>\n",
              "  <tbody>\n",
              "    <tr>\n",
              "      <th>0</th>\n",
              "      <td>NONENE</td>\n",
              "      <td>HEXADECANE</td>\n",
              "      <td>CCCCCCCC=C</td>\n",
              "      <td>CCCCCCCCCCCCCCCC</td>\n",
              "      <td>-5.46</td>\n",
              "    </tr>\n",
              "    <tr>\n",
              "      <th>1</th>\n",
              "      <td>CARBON TETRACHLORIDE</td>\n",
              "      <td>5,8,11,14-TETRAOXAOCTADECANE</td>\n",
              "      <td>C(Cl)(Cl)(Cl)Cl</td>\n",
              "      <td>CCCCOCCOCCOCCOCCCC</td>\n",
              "      <td>-4.12</td>\n",
              "    </tr>\n",
              "    <tr>\n",
              "      <th>2</th>\n",
              "      <td>3-METHYLBUTAN-1-OL</td>\n",
              "      <td>HEPTANE</td>\n",
              "      <td>CC(C)CCO</td>\n",
              "      <td>CCCCCCC</td>\n",
              "      <td>-3.96</td>\n",
              "    </tr>\n",
              "    <tr>\n",
              "      <th>3</th>\n",
              "      <td>HEXANE</td>\n",
              "      <td>CARBON TETRACHLORIDE</td>\n",
              "      <td>CCCCCC</td>\n",
              "      <td>C(Cl)(Cl)(Cl)Cl</td>\n",
              "      <td>-4.07</td>\n",
              "    </tr>\n",
              "    <tr>\n",
              "      <th>4</th>\n",
              "      <td>PHENYLAMINE</td>\n",
              "      <td>BROMOBENZENE</td>\n",
              "      <td>c1ccc(cc1)N</td>\n",
              "      <td>c1ccc(cc1)Br</td>\n",
              "      <td>-7.04</td>\n",
              "    </tr>\n",
              "    <tr>\n",
              "      <th>...</th>\n",
              "      <td>...</td>\n",
              "      <td>...</td>\n",
              "      <td>...</td>\n",
              "      <td>...</td>\n",
              "      <td>...</td>\n",
              "    </tr>\n",
              "    <tr>\n",
              "      <th>95</th>\n",
              "      <td>DIISOPROPYL ETHER</td>\n",
              "      <td>N-METHYLACETAMIDE</td>\n",
              "      <td>CC(C)OC(C)C</td>\n",
              "      <td>C/C(=N/C)/O</td>\n",
              "      <td>-3.25</td>\n",
              "    </tr>\n",
              "    <tr>\n",
              "      <th>96</th>\n",
              "      <td>PENTANE</td>\n",
              "      <td>PHENYLAMINE</td>\n",
              "      <td>CCCCC</td>\n",
              "      <td>c1ccc(cc1)N</td>\n",
              "      <td>-1.81</td>\n",
              "    </tr>\n",
              "    <tr>\n",
              "      <th>97</th>\n",
              "      <td>MOLECULAR OXYGEN</td>\n",
              "      <td>OCTANE</td>\n",
              "      <td>O=O</td>\n",
              "      <td>CCCCCCCC</td>\n",
              "      <td>0.70</td>\n",
              "    </tr>\n",
              "    <tr>\n",
              "      <th>98</th>\n",
              "      <td>ISOPROPANOL</td>\n",
              "      <td>1-OCTANOL</td>\n",
              "      <td>CC(C)O</td>\n",
              "      <td>CCCCCCCCO</td>\n",
              "      <td>-4.61</td>\n",
              "    </tr>\n",
              "    <tr>\n",
              "      <th>99</th>\n",
              "      <td>OCTANE</td>\n",
              "      <td>DIISOPROPYL ETHER</td>\n",
              "      <td>CCCCCCCC</td>\n",
              "      <td>CC(C)OC(C)C</td>\n",
              "      <td>-5.24</td>\n",
              "    </tr>\n",
              "  </tbody>\n",
              "</table>\n",
              "<p>100 rows × 5 columns</p>\n",
              "</div>\n",
              "      <button class=\"colab-df-convert\" onclick=\"convertToInteractive('df-6de0551a-fffa-408e-a497-e50f4e73ce0f')\"\n",
              "              title=\"Convert this dataframe to an interactive table.\"\n",
              "              style=\"display:none;\">\n",
              "        \n",
              "  <svg xmlns=\"http://www.w3.org/2000/svg\" height=\"24px\"viewBox=\"0 0 24 24\"\n",
              "       width=\"24px\">\n",
              "    <path d=\"M0 0h24v24H0V0z\" fill=\"none\"/>\n",
              "    <path d=\"M18.56 5.44l.94 2.06.94-2.06 2.06-.94-2.06-.94-.94-2.06-.94 2.06-2.06.94zm-11 1L8.5 8.5l.94-2.06 2.06-.94-2.06-.94L8.5 2.5l-.94 2.06-2.06.94zm10 10l.94 2.06.94-2.06 2.06-.94-2.06-.94-.94-2.06-.94 2.06-2.06.94z\"/><path d=\"M17.41 7.96l-1.37-1.37c-.4-.4-.92-.59-1.43-.59-.52 0-1.04.2-1.43.59L10.3 9.45l-7.72 7.72c-.78.78-.78 2.05 0 2.83L4 21.41c.39.39.9.59 1.41.59.51 0 1.02-.2 1.41-.59l7.78-7.78 2.81-2.81c.8-.78.8-2.07 0-2.86zM5.41 20L4 18.59l7.72-7.72 1.47 1.35L5.41 20z\"/>\n",
              "  </svg>\n",
              "      </button>\n",
              "      \n",
              "  <style>\n",
              "    .colab-df-container {\n",
              "      display:flex;\n",
              "      flex-wrap:wrap;\n",
              "      gap: 12px;\n",
              "    }\n",
              "\n",
              "    .colab-df-convert {\n",
              "      background-color: #E8F0FE;\n",
              "      border: none;\n",
              "      border-radius: 50%;\n",
              "      cursor: pointer;\n",
              "      display: none;\n",
              "      fill: #1967D2;\n",
              "      height: 32px;\n",
              "      padding: 0 0 0 0;\n",
              "      width: 32px;\n",
              "    }\n",
              "\n",
              "    .colab-df-convert:hover {\n",
              "      background-color: #E2EBFA;\n",
              "      box-shadow: 0px 1px 2px rgba(60, 64, 67, 0.3), 0px 1px 3px 1px rgba(60, 64, 67, 0.15);\n",
              "      fill: #174EA6;\n",
              "    }\n",
              "\n",
              "    [theme=dark] .colab-df-convert {\n",
              "      background-color: #3B4455;\n",
              "      fill: #D2E3FC;\n",
              "    }\n",
              "\n",
              "    [theme=dark] .colab-df-convert:hover {\n",
              "      background-color: #434B5C;\n",
              "      box-shadow: 0px 1px 3px 1px rgba(0, 0, 0, 0.15);\n",
              "      filter: drop-shadow(0px 1px 2px rgba(0, 0, 0, 0.3));\n",
              "      fill: #FFFFFF;\n",
              "    }\n",
              "  </style>\n",
              "\n",
              "      <script>\n",
              "        const buttonEl =\n",
              "          document.querySelector('#df-6de0551a-fffa-408e-a497-e50f4e73ce0f button.colab-df-convert');\n",
              "        buttonEl.style.display =\n",
              "          google.colab.kernel.accessAllowed ? 'block' : 'none';\n",
              "\n",
              "        async function convertToInteractive(key) {\n",
              "          const element = document.querySelector('#df-6de0551a-fffa-408e-a497-e50f4e73ce0f');\n",
              "          const dataTable =\n",
              "            await google.colab.kernel.invokeFunction('convertToInteractive',\n",
              "                                                     [key], {});\n",
              "          if (!dataTable) return;\n",
              "\n",
              "          const docLinkHtml = 'Like what you see? Visit the ' +\n",
              "            '<a target=\"_blank\" href=https://colab.research.google.com/notebooks/data_table.ipynb>data table notebook</a>'\n",
              "            + ' to learn more about interactive tables.';\n",
              "          element.innerHTML = '';\n",
              "          dataTable['output_type'] = 'display_data';\n",
              "          await google.colab.output.renderOutput(dataTable, element);\n",
              "          const docLink = document.createElement('div');\n",
              "          docLink.innerHTML = docLinkHtml;\n",
              "          element.appendChild(docLink);\n",
              "        }\n",
              "      </script>\n",
              "    </div>\n",
              "  </div>\n",
              "  "
            ]
          },
          "metadata": {},
          "execution_count": 17
        }
      ]
    },
    {
      "cell_type": "code",
      "source": [
        "sampled_df = df.sample(frac=0.5)\n",
        "sampled_df = sampled_df.reset_index().drop(columns=[\"index\"])\n",
        "sampled_df"
      ],
      "metadata": {
        "id": "oUKJmRxacRVs",
        "colab": {
          "base_uri": "https://localhost:8080/",
          "height": 424
        },
        "outputId": "cbf5f743-90f8-4381-bf79-cc077450b479"
      },
      "execution_count": null,
      "outputs": [
        {
          "output_type": "execute_result",
          "data": {
            "text/plain": [
              "                Solute            Solvent             SoluteSMILES  \\\n",
              "0             BUTANONE           P-XYLENE                 CCC(=O)C   \n",
              "1         NITROMETHANE      ETHYL ACETATE            C[N+](=O)[O-]   \n",
              "2        HEXYL ACETATE         HEXADECANE            CCCCCCOC(=O)C   \n",
              "3            HEX-1-YNE  DIMETHYLFORMAMIDE                  CCCCC#C   \n",
              "4     (\\XB1)-2-BUTANOL       ETHYLBENZENE                  CCC(C)O   \n",
              "...                ...                ...                      ...   \n",
              "3115           PROPANE       BENZONITRILE                      CCC   \n",
              "3116    mobley_4043951              WATER                   CCCC=C   \n",
              "3117         TRICOSANE   (\\xb1)-2-BUTANOL  CCCCCCCCCCCCCCCCCCCCCCC   \n",
              "3118     ETHYL ACETATE     1-CHLOROBUTANE                CCOC(=O)C   \n",
              "3119            HEXENE  N-METHYLFORMAMIDE                  CCCCC=C   \n",
              "\n",
              "         SolventSMILES  DeltaGsolv  \n",
              "0         Cc1ccc(cc1)C       -4.22  \n",
              "1            CCOC(=O)C       -4.92  \n",
              "2     CCCCCCCCCCCCCCCC       -5.83  \n",
              "3             CN(C)C=O       -3.93  \n",
              "4           CCc1ccccc1       -4.08  \n",
              "...                ...         ...  \n",
              "3115     c1ccc(cc1)C#N       -1.11  \n",
              "3116                 O        1.68  \n",
              "3117           CCC(C)O      -14.09  \n",
              "3118            CCCCCl       -4.33  \n",
              "3119           C/N=C/O       -2.55  \n",
              "\n",
              "[3120 rows x 5 columns]"
            ],
            "text/html": [
              "\n",
              "  <div id=\"df-a3bee9e8-eaca-447c-bc54-58a831e42db1\">\n",
              "    <div class=\"colab-df-container\">\n",
              "      <div>\n",
              "<style scoped>\n",
              "    .dataframe tbody tr th:only-of-type {\n",
              "        vertical-align: middle;\n",
              "    }\n",
              "\n",
              "    .dataframe tbody tr th {\n",
              "        vertical-align: top;\n",
              "    }\n",
              "\n",
              "    .dataframe thead th {\n",
              "        text-align: right;\n",
              "    }\n",
              "</style>\n",
              "<table border=\"1\" class=\"dataframe\">\n",
              "  <thead>\n",
              "    <tr style=\"text-align: right;\">\n",
              "      <th></th>\n",
              "      <th>Solute</th>\n",
              "      <th>Solvent</th>\n",
              "      <th>SoluteSMILES</th>\n",
              "      <th>SolventSMILES</th>\n",
              "      <th>DeltaGsolv</th>\n",
              "    </tr>\n",
              "  </thead>\n",
              "  <tbody>\n",
              "    <tr>\n",
              "      <th>0</th>\n",
              "      <td>BUTANONE</td>\n",
              "      <td>P-XYLENE</td>\n",
              "      <td>CCC(=O)C</td>\n",
              "      <td>Cc1ccc(cc1)C</td>\n",
              "      <td>-4.22</td>\n",
              "    </tr>\n",
              "    <tr>\n",
              "      <th>1</th>\n",
              "      <td>NITROMETHANE</td>\n",
              "      <td>ETHYL ACETATE</td>\n",
              "      <td>C[N+](=O)[O-]</td>\n",
              "      <td>CCOC(=O)C</td>\n",
              "      <td>-4.92</td>\n",
              "    </tr>\n",
              "    <tr>\n",
              "      <th>2</th>\n",
              "      <td>HEXYL ACETATE</td>\n",
              "      <td>HEXADECANE</td>\n",
              "      <td>CCCCCCOC(=O)C</td>\n",
              "      <td>CCCCCCCCCCCCCCCC</td>\n",
              "      <td>-5.83</td>\n",
              "    </tr>\n",
              "    <tr>\n",
              "      <th>3</th>\n",
              "      <td>HEX-1-YNE</td>\n",
              "      <td>DIMETHYLFORMAMIDE</td>\n",
              "      <td>CCCCC#C</td>\n",
              "      <td>CN(C)C=O</td>\n",
              "      <td>-3.93</td>\n",
              "    </tr>\n",
              "    <tr>\n",
              "      <th>4</th>\n",
              "      <td>(\\XB1)-2-BUTANOL</td>\n",
              "      <td>ETHYLBENZENE</td>\n",
              "      <td>CCC(C)O</td>\n",
              "      <td>CCc1ccccc1</td>\n",
              "      <td>-4.08</td>\n",
              "    </tr>\n",
              "    <tr>\n",
              "      <th>...</th>\n",
              "      <td>...</td>\n",
              "      <td>...</td>\n",
              "      <td>...</td>\n",
              "      <td>...</td>\n",
              "      <td>...</td>\n",
              "    </tr>\n",
              "    <tr>\n",
              "      <th>3115</th>\n",
              "      <td>PROPANE</td>\n",
              "      <td>BENZONITRILE</td>\n",
              "      <td>CCC</td>\n",
              "      <td>c1ccc(cc1)C#N</td>\n",
              "      <td>-1.11</td>\n",
              "    </tr>\n",
              "    <tr>\n",
              "      <th>3116</th>\n",
              "      <td>mobley_4043951</td>\n",
              "      <td>WATER</td>\n",
              "      <td>CCCC=C</td>\n",
              "      <td>O</td>\n",
              "      <td>1.68</td>\n",
              "    </tr>\n",
              "    <tr>\n",
              "      <th>3117</th>\n",
              "      <td>TRICOSANE</td>\n",
              "      <td>(\\xb1)-2-BUTANOL</td>\n",
              "      <td>CCCCCCCCCCCCCCCCCCCCCCC</td>\n",
              "      <td>CCC(C)O</td>\n",
              "      <td>-14.09</td>\n",
              "    </tr>\n",
              "    <tr>\n",
              "      <th>3118</th>\n",
              "      <td>ETHYL ACETATE</td>\n",
              "      <td>1-CHLOROBUTANE</td>\n",
              "      <td>CCOC(=O)C</td>\n",
              "      <td>CCCCCl</td>\n",
              "      <td>-4.33</td>\n",
              "    </tr>\n",
              "    <tr>\n",
              "      <th>3119</th>\n",
              "      <td>HEXENE</td>\n",
              "      <td>N-METHYLFORMAMIDE</td>\n",
              "      <td>CCCCC=C</td>\n",
              "      <td>C/N=C/O</td>\n",
              "      <td>-2.55</td>\n",
              "    </tr>\n",
              "  </tbody>\n",
              "</table>\n",
              "<p>3120 rows × 5 columns</p>\n",
              "</div>\n",
              "      <button class=\"colab-df-convert\" onclick=\"convertToInteractive('df-a3bee9e8-eaca-447c-bc54-58a831e42db1')\"\n",
              "              title=\"Convert this dataframe to an interactive table.\"\n",
              "              style=\"display:none;\">\n",
              "        \n",
              "  <svg xmlns=\"http://www.w3.org/2000/svg\" height=\"24px\"viewBox=\"0 0 24 24\"\n",
              "       width=\"24px\">\n",
              "    <path d=\"M0 0h24v24H0V0z\" fill=\"none\"/>\n",
              "    <path d=\"M18.56 5.44l.94 2.06.94-2.06 2.06-.94-2.06-.94-.94-2.06-.94 2.06-2.06.94zm-11 1L8.5 8.5l.94-2.06 2.06-.94-2.06-.94L8.5 2.5l-.94 2.06-2.06.94zm10 10l.94 2.06.94-2.06 2.06-.94-2.06-.94-.94-2.06-.94 2.06-2.06.94z\"/><path d=\"M17.41 7.96l-1.37-1.37c-.4-.4-.92-.59-1.43-.59-.52 0-1.04.2-1.43.59L10.3 9.45l-7.72 7.72c-.78.78-.78 2.05 0 2.83L4 21.41c.39.39.9.59 1.41.59.51 0 1.02-.2 1.41-.59l7.78-7.78 2.81-2.81c.8-.78.8-2.07 0-2.86zM5.41 20L4 18.59l7.72-7.72 1.47 1.35L5.41 20z\"/>\n",
              "  </svg>\n",
              "      </button>\n",
              "      \n",
              "  <style>\n",
              "    .colab-df-container {\n",
              "      display:flex;\n",
              "      flex-wrap:wrap;\n",
              "      gap: 12px;\n",
              "    }\n",
              "\n",
              "    .colab-df-convert {\n",
              "      background-color: #E8F0FE;\n",
              "      border: none;\n",
              "      border-radius: 50%;\n",
              "      cursor: pointer;\n",
              "      display: none;\n",
              "      fill: #1967D2;\n",
              "      height: 32px;\n",
              "      padding: 0 0 0 0;\n",
              "      width: 32px;\n",
              "    }\n",
              "\n",
              "    .colab-df-convert:hover {\n",
              "      background-color: #E2EBFA;\n",
              "      box-shadow: 0px 1px 2px rgba(60, 64, 67, 0.3), 0px 1px 3px 1px rgba(60, 64, 67, 0.15);\n",
              "      fill: #174EA6;\n",
              "    }\n",
              "\n",
              "    [theme=dark] .colab-df-convert {\n",
              "      background-color: #3B4455;\n",
              "      fill: #D2E3FC;\n",
              "    }\n",
              "\n",
              "    [theme=dark] .colab-df-convert:hover {\n",
              "      background-color: #434B5C;\n",
              "      box-shadow: 0px 1px 3px 1px rgba(0, 0, 0, 0.15);\n",
              "      filter: drop-shadow(0px 1px 2px rgba(0, 0, 0, 0.3));\n",
              "      fill: #FFFFFF;\n",
              "    }\n",
              "  </style>\n",
              "\n",
              "      <script>\n",
              "        const buttonEl =\n",
              "          document.querySelector('#df-a3bee9e8-eaca-447c-bc54-58a831e42db1 button.colab-df-convert');\n",
              "        buttonEl.style.display =\n",
              "          google.colab.kernel.accessAllowed ? 'block' : 'none';\n",
              "\n",
              "        async function convertToInteractive(key) {\n",
              "          const element = document.querySelector('#df-a3bee9e8-eaca-447c-bc54-58a831e42db1');\n",
              "          const dataTable =\n",
              "            await google.colab.kernel.invokeFunction('convertToInteractive',\n",
              "                                                     [key], {});\n",
              "          if (!dataTable) return;\n",
              "\n",
              "          const docLinkHtml = 'Like what you see? Visit the ' +\n",
              "            '<a target=\"_blank\" href=https://colab.research.google.com/notebooks/data_table.ipynb>data table notebook</a>'\n",
              "            + ' to learn more about interactive tables.';\n",
              "          element.innerHTML = '';\n",
              "          dataTable['output_type'] = 'display_data';\n",
              "          await google.colab.output.renderOutput(dataTable, element);\n",
              "          const docLink = document.createElement('div');\n",
              "          docLink.innerHTML = docLinkHtml;\n",
              "          element.appendChild(docLink);\n",
              "        }\n",
              "      </script>\n",
              "    </div>\n",
              "  </div>\n",
              "  "
            ]
          },
          "metadata": {},
          "execution_count": 18
        }
      ]
    },
    {
      "cell_type": "markdown",
      "source": [
        "Another key operation when analyzing data is to group the rows in a dataframe and \n",
        "\n",
        "`groupby` takes a list of column names, and groups all those with the same value for those column names together. Then we can perform any statistical test on these groups, computing their means, medians, modes, counts, quartiles, and the like, or we can use the describe command to do several of those."
      ],
      "metadata": {
        "id": "MjtiWGsy-ClI"
      }
    },
    {
      "cell_type": "code",
      "source": [
        "df.groupby([\"Solvent\",\"SolventSMILES\"]).describe()"
      ],
      "metadata": {
        "id": "VU-I7Kl2U43x"
      },
      "execution_count": null,
      "outputs": []
    },
    {
      "cell_type": "markdown",
      "source": [
        "Finally, we may want to filter data based on some conditions. Simply writing those conditions on in terms of the columns gives a boolean array of which rows should appear in the final filter. This can be provided to the dataframe to get those rows. Examples of this follow, first with a simple condition and then with more complex compound conditionals."
      ],
      "metadata": {
        "id": "RmnjUBCe-jyP"
      }
    },
    {
      "cell_type": "code",
      "source": [
        "filtered_df = df[df[\"Solvent\"]==\"UNDECANOL\"]\n",
        "filtered_df"
      ],
      "metadata": {
        "id": "N7GEvZ5AVGA6"
      },
      "execution_count": null,
      "outputs": []
    },
    {
      "cell_type": "code",
      "source": [
        "filtered_df = df[(df[\"Solvent\"]==\"UNDECANOL\") & (df[\"DeltaGsolv\"] < 2)]\n",
        "filtered_df"
      ],
      "metadata": {
        "id": "FHBpAk1ZW-rS"
      },
      "execution_count": null,
      "outputs": []
    },
    {
      "cell_type": "markdown",
      "source": [
        "We can also create new columns which can be computed from old columns using any custom function. These can be normal functions or lambda."
      ],
      "metadata": {
        "id": "HNu--trHx-oc"
      }
    },
    {
      "cell_type": "code",
      "source": [
        "def get_string_rep(x): \n",
        "    return x[\"SoluteSMILES\"] + '/' + x[\"SolventSMILES\"]\n",
        "\n",
        "function_applied_df = filtered_df.copy()\n",
        "function_applied_df[\"SearchString\"] = function_applied_df.apply(get_string_rep, axis=1)\n",
        "function_applied_df"
      ],
      "metadata": {
        "id": "KBd1LdnFx-J9"
      },
      "execution_count": null,
      "outputs": []
    },
    {
      "cell_type": "markdown",
      "source": [
        "**Exercise Question:**\n",
        "For each solvent, compute the mean of the solvation free energies of those molecules which have a negative free energy value and do not have a Fluorine in the molecular formula."
      ],
      "metadata": {
        "id": "OYix3PYcxq0J"
      }
    },
    {
      "cell_type": "code",
      "source": [
        "df.head(5)"
      ],
      "metadata": {
        "colab": {
          "base_uri": "https://localhost:8080/",
          "height": 206
        },
        "id": "NggF-1c-JSbv",
        "outputId": "36af17ef-3f9f-4892-d56f-d4e195479188"
      },
      "execution_count": null,
      "outputs": [
        {
          "output_type": "execute_result",
          "data": {
            "text/plain": [
              "             Solute             Solvent SoluteSMILES SolventSMILES  DeltaGsolv\n",
              "0  HYDROGEN SULFIDE  4-FORMYLMORPHOLINE            S   C1COCCN1C=O       -1.81\n",
              "1  HYDROGEN SULFIDE         ACETIC ACID            S       CC(=O)O       -1.50\n",
              "2  HYDROGEN SULFIDE             ACETONE            S       CC(=O)C       -1.90\n",
              "3  HYDROGEN SULFIDE        BROMOBENZENE            S  c1ccc(cc1)Br       -1.30\n",
              "4  HYDROGEN SULFIDE       CHLOROBENZENE            S  c1ccc(cc1)Cl       -1.50"
            ],
            "text/html": [
              "\n",
              "  <div id=\"df-8a471c92-97da-45ef-b0e4-e324e44aa658\">\n",
              "    <div class=\"colab-df-container\">\n",
              "      <div>\n",
              "<style scoped>\n",
              "    .dataframe tbody tr th:only-of-type {\n",
              "        vertical-align: middle;\n",
              "    }\n",
              "\n",
              "    .dataframe tbody tr th {\n",
              "        vertical-align: top;\n",
              "    }\n",
              "\n",
              "    .dataframe thead th {\n",
              "        text-align: right;\n",
              "    }\n",
              "</style>\n",
              "<table border=\"1\" class=\"dataframe\">\n",
              "  <thead>\n",
              "    <tr style=\"text-align: right;\">\n",
              "      <th></th>\n",
              "      <th>Solute</th>\n",
              "      <th>Solvent</th>\n",
              "      <th>SoluteSMILES</th>\n",
              "      <th>SolventSMILES</th>\n",
              "      <th>DeltaGsolv</th>\n",
              "    </tr>\n",
              "  </thead>\n",
              "  <tbody>\n",
              "    <tr>\n",
              "      <th>0</th>\n",
              "      <td>HYDROGEN SULFIDE</td>\n",
              "      <td>4-FORMYLMORPHOLINE</td>\n",
              "      <td>S</td>\n",
              "      <td>C1COCCN1C=O</td>\n",
              "      <td>-1.81</td>\n",
              "    </tr>\n",
              "    <tr>\n",
              "      <th>1</th>\n",
              "      <td>HYDROGEN SULFIDE</td>\n",
              "      <td>ACETIC ACID</td>\n",
              "      <td>S</td>\n",
              "      <td>CC(=O)O</td>\n",
              "      <td>-1.50</td>\n",
              "    </tr>\n",
              "    <tr>\n",
              "      <th>2</th>\n",
              "      <td>HYDROGEN SULFIDE</td>\n",
              "      <td>ACETONE</td>\n",
              "      <td>S</td>\n",
              "      <td>CC(=O)C</td>\n",
              "      <td>-1.90</td>\n",
              "    </tr>\n",
              "    <tr>\n",
              "      <th>3</th>\n",
              "      <td>HYDROGEN SULFIDE</td>\n",
              "      <td>BROMOBENZENE</td>\n",
              "      <td>S</td>\n",
              "      <td>c1ccc(cc1)Br</td>\n",
              "      <td>-1.30</td>\n",
              "    </tr>\n",
              "    <tr>\n",
              "      <th>4</th>\n",
              "      <td>HYDROGEN SULFIDE</td>\n",
              "      <td>CHLOROBENZENE</td>\n",
              "      <td>S</td>\n",
              "      <td>c1ccc(cc1)Cl</td>\n",
              "      <td>-1.50</td>\n",
              "    </tr>\n",
              "  </tbody>\n",
              "</table>\n",
              "</div>\n",
              "      <button class=\"colab-df-convert\" onclick=\"convertToInteractive('df-8a471c92-97da-45ef-b0e4-e324e44aa658')\"\n",
              "              title=\"Convert this dataframe to an interactive table.\"\n",
              "              style=\"display:none;\">\n",
              "        \n",
              "  <svg xmlns=\"http://www.w3.org/2000/svg\" height=\"24px\"viewBox=\"0 0 24 24\"\n",
              "       width=\"24px\">\n",
              "    <path d=\"M0 0h24v24H0V0z\" fill=\"none\"/>\n",
              "    <path d=\"M18.56 5.44l.94 2.06.94-2.06 2.06-.94-2.06-.94-.94-2.06-.94 2.06-2.06.94zm-11 1L8.5 8.5l.94-2.06 2.06-.94-2.06-.94L8.5 2.5l-.94 2.06-2.06.94zm10 10l.94 2.06.94-2.06 2.06-.94-2.06-.94-.94-2.06-.94 2.06-2.06.94z\"/><path d=\"M17.41 7.96l-1.37-1.37c-.4-.4-.92-.59-1.43-.59-.52 0-1.04.2-1.43.59L10.3 9.45l-7.72 7.72c-.78.78-.78 2.05 0 2.83L4 21.41c.39.39.9.59 1.41.59.51 0 1.02-.2 1.41-.59l7.78-7.78 2.81-2.81c.8-.78.8-2.07 0-2.86zM5.41 20L4 18.59l7.72-7.72 1.47 1.35L5.41 20z\"/>\n",
              "  </svg>\n",
              "      </button>\n",
              "      \n",
              "  <style>\n",
              "    .colab-df-container {\n",
              "      display:flex;\n",
              "      flex-wrap:wrap;\n",
              "      gap: 12px;\n",
              "    }\n",
              "\n",
              "    .colab-df-convert {\n",
              "      background-color: #E8F0FE;\n",
              "      border: none;\n",
              "      border-radius: 50%;\n",
              "      cursor: pointer;\n",
              "      display: none;\n",
              "      fill: #1967D2;\n",
              "      height: 32px;\n",
              "      padding: 0 0 0 0;\n",
              "      width: 32px;\n",
              "    }\n",
              "\n",
              "    .colab-df-convert:hover {\n",
              "      background-color: #E2EBFA;\n",
              "      box-shadow: 0px 1px 2px rgba(60, 64, 67, 0.3), 0px 1px 3px 1px rgba(60, 64, 67, 0.15);\n",
              "      fill: #174EA6;\n",
              "    }\n",
              "\n",
              "    [theme=dark] .colab-df-convert {\n",
              "      background-color: #3B4455;\n",
              "      fill: #D2E3FC;\n",
              "    }\n",
              "\n",
              "    [theme=dark] .colab-df-convert:hover {\n",
              "      background-color: #434B5C;\n",
              "      box-shadow: 0px 1px 3px 1px rgba(0, 0, 0, 0.15);\n",
              "      filter: drop-shadow(0px 1px 2px rgba(0, 0, 0, 0.3));\n",
              "      fill: #FFFFFF;\n",
              "    }\n",
              "  </style>\n",
              "\n",
              "      <script>\n",
              "        const buttonEl =\n",
              "          document.querySelector('#df-8a471c92-97da-45ef-b0e4-e324e44aa658 button.colab-df-convert');\n",
              "        buttonEl.style.display =\n",
              "          google.colab.kernel.accessAllowed ? 'block' : 'none';\n",
              "\n",
              "        async function convertToInteractive(key) {\n",
              "          const element = document.querySelector('#df-8a471c92-97da-45ef-b0e4-e324e44aa658');\n",
              "          const dataTable =\n",
              "            await google.colab.kernel.invokeFunction('convertToInteractive',\n",
              "                                                     [key], {});\n",
              "          if (!dataTable) return;\n",
              "\n",
              "          const docLinkHtml = 'Like what you see? Visit the ' +\n",
              "            '<a target=\"_blank\" href=https://colab.research.google.com/notebooks/data_table.ipynb>data table notebook</a>'\n",
              "            + ' to learn more about interactive tables.';\n",
              "          element.innerHTML = '';\n",
              "          dataTable['output_type'] = 'display_data';\n",
              "          await google.colab.output.renderOutput(dataTable, element);\n",
              "          const docLink = document.createElement('div');\n",
              "          docLink.innerHTML = docLinkHtml;\n",
              "          element.appendChild(docLink);\n",
              "        }\n",
              "      </script>\n",
              "    </div>\n",
              "  </div>\n",
              "  "
            ]
          },
          "metadata": {},
          "execution_count": 11
        }
      ]
    },
    {
      "cell_type": "code",
      "source": [
        "df_solvent = df[(df[\"DeltaGsolv\"]<0) & (df[\"Solvent\"]!='FLUORINE')]"
      ],
      "metadata": {
        "id": "os2QaZViJW5T"
      },
      "execution_count": null,
      "outputs": []
    },
    {
      "cell_type": "markdown",
      "source": [
        "## 5. Writing back CSV files"
      ],
      "metadata": {
        "id": "2ZXF7UhM-neS"
      }
    },
    {
      "cell_type": "markdown",
      "source": [
        "We can write back our processed dataframes to disk to load it another time and start from there. To `to_csv` function writes back a dataframe to a CSV file."
      ],
      "metadata": {
        "id": "Z5Y-skxN_jpb"
      }
    },
    {
      "cell_type": "code",
      "source": [
        "filtered_df.to_csv(\"filtered_solvatum.csv\", sep=\";\", index=False)"
      ],
      "metadata": {
        "id": "wxz7tvC3ZKqd"
      },
      "execution_count": null,
      "outputs": []
    },
    {
      "cell_type": "markdown",
      "source": [
        "Let's take a look at the file we just saved."
      ],
      "metadata": {
        "id": "Yi0LZ-8O_h0b"
      }
    },
    {
      "cell_type": "code",
      "source": [
        "with open(\"filtered_solvatum.csv\", \"r\") as f:\n",
        "    print(\"\".join(f.readlines()[:5]))"
      ],
      "metadata": {
        "id": "de_TmKR8-uw-"
      },
      "execution_count": null,
      "outputs": []
    },
    {
      "cell_type": "markdown",
      "source": [
        "## 6. Making some basic plots"
      ],
      "metadata": {
        "id": "cTt3ZIjkAkH5"
      }
    },
    {
      "cell_type": "markdown",
      "source": [
        "We can make histograms any column of our data."
      ],
      "metadata": {
        "id": "9_rDnAn3CBaT"
      }
    },
    {
      "cell_type": "code",
      "source": [
        "import seaborn as sns\n",
        "import matplotlib.pyplot as plt"
      ],
      "metadata": {
        "id": "fqDRvCaN25eF"
      },
      "execution_count": null,
      "outputs": []
    },
    {
      "cell_type": "code",
      "source": [
        "sns.histplot(df[\"DeltaGsolv\"]**2)\n",
        "plt.show()"
      ],
      "metadata": {
        "id": "hcOt3t3hAmf-",
        "colab": {
          "base_uri": "https://localhost:8080/",
          "height": 281
        },
        "outputId": "a99b5720-3bc0-4c43-fdba-74c0f5a4f4b0"
      },
      "execution_count": null,
      "outputs": [
        {
          "output_type": "display_data",
          "data": {
            "text/plain": [
              "<Figure size 432x288 with 1 Axes>"
            ],
            "image/png": "[encoded data removed]"
          },
          "metadata": {
            "needs_background": "light"
          }
        }
      ]
    },
    {
      "cell_type": "markdown",
      "source": [
        "Or we can try to plot the mean and variance of the solvation energies for every solvent and see the differences accross those."
      ],
      "metadata": {
        "id": "DXNn4vckCE_5"
      }
    },
    {
      "cell_type": "code",
      "source": [
        "plt.figure(figsize=(15, 8))\n",
        "sns.boxplot(x='Solvent', y='DeltaGsolv', data=df.sample(100))\n",
        "plt.xticks(rotation = 90)\n",
        "plt.show()"
      ],
      "metadata": {
        "id": "VveXpngiBEsw"
      },
      "execution_count": null,
      "outputs": []
    },
    {
      "cell_type": "markdown",
      "source": [
        "Or we can combine both and make violin plots, which are histograms made independently for each class and stacked together horizontally."
      ],
      "metadata": {
        "id": "gXjWl0ePCM86"
      }
    },
    {
      "cell_type": "code",
      "source": [
        "plt.figure(figsize=(15, 8))\n",
        "sns.violinplot(x='Solvent', y='DeltaGsolv', data=df.sample(50))\n",
        "plt.xticks(rotation = 90)\n",
        "plt.show()"
      ],
      "metadata": {
        "id": "EDPplJBRCUrl"
      },
      "execution_count": null,
      "outputs": []
    },
    {
      "cell_type": "markdown",
      "source": [
        "**Exercise Question:** Plot a histogram of the squares of the solvation free energy values."
      ],
      "metadata": {
        "id": "OB0WGxrgzWD_"
      }
    },
    {
      "cell_type": "markdown",
      "source": [
        "## 7. Advanced Data Processing for Chemistry"
      ],
      "metadata": {
        "id": "VIeOLOHkADI2"
      }
    },
    {
      "cell_type": "markdown",
      "source": [
        "Hack to setup RDKit in Colab. Not needed when running on local machines."
      ],
      "metadata": {
        "id": "-hLi5XqQDjk4"
      }
    },
    {
      "cell_type": "code",
      "source": [
        "!wget -c https://repo.continuum.io/miniconda/Miniconda3-py37_4.8.3-Linux-x86_64.sh\n",
        "!chmod +x Miniconda3-py37_4.8.3-Linux-x86_64.sh\n",
        "!time bash ./Miniconda3-py37_4.8.3-Linux-x86_64.sh -b -f -p /usr/local\n",
        "!time conda install -q -y -c rdkit rdkit\n",
        "\n",
        "import sys\n",
        "sys.path.append('/usr/local/lib/python3.7/site-packages/')"
      ],
      "metadata": {
        "id": "yo8aCYbWAFj5"
      },
      "execution_count": null,
      "outputs": []
    },
    {
      "cell_type": "code",
      "source": [
        "import rdkit.Chem\n",
        "import rdkit.Chem.Draw"
      ],
      "metadata": {
        "id": "5Pl2vuB2AcXM"
      },
      "execution_count": null,
      "outputs": []
    },
    {
      "cell_type": "markdown",
      "source": [
        "### Visualizing the Molecules"
      ],
      "metadata": {
        "id": "eDGCVjIQGgxP"
      }
    },
    {
      "cell_type": "code",
      "source": [
        "df[\"Solvent\"].values[:16]"
      ],
      "metadata": {
        "id": "YTAhC1avF-XT"
      },
      "execution_count": null,
      "outputs": []
    },
    {
      "cell_type": "code",
      "source": [
        "molecules = [rdkit.Chem.MolFromSmiles(df[\"SolventSMILES\"][i]) for i in range(16)]\n",
        "rdkit.Chem.Draw.MolsToGridImage(molecules, molsPerRow=4, subImgSize=(300,120), legends=[df[\"Solvent\"][i] for i in range(16)])"
      ],
      "metadata": {
        "id": "zkiDyq06De6u"
      },
      "execution_count": null,
      "outputs": []
    },
    {
      "cell_type": "markdown",
      "source": [
        "### Filtering based on functional groups"
      ],
      "metadata": {
        "id": "XpECuRB8GdGj"
      }
    },
    {
      "cell_type": "code",
      "source": [
        "def has_carboxyl(molecule):\n",
        "    mol = rdkit.Chem.MolFromSmiles(molecule)\n",
        "    functional_group = rdkit.Chem.MolFromSmarts('C=O')\n",
        "    matches = mol.GetSubstructMatches(functional_group)\n",
        "    return len(matches) != 0\n",
        "\n",
        "featurized_df = df.copy()\n",
        "featurized_df[\"soluteHasCarboxyl\"] = featurized_df[\"SoluteSMILES\"].apply(has_carboxyl)\n",
        "featurized_df[\"solventHasCarboxyl\"] = featurized_df[\"SolventSMILES\"].apply(has_carboxyl)"
      ],
      "metadata": {
        "id": "ETVHK8FwGjZr"
      },
      "execution_count": null,
      "outputs": []
    },
    {
      "cell_type": "code",
      "source": [
        "carboxyl_data = featurized_df.groupby([\"soluteHasCarboxyl\", \"solventHasCarboxyl\"]).mean()\n",
        "carboxyl_data"
      ],
      "metadata": {
        "id": "uXqLQroTOnpp"
      },
      "execution_count": null,
      "outputs": []
    },
    {
      "cell_type": "code",
      "source": [
        "sns.heatmap(\n",
        "    carboxyl_data.values.reshape(2, 2), \n",
        "    yticklabels=[\"solute does not\", \"solute has carboxyl\"], \n",
        "    xticklabels=[\"solvent does not\", \"solvent has carboxyl\"]\n",
        ")\n",
        "plt.show()"
      ],
      "metadata": {
        "id": "5b07hso2PDDd"
      },
      "execution_count": null,
      "outputs": []
    },
    {
      "cell_type": "markdown",
      "source": [
        "**Exercise Question:** Make a 4x4 heatmap for the max value of solvation free energy when the solute and solvent each have carboxyl, alcohol, both, or neither."
      ],
      "metadata": {
        "id": "kellb4Pizeg2"
      }
    },
    {
      "cell_type": "markdown",
      "source": [
        "## 8. Further Reading"
      ],
      "metadata": {
        "id": "Jl55DYDyRivn"
      }
    },
    {
      "cell_type": "markdown",
      "source": [
        "* To learn about Pandas in detail, do the exercises and tutorials over at: https://www.kaggle.com/learn/pandas\n",
        "* To learn about Seaborn in detail, do the exercises and tutorials over at: https://www.kaggle.com/learn/data-visualization\n"
      ],
      "metadata": {
        "id": "noLmbMOcRlNJ"
      }
    }
  ]
}