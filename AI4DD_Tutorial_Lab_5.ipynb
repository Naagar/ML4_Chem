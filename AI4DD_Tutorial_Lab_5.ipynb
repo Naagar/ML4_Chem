{
  "nbformat": 4,
  "nbformat_minor": 0,
  "metadata": {
    "colab": {
      "name": "AI4DD - Tutorial Lab 5",
      "provenance": [],
      "collapsed_sections": []
    },
    "kernelspec": {
      "name": "python3",
      "display_name": "Python 3"
    },
    "language_info": {
      "name": "python"
    },
    "widgets": {
      "application/vnd.jupyter.widget-state+json": {
        "bb7c3bc856af4aa788d5d86116fc610c": {
          "model_module": "@jupyter-widgets/controls",
          "model_name": "HBoxModel",
          "model_module_version": "1.5.0",
          "state": {
            "_dom_classes": [],
            "_model_module": "@jupyter-widgets/controls",
            "_model_module_version": "1.5.0",
            "_model_name": "HBoxModel",
            "_view_count": null,
            "_view_module": "@jupyter-widgets/controls",
            "_view_module_version": "1.5.0",
            "_view_name": "HBoxView",
            "box_style": "",
            "children": [
              "IPY_MODEL_c2df787e72ac41f6818c41feb297f907",
              "IPY_MODEL_2787d6bb26ca4e48b551c8743c30eb0d",
              "IPY_MODEL_182c25a8a64c4a799652efeb3bed839c"
            ],
            "layout": "IPY_MODEL_60a267ef9d3544efb01718d29d24b66c"
          }
        },
        "c2df787e72ac41f6818c41feb297f907": {
          "model_module": "@jupyter-widgets/controls",
          "model_name": "HTMLModel",
          "model_module_version": "1.5.0",
          "state": {
            "_dom_classes": [],
            "_model_module": "@jupyter-widgets/controls",
            "_model_module_version": "1.5.0",
            "_model_name": "HTMLModel",
            "_view_count": null,
            "_view_module": "@jupyter-widgets/controls",
            "_view_module_version": "1.5.0",
            "_view_name": "HTMLView",
            "description": "",
            "description_tooltip": null,
            "layout": "IPY_MODEL_c9f9ff54d01a4c5687c8dfac22ad8461",
            "placeholder": "​",
            "style": "IPY_MODEL_28d5c50444434e6cb39b8921fcddafb9",
            "value": "100%"
          }
        },
        "2787d6bb26ca4e48b551c8743c30eb0d": {
          "model_module": "@jupyter-widgets/controls",
          "model_name": "FloatProgressModel",
          "model_module_version": "1.5.0",
          "state": {
            "_dom_classes": [],
            "_model_module": "@jupyter-widgets/controls",
            "_model_module_version": "1.5.0",
            "_model_name": "FloatProgressModel",
            "_view_count": null,
            "_view_module": "@jupyter-widgets/controls",
            "_view_module_version": "1.5.0",
            "_view_name": "ProgressView",
            "bar_style": "success",
            "description": "",
            "description_tooltip": null,
            "layout": "IPY_MODEL_5bf12265fa894aa0a25fd1a5bf3b4605",
            "max": 66706,
            "min": 0,
            "orientation": "horizontal",
            "style": "IPY_MODEL_ece87f1fd58d4d0bbcf783c845634b0e",
            "value": 66706
          }
        },
        "182c25a8a64c4a799652efeb3bed839c": {
          "model_module": "@jupyter-widgets/controls",
          "model_name": "HTMLModel",
          "model_module_version": "1.5.0",
          "state": {
            "_dom_classes": [],
            "_model_module": "@jupyter-widgets/controls",
            "_model_module_version": "1.5.0",
            "_model_name": "HTMLModel",
            "_view_count": null,
            "_view_module": "@jupyter-widgets/controls",
            "_view_module_version": "1.5.0",
            "_view_name": "HTMLView",
            "description": "",
            "description_tooltip": null,
            "layout": "IPY_MODEL_892a24f93aa54646a0369c00e2bad8bd",
            "placeholder": "​",
            "style": "IPY_MODEL_1958df63fead461eba9d397b578f6ba5",
            "value": " 66706/66706 [00:10&lt;00:00, 4792.48it/s]"
          }
        },
        "60a267ef9d3544efb01718d29d24b66c": {
          "model_module": "@jupyter-widgets/base",
          "model_name": "LayoutModel",
          "model_module_version": "1.2.0",
          "state": {
            "_model_module": "@jupyter-widgets/base",
            "_model_module_version": "1.2.0",
            "_model_name": "LayoutModel",
            "_view_count": null,
            "_view_module": "@jupyter-widgets/base",
            "_view_module_version": "1.2.0",
            "_view_name": "LayoutView",
            "align_content": null,
            "align_items": null,
            "align_self": null,
            "border": null,
            "bottom": null,
            "display": null,
            "flex": null,
            "flex_flow": null,
            "grid_area": null,
            "grid_auto_columns": null,
            "grid_auto_flow": null,
            "grid_auto_rows": null,
            "grid_column": null,
            "grid_gap": null,
            "grid_row": null,
            "grid_template_areas": null,
            "grid_template_columns": null,
            "grid_template_rows": null,
            "height": null,
            "justify_content": null,
            "justify_items": null,
            "left": null,
            "margin": null,
            "max_height": null,
            "max_width": null,
            "min_height": null,
            "min_width": null,
            "object_fit": null,
            "object_position": null,
            "order": null,
            "overflow": null,
            "overflow_x": null,
            "overflow_y": null,
            "padding": null,
            "right": null,
            "top": null,
            "visibility": null,
            "width": null
          }
        },
        "c9f9ff54d01a4c5687c8dfac22ad8461": {
          "model_module": "@jupyter-widgets/base",
          "model_name": "LayoutModel",
          "model_module_version": "1.2.0",
          "state": {
            "_model_module": "@jupyter-widgets/base",
            "_model_module_version": "1.2.0",
            "_model_name": "LayoutModel",
            "_view_count": null,
            "_view_module": "@jupyter-widgets/base",
            "_view_module_version": "1.2.0",
            "_view_name": "LayoutView",
            "align_content": null,
            "align_items": null,
            "align_self": null,
            "border": null,
            "bottom": null,
            "display": null,
            "flex": null,
            "flex_flow": null,
            "grid_area": null,
            "grid_auto_columns": null,
            "grid_auto_flow": null,
            "grid_auto_rows": null,
            "grid_column": null,
            "grid_gap": null,
            "grid_row": null,
            "grid_template_areas": null,
            "grid_template_columns": null,
            "grid_template_rows": null,
            "height": null,
            "justify_content": null,
            "justify_items": null,
            "left": null,
            "margin": null,
            "max_height": null,
            "max_width": null,
            "min_height": null,
            "min_width": null,
            "object_fit": null,
            "object_position": null,
            "order": null,
            "overflow": null,
            "overflow_x": null,
            "overflow_y": null,
            "padding": null,
            "right": null,
            "top": null,
            "visibility": null,
            "width": null
          }
        },
        "28d5c50444434e6cb39b8921fcddafb9": {
          "model_module": "@jupyter-widgets/controls",
          "model_name": "DescriptionStyleModel",
          "model_module_version": "1.5.0",
          "state": {
            "_model_module": "@jupyter-widgets/controls",
            "_model_module_version": "1.5.0",
            "_model_name": "DescriptionStyleModel",
            "_view_count": null,
            "_view_module": "@jupyter-widgets/base",
            "_view_module_version": "1.2.0",
            "_view_name": "StyleView",
            "description_width": ""
          }
        },
        "5bf12265fa894aa0a25fd1a5bf3b4605": {
          "model_module": "@jupyter-widgets/base",
          "model_name": "LayoutModel",
          "model_module_version": "1.2.0",
          "state": {
            "_model_module": "@jupyter-widgets/base",
            "_model_module_version": "1.2.0",
            "_model_name": "LayoutModel",
            "_view_count": null,
            "_view_module": "@jupyter-widgets/base",
            "_view_module_version": "1.2.0",
            "_view_name": "LayoutView",
            "align_content": null,
            "align_items": null,
            "align_self": null,
            "border": null,
            "bottom": null,
            "display": null,
            "flex": null,
            "flex_flow": null,
            "grid_area": null,
            "grid_auto_columns": null,
            "grid_auto_flow": null,
            "grid_auto_rows": null,
            "grid_column": null,
            "grid_gap": null,
            "grid_row": null,
            "grid_template_areas": null,
            "grid_template_columns": null,
            "grid_template_rows": null,
            "height": null,
            "justify_content": null,
            "justify_items": null,
            "left": null,
            "margin": null,
            "max_height": null,
            "max_width": null,
            "min_height": null,
            "min_width": null,
            "object_fit": null,
            "object_position": null,
            "order": null,
            "overflow": null,
            "overflow_x": null,
            "overflow_y": null,
            "padding": null,
            "right": null,
            "top": null,
            "visibility": null,
            "width": null
          }
        },
        "ece87f1fd58d4d0bbcf783c845634b0e": {
          "model_module": "@jupyter-widgets/controls",
          "model_name": "ProgressStyleModel",
          "model_module_version": "1.5.0",
          "state": {
            "_model_module": "@jupyter-widgets/controls",
            "_model_module_version": "1.5.0",
            "_model_name": "ProgressStyleModel",
            "_view_count": null,
            "_view_module": "@jupyter-widgets/base",
            "_view_module_version": "1.2.0",
            "_view_name": "StyleView",
            "bar_color": null,
            "description_width": ""
          }
        },
        "892a24f93aa54646a0369c00e2bad8bd": {
          "model_module": "@jupyter-widgets/base",
          "model_name": "LayoutModel",
          "model_module_version": "1.2.0",
          "state": {
            "_model_module": "@jupyter-widgets/base",
            "_model_module_version": "1.2.0",
            "_model_name": "LayoutModel",
            "_view_count": null,
            "_view_module": "@jupyter-widgets/base",
            "_view_module_version": "1.2.0",
            "_view_name": "LayoutView",
            "align_content": null,
            "align_items": null,
            "align_self": null,
            "border": null,
            "bottom": null,
            "display": null,
            "flex": null,
            "flex_flow": null,
            "grid_area": null,
            "grid_auto_columns": null,
            "grid_auto_flow": null,
            "grid_auto_rows": null,
            "grid_column": null,
            "grid_gap": null,
            "grid_row": null,
            "grid_template_areas": null,
            "grid_template_columns": null,
            "grid_template_rows": null,
            "height": null,
            "justify_content": null,
            "justify_items": null,
            "left": null,
            "margin": null,
            "max_height": null,
            "max_width": null,
            "min_height": null,
            "min_width": null,
            "object_fit": null,
            "object_position": null,
            "order": null,
            "overflow": null,
            "overflow_x": null,
            "overflow_y": null,
            "padding": null,
            "right": null,
            "top": null,
            "visibility": null,
            "width": null
          }
        },
        "1958df63fead461eba9d397b578f6ba5": {
          "model_module": "@jupyter-widgets/controls",
          "model_name": "DescriptionStyleModel",
          "model_module_version": "1.5.0",
          "state": {
            "_model_module": "@jupyter-widgets/controls",
            "_model_module_version": "1.5.0",
            "_model_name": "DescriptionStyleModel",
            "_view_count": null,
            "_view_module": "@jupyter-widgets/base",
            "_view_module_version": "1.2.0",
            "_view_name": "StyleView",
            "description_width": ""
          }
        },
        "93ef261cd5c043f3b083199c45ad8cf1": {
          "model_module": "@jupyter-widgets/controls",
          "model_name": "HBoxModel",
          "model_module_version": "1.5.0",
          "state": {
            "_dom_classes": [],
            "_model_module": "@jupyter-widgets/controls",
            "_model_module_version": "1.5.0",
            "_model_name": "HBoxModel",
            "_view_count": null,
            "_view_module": "@jupyter-widgets/controls",
            "_view_module_version": "1.5.0",
            "_view_name": "HBoxView",
            "box_style": "",
            "children": [
              "IPY_MODEL_c5e075d3529d43068a0676c5b01d4c53",
              "IPY_MODEL_2abd15b956e649049aef63d91434ce47",
              "IPY_MODEL_a79390214ead4a55b05cc9edb6443db0"
            ],
            "layout": "IPY_MODEL_d08d45d493184181b77be53aadce78e2"
          }
        },
        "c5e075d3529d43068a0676c5b01d4c53": {
          "model_module": "@jupyter-widgets/controls",
          "model_name": "HTMLModel",
          "model_module_version": "1.5.0",
          "state": {
            "_dom_classes": [],
            "_model_module": "@jupyter-widgets/controls",
            "_model_module_version": "1.5.0",
            "_model_name": "HTMLModel",
            "_view_count": null,
            "_view_module": "@jupyter-widgets/controls",
            "_view_module_version": "1.5.0",
            "_view_name": "HTMLView",
            "description": "",
            "description_tooltip": null,
            "layout": "IPY_MODEL_d1bc19c306134a24991e852d44d8e18c",
            "placeholder": "​",
            "style": "IPY_MODEL_af516199fe51423295859bfe4d23fd0b",
            "value": "100%"
          }
        },
        "2abd15b956e649049aef63d91434ce47": {
          "model_module": "@jupyter-widgets/controls",
          "model_name": "FloatProgressModel",
          "model_module_version": "1.5.0",
          "state": {
            "_dom_classes": [],
            "_model_module": "@jupyter-widgets/controls",
            "_model_module_version": "1.5.0",
            "_model_name": "FloatProgressModel",
            "_view_count": null,
            "_view_module": "@jupyter-widgets/controls",
            "_view_module_version": "1.5.0",
            "_view_name": "ProgressView",
            "bar_style": "success",
            "description": "",
            "description_tooltip": null,
            "layout": "IPY_MODEL_b73ae306e09948b2a599f16786a0e0b4",
            "max": 66706,
            "min": 0,
            "orientation": "horizontal",
            "style": "IPY_MODEL_a237023cf9284bf6a1936559c9b49ddc",
            "value": 66706
          }
        },
        "a79390214ead4a55b05cc9edb6443db0": {
          "model_module": "@jupyter-widgets/controls",
          "model_name": "HTMLModel",
          "model_module_version": "1.5.0",
          "state": {
            "_dom_classes": [],
            "_model_module": "@jupyter-widgets/controls",
            "_model_module_version": "1.5.0",
            "_model_name": "HTMLModel",
            "_view_count": null,
            "_view_module": "@jupyter-widgets/controls",
            "_view_module_version": "1.5.0",
            "_view_name": "HTMLView",
            "description": "",
            "description_tooltip": null,
            "layout": "IPY_MODEL_7ff3fc4c683e417c8f526bc1034d4d35",
            "placeholder": "​",
            "style": "IPY_MODEL_ce9242aa13b44eff887e0bb9dbdfc2cc",
            "value": " 66706/66706 [00:16&lt;00:00, 4434.56it/s]"
          }
        },
        "d08d45d493184181b77be53aadce78e2": {
          "model_module": "@jupyter-widgets/base",
          "model_name": "LayoutModel",
          "model_module_version": "1.2.0",
          "state": {
            "_model_module": "@jupyter-widgets/base",
            "_model_module_version": "1.2.0",
            "_model_name": "LayoutModel",
            "_view_count": null,
            "_view_module": "@jupyter-widgets/base",
            "_view_module_version": "1.2.0",
            "_view_name": "LayoutView",
            "align_content": null,
            "align_items": null,
            "align_self": null,
            "border": null,
            "bottom": null,
            "display": null,
            "flex": null,
            "flex_flow": null,
            "grid_area": null,
            "grid_auto_columns": null,
            "grid_auto_flow": null,
            "grid_auto_rows": null,
            "grid_column": null,
            "grid_gap": null,
            "grid_row": null,
            "grid_template_areas": null,
            "grid_template_columns": null,
            "grid_template_rows": null,
            "height": null,
            "justify_content": null,
            "justify_items": null,
            "left": null,
            "margin": null,
            "max_height": null,
            "max_width": null,
            "min_height": null,
            "min_width": null,
            "object_fit": null,
            "object_position": null,
            "order": null,
            "overflow": null,
            "overflow_x": null,
            "overflow_y": null,
            "padding": null,
            "right": null,
            "top": null,
            "visibility": null,
            "width": null
          }
        },
        "d1bc19c306134a24991e852d44d8e18c": {
          "model_module": "@jupyter-widgets/base",
          "model_name": "LayoutModel",
          "model_module_version": "1.2.0",
          "state": {
            "_model_module": "@jupyter-widgets/base",
            "_model_module_version": "1.2.0",
            "_model_name": "LayoutModel",
            "_view_count": null,
            "_view_module": "@jupyter-widgets/base",
            "_view_module_version": "1.2.0",
            "_view_name": "LayoutView",
            "align_content": null,
            "align_items": null,
            "align_self": null,
            "border": null,
            "bottom": null,
            "display": null,
            "flex": null,
            "flex_flow": null,
            "grid_area": null,
            "grid_auto_columns": null,
            "grid_auto_flow": null,
            "grid_auto_rows": null,
            "grid_column": null,
            "grid_gap": null,
            "grid_row": null,
            "grid_template_areas": null,
            "grid_template_columns": null,
            "grid_template_rows": null,
            "height": null,
            "justify_content": null,
            "justify_items": null,
            "left": null,
            "margin": null,
            "max_height": null,
            "max_width": null,
            "min_height": null,
            "min_width": null,
            "object_fit": null,
            "object_position": null,
            "order": null,
            "overflow": null,
            "overflow_x": null,
            "overflow_y": null,
            "padding": null,
            "right": null,
            "top": null,
            "visibility": null,
            "width": null
          }
        },
        "af516199fe51423295859bfe4d23fd0b": {
          "model_module": "@jupyter-widgets/controls",
          "model_name": "DescriptionStyleModel",
          "model_module_version": "1.5.0",
          "state": {
            "_model_module": "@jupyter-widgets/controls",
            "_model_module_version": "1.5.0",
            "_model_name": "DescriptionStyleModel",
            "_view_count": null,
            "_view_module": "@jupyter-widgets/base",
            "_view_module_version": "1.2.0",
            "_view_name": "StyleView",
            "description_width": ""
          }
        },
        "b73ae306e09948b2a599f16786a0e0b4": {
          "model_module": "@jupyter-widgets/base",
          "model_name": "LayoutModel",
          "model_module_version": "1.2.0",
          "state": {
            "_model_module": "@jupyter-widgets/base",
            "_model_module_version": "1.2.0",
            "_model_name": "LayoutModel",
            "_view_count": null,
            "_view_module": "@jupyter-widgets/base",
            "_view_module_version": "1.2.0",
            "_view_name": "LayoutView",
            "align_content": null,
            "align_items": null,
            "align_self": null,
            "border": null,
            "bottom": null,
            "display": null,
            "flex": null,
            "flex_flow": null,
            "grid_area": null,
            "grid_auto_columns": null,
            "grid_auto_flow": null,
            "grid_auto_rows": null,
            "grid_column": null,
            "grid_gap": null,
            "grid_row": null,
            "grid_template_areas": null,
            "grid_template_columns": null,
            "grid_template_rows": null,
            "height": null,
            "justify_content": null,
            "justify_items": null,
            "left": null,
            "margin": null,
            "max_height": null,
            "max_width": null,
            "min_height": null,
            "min_width": null,
            "object_fit": null,
            "object_position": null,
            "order": null,
            "overflow": null,
            "overflow_x": null,
            "overflow_y": null,
            "padding": null,
            "right": null,
            "top": null,
            "visibility": null,
            "width": null
          }
        },
        "a237023cf9284bf6a1936559c9b49ddc": {
          "model_module": "@jupyter-widgets/controls",
          "model_name": "ProgressStyleModel",
          "model_module_version": "1.5.0",
          "state": {
            "_model_module": "@jupyter-widgets/controls",
            "_model_module_version": "1.5.0",
            "_model_name": "ProgressStyleModel",
            "_view_count": null,
            "_view_module": "@jupyter-widgets/base",
            "_view_module_version": "1.2.0",
            "_view_name": "StyleView",
            "bar_color": null,
            "description_width": ""
          }
        },
        "7ff3fc4c683e417c8f526bc1034d4d35": {
          "model_module": "@jupyter-widgets/base",
          "model_name": "LayoutModel",
          "model_module_version": "1.2.0",
          "state": {
            "_model_module": "@jupyter-widgets/base",
            "_model_module_version": "1.2.0",
            "_model_name": "LayoutModel",
            "_view_count": null,
            "_view_module": "@jupyter-widgets/base",
            "_view_module_version": "1.2.0",
            "_view_name": "LayoutView",
            "align_content": null,
            "align_items": null,
            "align_self": null,
            "border": null,
            "bottom": null,
            "display": null,
            "flex": null,
            "flex_flow": null,
            "grid_area": null,
            "grid_auto_columns": null,
            "grid_auto_flow": null,
            "grid_auto_rows": null,
            "grid_column": null,
            "grid_gap": null,
            "grid_row": null,
            "grid_template_areas": null,
            "grid_template_columns": null,
            "grid_template_rows": null,
            "height": null,
            "justify_content": null,
            "justify_items": null,
            "left": null,
            "margin": null,
            "max_height": null,
            "max_width": null,
            "min_height": null,
            "min_width": null,
            "object_fit": null,
            "object_position": null,
            "order": null,
            "overflow": null,
            "overflow_x": null,
            "overflow_y": null,
            "padding": null,
            "right": null,
            "top": null,
            "visibility": null,
            "width": null
          }
        },
        "ce9242aa13b44eff887e0bb9dbdfc2cc": {
          "model_module": "@jupyter-widgets/controls",
          "model_name": "DescriptionStyleModel",
          "model_module_version": "1.5.0",
          "state": {
            "_model_module": "@jupyter-widgets/controls",
            "_model_module_version": "1.5.0",
            "_model_name": "DescriptionStyleModel",
            "_view_count": null,
            "_view_module": "@jupyter-widgets/base",
            "_view_module_version": "1.2.0",
            "_view_name": "StyleView",
            "description_width": ""
          }
        },
        "3a7d504117804a71b554ed98cd943e23": {
          "model_module": "@jupyter-widgets/controls",
          "model_name": "HBoxModel",
          "model_module_version": "1.5.0",
          "state": {
            "_dom_classes": [],
            "_model_module": "@jupyter-widgets/controls",
            "_model_module_version": "1.5.0",
            "_model_name": "HBoxModel",
            "_view_count": null,
            "_view_module": "@jupyter-widgets/controls",
            "_view_module_version": "1.5.0",
            "_view_name": "HBoxView",
            "box_style": "",
            "children": [
              "IPY_MODEL_5a82d2fe77b54f91aa475e10c431df39",
              "IPY_MODEL_789523af8d604a2c9fb34a0d6449d50b",
              "IPY_MODEL_e6828f229cca490db9c9bdecea29d727"
            ],
            "layout": "IPY_MODEL_fc5812b57cff4c27bcff6ef78530b424"
          }
        },
        "5a82d2fe77b54f91aa475e10c431df39": {
          "model_module": "@jupyter-widgets/controls",
          "model_name": "HTMLModel",
          "model_module_version": "1.5.0",
          "state": {
            "_dom_classes": [],
            "_model_module": "@jupyter-widgets/controls",
            "_model_module_version": "1.5.0",
            "_model_name": "HTMLModel",
            "_view_count": null,
            "_view_module": "@jupyter-widgets/controls",
            "_view_module_version": "1.5.0",
            "_view_name": "HTMLView",
            "description": "",
            "description_tooltip": null,
            "layout": "IPY_MODEL_28c1e034aef84977ab150243dc669d55",
            "placeholder": "​",
            "style": "IPY_MODEL_c9cca113f4db4c93a8e2511897948f98",
            "value": "100%"
          }
        },
        "789523af8d604a2c9fb34a0d6449d50b": {
          "model_module": "@jupyter-widgets/controls",
          "model_name": "FloatProgressModel",
          "model_module_version": "1.5.0",
          "state": {
            "_dom_classes": [],
            "_model_module": "@jupyter-widgets/controls",
            "_model_module_version": "1.5.0",
            "_model_name": "FloatProgressModel",
            "_view_count": null,
            "_view_module": "@jupyter-widgets/controls",
            "_view_module_version": "1.5.0",
            "_view_name": "ProgressView",
            "bar_style": "success",
            "description": "",
            "description_tooltip": null,
            "layout": "IPY_MODEL_1c411f463cae4687bab94edcc0fcbd96",
            "max": 66706,
            "min": 0,
            "orientation": "horizontal",
            "style": "IPY_MODEL_2efa4f8e86074c6f888da1615d868852",
            "value": 66706
          }
        },
        "e6828f229cca490db9c9bdecea29d727": {
          "model_module": "@jupyter-widgets/controls",
          "model_name": "HTMLModel",
          "model_module_version": "1.5.0",
          "state": {
            "_dom_classes": [],
            "_model_module": "@jupyter-widgets/controls",
            "_model_module_version": "1.5.0",
            "_model_name": "HTMLModel",
            "_view_count": null,
            "_view_module": "@jupyter-widgets/controls",
            "_view_module_version": "1.5.0",
            "_view_name": "HTMLView",
            "description": "",
            "description_tooltip": null,
            "layout": "IPY_MODEL_fa8c2fcd6131445c8b61957da8124848",
            "placeholder": "​",
            "style": "IPY_MODEL_dcf77c58d8a745ec906510e7193beb34",
            "value": " 66706/66706 [00:37&lt;00:00, 2634.13it/s]"
          }
        },
        "fc5812b57cff4c27bcff6ef78530b424": {
          "model_module": "@jupyter-widgets/base",
          "model_name": "LayoutModel",
          "model_module_version": "1.2.0",
          "state": {
            "_model_module": "@jupyter-widgets/base",
            "_model_module_version": "1.2.0",
            "_model_name": "LayoutModel",
            "_view_count": null,
            "_view_module": "@jupyter-widgets/base",
            "_view_module_version": "1.2.0",
            "_view_name": "LayoutView",
            "align_content": null,
            "align_items": null,
            "align_self": null,
            "border": null,
            "bottom": null,
            "display": null,
            "flex": null,
            "flex_flow": null,
            "grid_area": null,
            "grid_auto_columns": null,
            "grid_auto_flow": null,
            "grid_auto_rows": null,
            "grid_column": null,
            "grid_gap": null,
            "grid_row": null,
            "grid_template_areas": null,
            "grid_template_columns": null,
            "grid_template_rows": null,
            "height": null,
            "justify_content": null,
            "justify_items": null,
            "left": null,
            "margin": null,
            "max_height": null,
            "max_width": null,
            "min_height": null,
            "min_width": null,
            "object_fit": null,
            "object_position": null,
            "order": null,
            "overflow": null,
            "overflow_x": null,
            "overflow_y": null,
            "padding": null,
            "right": null,
            "top": null,
            "visibility": null,
            "width": null
          }
        },
        "28c1e034aef84977ab150243dc669d55": {
          "model_module": "@jupyter-widgets/base",
          "model_name": "LayoutModel",
          "model_module_version": "1.2.0",
          "state": {
            "_model_module": "@jupyter-widgets/base",
            "_model_module_version": "1.2.0",
            "_model_name": "LayoutModel",
            "_view_count": null,
            "_view_module": "@jupyter-widgets/base",
            "_view_module_version": "1.2.0",
            "_view_name": "LayoutView",
            "align_content": null,
            "align_items": null,
            "align_self": null,
            "border": null,
            "bottom": null,
            "display": null,
            "flex": null,
            "flex_flow": null,
            "grid_area": null,
            "grid_auto_columns": null,
            "grid_auto_flow": null,
            "grid_auto_rows": null,
            "grid_column": null,
            "grid_gap": null,
            "grid_row": null,
            "grid_template_areas": null,
            "grid_template_columns": null,
            "grid_template_rows": null,
            "height": null,
            "justify_content": null,
            "justify_items": null,
            "left": null,
            "margin": null,
            "max_height": null,
            "max_width": null,
            "min_height": null,
            "min_width": null,
            "object_fit": null,
            "object_position": null,
            "order": null,
            "overflow": null,
            "overflow_x": null,
            "overflow_y": null,
            "padding": null,
            "right": null,
            "top": null,
            "visibility": null,
            "width": null
          }
        },
        "c9cca113f4db4c93a8e2511897948f98": {
          "model_module": "@jupyter-widgets/controls",
          "model_name": "DescriptionStyleModel",
          "model_module_version": "1.5.0",
          "state": {
            "_model_module": "@jupyter-widgets/controls",
            "_model_module_version": "1.5.0",
            "_model_name": "DescriptionStyleModel",
            "_view_count": null,
            "_view_module": "@jupyter-widgets/base",
            "_view_module_version": "1.2.0",
            "_view_name": "StyleView",
            "description_width": ""
          }
        },
        "1c411f463cae4687bab94edcc0fcbd96": {
          "model_module": "@jupyter-widgets/base",
          "model_name": "LayoutModel",
          "model_module_version": "1.2.0",
          "state": {
            "_model_module": "@jupyter-widgets/base",
            "_model_module_version": "1.2.0",
            "_model_name": "LayoutModel",
            "_view_count": null,
            "_view_module": "@jupyter-widgets/base",
            "_view_module_version": "1.2.0",
            "_view_name": "LayoutView",
            "align_content": null,
            "align_items": null,
            "align_self": null,
            "border": null,
            "bottom": null,
            "display": null,
            "flex": null,
            "flex_flow": null,
            "grid_area": null,
            "grid_auto_columns": null,
            "grid_auto_flow": null,
            "grid_auto_rows": null,
            "grid_column": null,
            "grid_gap": null,
            "grid_row": null,
            "grid_template_areas": null,
            "grid_template_columns": null,
            "grid_template_rows": null,
            "height": null,
            "justify_content": null,
            "justify_items": null,
            "left": null,
            "margin": null,
            "max_height": null,
            "max_width": null,
            "min_height": null,
            "min_width": null,
            "object_fit": null,
            "object_position": null,
            "order": null,
            "overflow": null,
            "overflow_x": null,
            "overflow_y": null,
            "padding": null,
            "right": null,
            "top": null,
            "visibility": null,
            "width": null
          }
        },
        "2efa4f8e86074c6f888da1615d868852": {
          "model_module": "@jupyter-widgets/controls",
          "model_name": "ProgressStyleModel",
          "model_module_version": "1.5.0",
          "state": {
            "_model_module": "@jupyter-widgets/controls",
            "_model_module_version": "1.5.0",
            "_model_name": "ProgressStyleModel",
            "_view_count": null,
            "_view_module": "@jupyter-widgets/base",
            "_view_module_version": "1.2.0",
            "_view_name": "StyleView",
            "bar_color": null,
            "description_width": ""
          }
        },
        "fa8c2fcd6131445c8b61957da8124848": {
          "model_module": "@jupyter-widgets/base",
          "model_name": "LayoutModel",
          "model_module_version": "1.2.0",
          "state": {
            "_model_module": "@jupyter-widgets/base",
            "_model_module_version": "1.2.0",
            "_model_name": "LayoutModel",
            "_view_count": null,
            "_view_module": "@jupyter-widgets/base",
            "_view_module_version": "1.2.0",
            "_view_name": "LayoutView",
            "align_content": null,
            "align_items": null,
            "align_self": null,
            "border": null,
            "bottom": null,
            "display": null,
            "flex": null,
            "flex_flow": null,
            "grid_area": null,
            "grid_auto_columns": null,
            "grid_auto_flow": null,
            "grid_auto_rows": null,
            "grid_column": null,
            "grid_gap": null,
            "grid_row": null,
            "grid_template_areas": null,
            "grid_template_columns": null,
            "grid_template_rows": null,
            "height": null,
            "justify_content": null,
            "justify_items": null,
            "left": null,
            "margin": null,
            "max_height": null,
            "max_width": null,
            "min_height": null,
            "min_width": null,
            "object_fit": null,
            "object_position": null,
            "order": null,
            "overflow": null,
            "overflow_x": null,
            "overflow_y": null,
            "padding": null,
            "right": null,
            "top": null,
            "visibility": null,
            "width": null
          }
        },
        "dcf77c58d8a745ec906510e7193beb34": {
          "model_module": "@jupyter-widgets/controls",
          "model_name": "DescriptionStyleModel",
          "model_module_version": "1.5.0",
          "state": {
            "_model_module": "@jupyter-widgets/controls",
            "_model_module_version": "1.5.0",
            "_model_name": "DescriptionStyleModel",
            "_view_count": null,
            "_view_module": "@jupyter-widgets/base",
            "_view_module_version": "1.2.0",
            "_view_name": "StyleView",
            "description_width": ""
          }
        },
        "a940c8b0c85044e8a8067d8f19e23780": {
          "model_module": "@jupyter-widgets/controls",
          "model_name": "HBoxModel",
          "model_module_version": "1.5.0",
          "state": {
            "_dom_classes": [],
            "_model_module": "@jupyter-widgets/controls",
            "_model_module_version": "1.5.0",
            "_model_name": "HBoxModel",
            "_view_count": null,
            "_view_module": "@jupyter-widgets/controls",
            "_view_module_version": "1.5.0",
            "_view_name": "HBoxView",
            "box_style": "",
            "children": [
              "IPY_MODEL_27db8eb73c1844c4a8a633b05d75fd29",
              "IPY_MODEL_59ce040d4561482b9d8baa9fdd0f7c55",
              "IPY_MODEL_4023e1702e584b02abbcc7088c2e56c3"
            ],
            "layout": "IPY_MODEL_b8e6f342570c409db52821e037219b11"
          }
        },
        "27db8eb73c1844c4a8a633b05d75fd29": {
          "model_module": "@jupyter-widgets/controls",
          "model_name": "HTMLModel",
          "model_module_version": "1.5.0",
          "state": {
            "_dom_classes": [],
            "_model_module": "@jupyter-widgets/controls",
            "_model_module_version": "1.5.0",
            "_model_name": "HTMLModel",
            "_view_count": null,
            "_view_module": "@jupyter-widgets/controls",
            "_view_module_version": "1.5.0",
            "_view_name": "HTMLView",
            "description": "",
            "description_tooltip": null,
            "layout": "IPY_MODEL_93d3039bcc814d6c84e9968c1840e263",
            "placeholder": "​",
            "style": "IPY_MODEL_ac1270f96a9d4cd38a4e350d5812f84f",
            "value": "100%"
          }
        },
        "59ce040d4561482b9d8baa9fdd0f7c55": {
          "model_module": "@jupyter-widgets/controls",
          "model_name": "FloatProgressModel",
          "model_module_version": "1.5.0",
          "state": {
            "_dom_classes": [],
            "_model_module": "@jupyter-widgets/controls",
            "_model_module_version": "1.5.0",
            "_model_name": "FloatProgressModel",
            "_view_count": null,
            "_view_module": "@jupyter-widgets/controls",
            "_view_module_version": "1.5.0",
            "_view_name": "ProgressView",
            "bar_style": "success",
            "description": "",
            "description_tooltip": null,
            "layout": "IPY_MODEL_6b25151e2a0d45618e65d1beb307acc8",
            "max": 66706,
            "min": 0,
            "orientation": "horizontal",
            "style": "IPY_MODEL_193d1a8aeb4249f5a67bd211d59d521e",
            "value": 66706
          }
        },
        "4023e1702e584b02abbcc7088c2e56c3": {
          "model_module": "@jupyter-widgets/controls",
          "model_name": "HTMLModel",
          "model_module_version": "1.5.0",
          "state": {
            "_dom_classes": [],
            "_model_module": "@jupyter-widgets/controls",
            "_model_module_version": "1.5.0",
            "_model_name": "HTMLModel",
            "_view_count": null,
            "_view_module": "@jupyter-widgets/controls",
            "_view_module_version": "1.5.0",
            "_view_name": "HTMLView",
            "description": "",
            "description_tooltip": null,
            "layout": "IPY_MODEL_05e4fa219b7144128afe25c2e170717a",
            "placeholder": "​",
            "style": "IPY_MODEL_506949f6b93b4518b5adc8a8de7726e5",
            "value": " 66706/66706 [01:27&lt;00:00, 797.20it/s]"
          }
        },
        "b8e6f342570c409db52821e037219b11": {
          "model_module": "@jupyter-widgets/base",
          "model_name": "LayoutModel",
          "model_module_version": "1.2.0",
          "state": {
            "_model_module": "@jupyter-widgets/base",
            "_model_module_version": "1.2.0",
            "_model_name": "LayoutModel",
            "_view_count": null,
            "_view_module": "@jupyter-widgets/base",
            "_view_module_version": "1.2.0",
            "_view_name": "LayoutView",
            "align_content": null,
            "align_items": null,
            "align_self": null,
            "border": null,
            "bottom": null,
            "display": null,
            "flex": null,
            "flex_flow": null,
            "grid_area": null,
            "grid_auto_columns": null,
            "grid_auto_flow": null,
            "grid_auto_rows": null,
            "grid_column": null,
            "grid_gap": null,
            "grid_row": null,
            "grid_template_areas": null,
            "grid_template_columns": null,
            "grid_template_rows": null,
            "height": null,
            "justify_content": null,
            "justify_items": null,
            "left": null,
            "margin": null,
            "max_height": null,
            "max_width": null,
            "min_height": null,
            "min_width": null,
            "object_fit": null,
            "object_position": null,
            "order": null,
            "overflow": null,
            "overflow_x": null,
            "overflow_y": null,
            "padding": null,
            "right": null,
            "top": null,
            "visibility": null,
            "width": null
          }
        },
        "93d3039bcc814d6c84e9968c1840e263": {
          "model_module": "@jupyter-widgets/base",
          "model_name": "LayoutModel",
          "model_module_version": "1.2.0",
          "state": {
            "_model_module": "@jupyter-widgets/base",
            "_model_module_version": "1.2.0",
            "_model_name": "LayoutModel",
            "_view_count": null,
            "_view_module": "@jupyter-widgets/base",
            "_view_module_version": "1.2.0",
            "_view_name": "LayoutView",
            "align_content": null,
            "align_items": null,
            "align_self": null,
            "border": null,
            "bottom": null,
            "display": null,
            "flex": null,
            "flex_flow": null,
            "grid_area": null,
            "grid_auto_columns": null,
            "grid_auto_flow": null,
            "grid_auto_rows": null,
            "grid_column": null,
            "grid_gap": null,
            "grid_row": null,
            "grid_template_areas": null,
            "grid_template_columns": null,
            "grid_template_rows": null,
            "height": null,
            "justify_content": null,
            "justify_items": null,
            "left": null,
            "margin": null,
            "max_height": null,
            "max_width": null,
            "min_height": null,
            "min_width": null,
            "object_fit": null,
            "object_position": null,
            "order": null,
            "overflow": null,
            "overflow_x": null,
            "overflow_y": null,
            "padding": null,
            "right": null,
            "top": null,
            "visibility": null,
            "width": null
          }
        },
        "ac1270f96a9d4cd38a4e350d5812f84f": {
          "model_module": "@jupyter-widgets/controls",
          "model_name": "DescriptionStyleModel",
          "model_module_version": "1.5.0",
          "state": {
            "_model_module": "@jupyter-widgets/controls",
            "_model_module_version": "1.5.0",
            "_model_name": "DescriptionStyleModel",
            "_view_count": null,
            "_view_module": "@jupyter-widgets/base",
            "_view_module_version": "1.2.0",
            "_view_name": "StyleView",
            "description_width": ""
          }
        },
        "6b25151e2a0d45618e65d1beb307acc8": {
          "model_module": "@jupyter-widgets/base",
          "model_name": "LayoutModel",
          "model_module_version": "1.2.0",
          "state": {
            "_model_module": "@jupyter-widgets/base",
            "_model_module_version": "1.2.0",
            "_model_name": "LayoutModel",
            "_view_count": null,
            "_view_module": "@jupyter-widgets/base",
            "_view_module_version": "1.2.0",
            "_view_name": "LayoutView",
            "align_content": null,
            "align_items": null,
            "align_self": null,
            "border": null,
            "bottom": null,
            "display": null,
            "flex": null,
            "flex_flow": null,
            "grid_area": null,
            "grid_auto_columns": null,
            "grid_auto_flow": null,
            "grid_auto_rows": null,
            "grid_column": null,
            "grid_gap": null,
            "grid_row": null,
            "grid_template_areas": null,
            "grid_template_columns": null,
            "grid_template_rows": null,
            "height": null,
            "justify_content": null,
            "justify_items": null,
            "left": null,
            "margin": null,
            "max_height": null,
            "max_width": null,
            "min_height": null,
            "min_width": null,
            "object_fit": null,
            "object_position": null,
            "order": null,
            "overflow": null,
            "overflow_x": null,
            "overflow_y": null,
            "padding": null,
            "right": null,
            "top": null,
            "visibility": null,
            "width": null
          }
        },
        "193d1a8aeb4249f5a67bd211d59d521e": {
          "model_module": "@jupyter-widgets/controls",
          "model_name": "ProgressStyleModel",
          "model_module_version": "1.5.0",
          "state": {
            "_model_module": "@jupyter-widgets/controls",
            "_model_module_version": "1.5.0",
            "_model_name": "ProgressStyleModel",
            "_view_count": null,
            "_view_module": "@jupyter-widgets/base",
            "_view_module_version": "1.2.0",
            "_view_name": "StyleView",
            "bar_color": null,
            "description_width": ""
          }
        },
        "05e4fa219b7144128afe25c2e170717a": {
          "model_module": "@jupyter-widgets/base",
          "model_name": "LayoutModel",
          "model_module_version": "1.2.0",
          "state": {
            "_model_module": "@jupyter-widgets/base",
            "_model_module_version": "1.2.0",
            "_model_name": "LayoutModel",
            "_view_count": null,
            "_view_module": "@jupyter-widgets/base",
            "_view_module_version": "1.2.0",
            "_view_name": "LayoutView",
            "align_content": null,
            "align_items": null,
            "align_self": null,
            "border": null,
            "bottom": null,
            "display": null,
            "flex": null,
            "flex_flow": null,
            "grid_area": null,
            "grid_auto_columns": null,
            "grid_auto_flow": null,
            "grid_auto_rows": null,
            "grid_column": null,
            "grid_gap": null,
            "grid_row": null,
            "grid_template_areas": null,
            "grid_template_columns": null,
            "grid_template_rows": null,
            "height": null,
            "justify_content": null,
            "justify_items": null,
            "left": null,
            "margin": null,
            "max_height": null,
            "max_width": null,
            "min_height": null,
            "min_width": null,
            "object_fit": null,
            "object_position": null,
            "order": null,
            "overflow": null,
            "overflow_x": null,
            "overflow_y": null,
            "padding": null,
            "right": null,
            "top": null,
            "visibility": null,
            "width": null
          }
        },
        "506949f6b93b4518b5adc8a8de7726e5": {
          "model_module": "@jupyter-widgets/controls",
          "model_name": "DescriptionStyleModel",
          "model_module_version": "1.5.0",
          "state": {
            "_model_module": "@jupyter-widgets/controls",
            "_model_module_version": "1.5.0",
            "_model_name": "DescriptionStyleModel",
            "_view_count": null,
            "_view_module": "@jupyter-widgets/base",
            "_view_module_version": "1.2.0",
            "_view_name": "StyleView",
            "description_width": ""
          }
        }
      }
    }
  },
  "cells": [
    {
      "cell_type": "code",
      "execution_count": null,
      "metadata": {
        "colab": {
          "base_uri": "https://localhost:8080/"
        },
        "id": "U0Y1-eC1AkpI",
        "outputId": "3fa0e531-04b1-4f34-c985-0de4c21b821b"
      },
      "outputs": [
        {
          "output_type": "stream",
          "name": "stdout",
          "text": [
            "--2022-04-15 12:05:41--  https://repo.continuum.io/miniconda/Miniconda3-py37_4.8.3-Linux-x86_64.sh\n",
            "Resolving repo.continuum.io (repo.continuum.io)... 104.18.200.79, 104.18.201.79, 2606:4700::6812:c84f, ...\n",
            "Connecting to repo.continuum.io (repo.continuum.io)|104.18.200.79|:443... connected.\n",
            "HTTP request sent, awaiting response... 301 Moved Permanently\n",
            "Location: https://repo.anaconda.com/miniconda/Miniconda3-py37_4.8.3-Linux-x86_64.sh [following]\n",
            "--2022-04-15 12:05:41--  https://repo.anaconda.com/miniconda/Miniconda3-py37_4.8.3-Linux-x86_64.sh\n",
            "Resolving repo.anaconda.com (repo.anaconda.com)... 104.16.130.3, 104.16.131.3, 2606:4700::6810:8303, ...\n",
            "Connecting to repo.anaconda.com (repo.anaconda.com)|104.16.130.3|:443... connected.\n",
            "HTTP request sent, awaiting response... 416 Requested Range Not Satisfiable\n",
            "\n",
            "    The file is already fully retrieved; nothing to do.\n",
            "\n",
            "PREFIX=/usr/local\n",
            "Unpacking payload ...\n",
            "Collecting package metadata (current_repodata.json): - \b\b\\ \b\b| \b\bdone\n",
            "Solving environment: - \b\b\\ \b\b| \b\b/ \b\b- \b\b\\ \n",
            "The environment is inconsistent, please check the package plan carefully\n",
            "The following packages are causing the inconsistency:\n",
            "\n",
            "  - defaults/linux-64::certifi==2021.10.8=py37h06a4308_2\n",
            "  - defaults/linux-64::freetype==2.11.0=h70c0345_0\n",
            "  - defaults/noarch::pyparsing==3.0.4=pyhd3eb1b0_0\n",
            "  - defaults/linux-64::lcms2==2.12=h3be6417_0\n",
            "  - defaults/linux-64::lz4-c==1.9.3=h295c915_1\n",
            "  - defaults/linux-64::libtiff==4.2.0=h85742a9_0\n",
            "  - defaults/linux-64::pyopenssl==19.1.0=py37_0\n",
            "  - defaults/linux-64::numexpr==2.8.1=py37h6abb31d_0\n",
            "  - defaults/linux-64::py-boost==1.73.0=py37ha9443f7_11\n",
            "  - defaults/linux-64::bottleneck==1.3.4=py37hce1f21e_0\n",
            "  - defaults/linux-64::libwebp==1.2.2=h55f646e_0\n",
            "  - defaults/linux-64::mkl_fft==1.3.1=py37hd3c417c_0\n",
            "  - defaults/linux-64::fontconfig==2.13.1=h6c09931_0\n",
            "  - defaults/linux-64::conda==4.12.0=py37h06a4308_0\n",
            "  - defaults/linux-64::tk==8.6.8=hbc83047_0\n",
            "  - defaults/linux-64::libgcc-ng==9.3.0=h5101ec6_17\n",
            "  - defaults/linux-64::pip==20.0.2=py37_3\n",
            "  - defaults/linux-64::jpeg==9d=h7f8727e_0\n",
            "  - defaults/linux-64::pixman==0.40.0=h7f8727e_1\n",
            "  - defaults/linux-64::giflib==5.2.1=h7b6447c_0\n",
            "  - defaults/noarch::python-dateutil==2.8.2=pyhd3eb1b0_0\n",
            "  - defaults/linux-64::mkl-service==2.4.0=py37h7f8727e_0\n",
            "  - defaults/linux-64::chardet==3.0.4=py37_1003\n",
            "  - defaults/linux-64::yaml==0.1.7=had09818_2\n",
            "  - defaults/linux-64::xz==5.2.5=h7b6447c_0\n",
            "  - defaults/linux-64::bzip2==1.0.8=h7b6447c_0\n",
            "  - defaults/noarch::idna==2.9=py_1\n",
            "  - defaults/linux-64::ruamel_yaml==0.15.87=py37h7b6447c_0\n",
            "  - defaults/linux-64::pillow==9.0.1=py37h22f2fdc_0\n",
            "  - defaults/linux-64::pandas==1.3.4=py37h8c16a72_0\n",
            "  - defaults/noarch::tqdm==4.46.0=py_0\n",
            "  - defaults/linux-64::pcre==8.45=h295c915_0\n",
            "  - defaults/linux-64::zlib==1.2.11=h7b6447c_3\n",
            "  - defaults/linux-64::sqlite==3.31.1=h62c20be_1\n",
            "  - defaults/linux-64::numpy==1.21.5=py37he7a7128_1\n",
            "  - defaults/linux-64::numpy-base==1.21.5=py37hf524024_1\n",
            "  - rdkit/linux-64::rdkit==2020.09.1.0=py37hd50e099_1\n",
            "  - defaults/noarch::packaging==21.3=pyhd3eb1b0_0\n",
            "  - defaults/linux-64::glib==2.69.1=h4ff587b_1\n",
            "  - defaults/linux-64::readline==8.0=h7b6447c_0\n",
            "  - defaults/linux-64::libpng==1.6.37=hbc83047_0\n",
            "  - defaults/noarch::pytz==2021.3=pyhd3eb1b0_0\n",
            "  - defaults/linux-64::python==3.7.7=hcff3b4d_5\n",
            "  - defaults/noarch::pycparser==2.20=py_0\n",
            "  - defaults/linux-64::cffi==1.14.0=py37he30daa8_1\n",
            "  - defaults/linux-64::libuuid==1.0.3=h7f8727e_2\n",
            "  - defaults/linux-64::conda-package-handling==1.6.1=py37h7b6447c_0\n",
            "  - defaults/linux-64::cryptography==2.9.2=py37h1ba5d50_0\n",
            "  - defaults/linux-64::icu==58.2=he6710b0_3\n",
            "  - defaults/linux-64::libxml2==2.9.12=h03d6c58_0\n",
            "  - defaults/linux-64::libxcb==1.14=h7b6447c_0\n",
            "  - defaults/linux-64::libffi==3.3=he6710b0_1\n",
            "  - defaults/linux-64::pysocks==1.7.1=py37_0\n",
            "  - defaults/linux-64::pycosat==0.6.3=py37h7b6447c_0\n",
            "  - defaults/linux-64::urllib3==1.25.8=py37_0\n",
            "  - defaults/linux-64::six==1.14.0=py37_0\n",
            "  - defaults/linux-64::wheel==0.34.2=py37_0\n",
            "  - defaults/linux-64::libwebp-base==1.2.2=h7f8727e_0\n",
            "  - defaults/linux-64::ncurses==6.2=he6710b0_1\n",
            "  - defaults/linux-64::mkl_random==1.2.2=py37h51133e4_0\n",
            "  - defaults/linux-64::cairo==1.16.0=hf32fb01_1\n",
            "  - defaults/linux-64::requests==2.23.0=py37_0\n",
            "  - defaults/linux-64::setuptools==46.4.0=py37_0\n",
            "  - defaults/linux-64::libboost==1.73.0=h3ff78a5_11\n",
            "  - defaults/linux-64::zstd==1.4.9=haebb681_0\n",
            "  - defaults/linux-64::libedit==3.1.20181209=hc058e9b_0\n",
            "  - defaults/linux-64::openssl==1.1.1n=h7f8727e_0\n",
            "\b\b| \b\b/ \b\b- \b\b\\ \b\b| \b\b/ \b\b- \b\b\\ \b\bdone\n",
            "\n",
            "## Package Plan ##\n",
            "\n",
            "  environment location: /usr/local\n",
            "\n",
            "  added / updated specs:\n",
            "    - _libgcc_mutex==0.1=main\n",
            "    - ca-certificates==2020.1.1=0\n",
            "    - certifi==2020.4.5.1=py37_0\n",
            "    - cffi==1.14.0=py37he30daa8_1\n",
            "    - chardet==3.0.4=py37_1003\n",
            "    - conda-package-handling==1.6.1=py37h7b6447c_0\n",
            "    - conda==4.8.3=py37_0\n",
            "    - cryptography==2.9.2=py37h1ba5d50_0\n",
            "    - idna==2.9=py_1\n",
            "    - ld_impl_linux-64==2.33.1=h53a641e_7\n",
            "    - libedit==3.1.20181209=hc058e9b_0\n",
            "    - libffi==3.3=he6710b0_1\n",
            "    - libgcc-ng==9.1.0=hdf63c60_0\n",
            "    - libstdcxx-ng==9.1.0=hdf63c60_0\n",
            "    - ncurses==6.2=he6710b0_1\n",
            "    - openssl==1.1.1g=h7b6447c_0\n",
            "    - pip==20.0.2=py37_3\n",
            "    - pycosat==0.6.3=py37h7b6447c_0\n",
            "    - pycparser==2.20=py_0\n",
            "    - pyopenssl==19.1.0=py37_0\n",
            "    - pysocks==1.7.1=py37_0\n",
            "    - python==3.7.7=hcff3b4d_5\n",
            "    - readline==8.0=h7b6447c_0\n",
            "    - requests==2.23.0=py37_0\n",
            "    - ruamel_yaml==0.15.87=py37h7b6447c_0\n",
            "    - setuptools==46.4.0=py37_0\n",
            "    - six==1.14.0=py37_0\n",
            "    - sqlite==3.31.1=h62c20be_1\n",
            "    - tk==8.6.8=hbc83047_0\n",
            "    - tqdm==4.46.0=py_0\n",
            "    - urllib3==1.25.8=py37_0\n",
            "    - wheel==0.34.2=py37_0\n",
            "    - xz==5.2.5=h7b6447c_0\n",
            "    - yaml==0.1.7=had09818_2\n",
            "    - zlib==1.2.11=h7b6447c_3\n",
            "\n",
            "\n",
            "The following packages will be DOWNGRADED:\n",
            "\n",
            "  ca-certificates                      2022.3.29-h06a4308_0 --> 2020.1.1-0\n",
            "\n",
            "\n",
            "Preparing transaction: / \b\bdone\n",
            "Executing transaction: \\ \b\bdone\n",
            "installation finished.\n",
            "WARNING:\n",
            "    You currently have a PYTHONPATH environment variable set. This may cause\n",
            "    unexpected behavior when running the Python interpreter in Miniconda3.\n",
            "    For best results, please verify that your PYTHONPATH only points to\n",
            "    directories of packages that are compatible with the Python interpreter\n",
            "    in Miniconda3: /usr/local\n",
            "\n",
            "real\t0m34.903s\n",
            "user\t0m25.972s\n",
            "sys\t0m12.393s\n",
            "Collecting package metadata (current_repodata.json): ...working... done\n",
            "Solving environment: ...working... done\n",
            "\n",
            "## Package Plan ##\n",
            "\n",
            "  environment location: /usr/local\n",
            "\n",
            "  added / updated specs:\n",
            "    - rdkit\n",
            "\n",
            "\n",
            "The following packages will be UPDATED:\n",
            "\n",
            "  ca-certificates                                2020.1.1-0 --> 2022.3.29-h06a4308_0\n",
            "\n",
            "\n",
            "Preparing transaction: ...working... done\n",
            "Verifying transaction: ...working... done\n",
            "Executing transaction: ...working... done\n",
            "\n",
            "real\t0m5.461s\n",
            "user\t0m4.643s\n",
            "sys\t0m0.733s\n"
          ]
        }
      ],
      "source": [
        "!wget -c https://repo.continuum.io/miniconda/Miniconda3-py37_4.8.3-Linux-x86_64.sh\n",
        "!chmod +x Miniconda3-py37_4.8.3-Linux-x86_64.sh\n",
        "!time bash ./Miniconda3-py37_4.8.3-Linux-x86_64.sh -b -f -p /usr/local\n",
        "!time conda install -q -y -c rdkit rdkit\n",
        "\n",
        "import sys\n",
        "sys.path.append('/usr/local/lib/python3.7/site-packages/')"
      ]
    },
    {
      "cell_type": "code",
      "source": [
        "import numpy as np\n",
        "import pandas as pd\n",
        "import tqdm.auto as tqdm\n",
        "\n",
        "from matplotlib import pyplot as plt\n",
        "import seaborn as sns\n",
        "\n",
        "import rdkit, rdkit.Chem.AllChem, rdkit.Chem.Crippen\n",
        "import rdkit.Chem as Chem\n",
        "from rdkit.Chem import Draw\n",
        "\n",
        "import torch\n",
        "import sklearn.linear_model, sklearn.model_selection"
      ],
      "metadata": {
        "id": "m2uNQmdcBO5t"
      },
      "execution_count": null,
      "outputs": []
    },
    {
      "cell_type": "markdown",
      "source": [
        "## Introduction to RDKit"
      ],
      "metadata": {
        "id": "dJ6S1PCHB-ii"
      }
    },
    {
      "cell_type": "markdown",
      "source": [
        "RDKit is a collection of cheminformatics and machine-learning software written in C++ and Python that allows you to work with molecules easily."
      ],
      "metadata": {
        "id": "gRgkLEI5CAm8"
      }
    },
    {
      "cell_type": "markdown",
      "source": [
        "### Constructing a molecule"
      ],
      "metadata": {
        "id": "UharqiQ3CK9B"
      }
    },
    {
      "cell_type": "code",
      "source": [
        "# A molecule can be constructed through multiple approaches\n",
        "\n",
        "m = Chem.MolFromSmiles('c1ccccc1')\n",
        "\n",
        "m = Chem.MolFromMolFile('benzene.mol')\n",
        "\n",
        "stringWithMolData = open('benzene.mol','r').read()\n",
        "m = Chem.MolFromMolBlock(stringWithMolData)\n",
        "\n",
        "\n",
        "# All of these functions return a rdkit.Chem.rdchem.Mol object on success\n",
        "print(type(m))\n",
        "\n",
        "\n",
        "# All of these functions return None on failure\n",
        "m = Chem.MolFromSmiles('c1cc')\n",
        "print(m)"
      ],
      "metadata": {
        "colab": {
          "base_uri": "https://localhost:8080/"
        },
        "id": "5tY9mVBzB6eb",
        "outputId": "4f214f1e-01dd-4020-a1cc-258a236c647e"
      },
      "execution_count": null,
      "outputs": [
        {
          "output_type": "stream",
          "name": "stdout",
          "text": [
            "<class 'rdkit.Chem.rdchem.Mol'>\n",
            "None\n"
          ]
        }
      ]
    },
    {
      "cell_type": "markdown",
      "source": [
        "### Constructing sets of molecules"
      ],
      "metadata": {
        "id": "VMHjTFj4DzCH"
      }
    },
    {
      "cell_type": "code",
      "source": [
        "suppl = Chem.SDMolSupplier('biogenic.sdf')\n",
        "print(suppl[0])\n",
        "\n",
        "mol = suppl[0]\n",
        "print(mol.GetPropsAsDict())"
      ],
      "metadata": {
        "colab": {
          "base_uri": "https://localhost:8080/"
        },
        "id": "vTMyfQ_KCmoY",
        "outputId": "fcbdce60-94ce-4dc2-fdab-f3c84451327b"
      },
      "execution_count": null,
      "outputs": [
        {
          "output_type": "stream",
          "name": "stdout",
          "text": [
            "<rdkit.Chem.rdchem.Mol object at 0x7fbbd8972b20>\n",
            "{'zinc_id': 'ZINC000001530427', 'smiles': 'C[C@@H]1O[C@@H]1P(=O)(O)O'}\n"
          ]
        }
      ]
    },
    {
      "cell_type": "markdown",
      "source": [
        "### Exporting/Writing molecules"
      ],
      "metadata": {
        "id": "a0N9fOnRE-H_"
      }
    },
    {
      "cell_type": "code",
      "source": [
        "m = Chem.MolFromSmiles('c1ccccc1')\n",
        "print(type(m))\n",
        "\n",
        "smiles = Chem.MolToSmiles(m)\n",
        "print(smiles)\n",
        "\n",
        "# MolToSmiles gives the canonical SMILES, so  the output would be the same regardless of the input\n",
        "smiles_1 = Chem.MolToSmiles(Chem.MolFromSmiles('C1=CC=CN=C1'))\n",
        "smiles_2 = Chem.MolToSmiles(Chem.MolFromSmiles('c1cccnc1'))\n",
        "smiles_3 = Chem.MolToSmiles(Chem.MolFromSmiles('n1ccccc1'))\n",
        "print(smiles_1, smiles_2, smiles_3)\n",
        "\n",
        "print()\n",
        "# If you want to have the Kekule form, then use the kekuleSmiles parameter\n",
        "smiles = Chem.MolToSmiles(m)\n",
        "print(smiles)\n",
        "\n",
        "Chem.Kekulize(m)\n",
        "smiles = Chem.MolToSmiles(m, kekuleSmiles=True)\n",
        "print(smiles)\n"
      ],
      "metadata": {
        "colab": {
          "base_uri": "https://localhost:8080/"
        },
        "id": "Aoyqy9JPELrP",
        "outputId": "3b41d620-b4c0-4c6f-beec-1610aa2191fe"
      },
      "execution_count": null,
      "outputs": [
        {
          "output_type": "stream",
          "name": "stdout",
          "text": [
            "<class 'rdkit.Chem.rdchem.Mol'>\n",
            "c1ccccc1\n",
            "c1ccncc1 c1ccncc1 c1ccncc1\n",
            "\n",
            "c1ccccc1\n",
            "C1=CC=CC=C1\n"
          ]
        }
      ]
    },
    {
      "cell_type": "code",
      "source": [
        "# You can also get the mol block of a molecule\n",
        "m.SetProp(\"_Name\",\"benzene\")\n",
        "print(Chem.MolToMolBlock(m))\n",
        "\n"
      ],
      "metadata": {
        "id": "xOptp4ovFE26",
        "colab": {
          "base_uri": "https://localhost:8080/"
        },
        "outputId": "1e75159c-1c55-4f6d-face-e29495825233"
      },
      "execution_count": null,
      "outputs": [
        {
          "output_type": "stream",
          "name": "stdout",
          "text": [
            "benzene\n",
            "     RDKit          2D\n",
            "\n",
            "  6  6  0  0  0  0  0  0  0  0999 V2000\n",
            "    1.5000    0.0000    0.0000 C   0  0  0  0  0  0  0  0  0  0  0  0\n",
            "    0.7500   -1.2990    0.0000 C   0  0  0  0  0  0  0  0  0  0  0  0\n",
            "   -0.7500   -1.2990    0.0000 C   0  0  0  0  0  0  0  0  0  0  0  0\n",
            "   -1.5000    0.0000    0.0000 C   0  0  0  0  0  0  0  0  0  0  0  0\n",
            "   -0.7500    1.2990    0.0000 C   0  0  0  0  0  0  0  0  0  0  0  0\n",
            "    0.7500    1.2990    0.0000 C   0  0  0  0  0  0  0  0  0  0  0  0\n",
            "  1  2  2  0\n",
            "  2  3  1  0\n",
            "  3  4  2  0\n",
            "  4  5  1  0\n",
            "  5  6  2  0\n",
            "  6  1  1  0\n",
            "M  END\n",
            "\n"
          ]
        }
      ]
    },
    {
      "cell_type": "code",
      "source": [
        "# In order for atom or bond stereochemistry to be recognised correctly by most software, it’s essential that the mol block have atomic coordinates\n",
        "# It’s also convenient for many reasons, such as drawing the molecules\n",
        "\n",
        "# Generating a mol block for a molecule that does not have coordinates will, by default, \n",
        "# automatically cause coordinates to be generated\n",
        "# These are not, however, stored with the molecule. \n",
        "# We have to use the AllChem module to generate the 3D coordinates\n",
        "\n",
        "from rdkit.Chem import AllChem\n",
        "\n",
        "AllChem.Compute2DCoords(m)\n",
        "# print(Chem.MolToMolBlock(m))\n",
        "\n",
        "# The Hydrogen atoms are implicit in the molecule, you can add them explicitly through\n",
        "m1 = Chem.AddHs(m)\n",
        "# print(Chem.MolToMolBlock(m1))\n",
        "\n",
        "# You can remove the Hydrogen atoms easily too. You would want to add the Hydrogens if you're computing the 3D coordinates for example\n",
        "m2 = Chem.RemoveHs(m1)\n",
        "print(Chem.MolToMolBlock(m2))\n"
      ],
      "metadata": {
        "id": "DDYgnKRMGnO8",
        "colab": {
          "base_uri": "https://localhost:8080/"
        },
        "outputId": "8d98ef3b-5ce0-4a9d-891d-6e7e16bdf4de"
      },
      "execution_count": null,
      "outputs": [
        {
          "output_type": "stream",
          "name": "stdout",
          "text": [
            "benzene\n",
            "     RDKit          2D\n",
            "\n",
            "  6  6  0  0  0  0  0  0  0  0999 V2000\n",
            "    1.5000    0.0000    0.0000 C   0  0  0  0  0  0  0  0  0  0  0  0\n",
            "    0.7500   -1.2990    0.0000 C   0  0  0  0  0  0  0  0  0  0  0  0\n",
            "   -0.7500   -1.2990    0.0000 C   0  0  0  0  0  0  0  0  0  0  0  0\n",
            "   -1.5000    0.0000    0.0000 C   0  0  0  0  0  0  0  0  0  0  0  0\n",
            "   -0.7500    1.2990    0.0000 C   0  0  0  0  0  0  0  0  0  0  0  0\n",
            "    0.7500    1.2990    0.0000 C   0  0  0  0  0  0  0  0  0  0  0  0\n",
            "  1  2  2  0\n",
            "  2  3  1  0\n",
            "  3  4  2  0\n",
            "  4  5  1  0\n",
            "  5  6  2  0\n",
            "  6  1  1  0\n",
            "M  END\n",
            "\n"
          ]
        }
      ]
    },
    {
      "cell_type": "markdown",
      "source": [
        "## Molecule Properties"
      ],
      "metadata": {
        "id": "I2u6NoFZJrvN"
      }
    },
    {
      "cell_type": "code",
      "source": [
        "mol = Chem.MolFromSmiles('c1ccccc1')\n",
        "m1 = Chem.AddHs(mol)\n",
        "\n",
        "print(m1.GetNumAtoms())"
      ],
      "metadata": {
        "colab": {
          "base_uri": "https://localhost:8080/"
        },
        "id": "GTTTY-1hJKe5",
        "outputId": "e83365d8-2c64-4552-de64-bd7ad35a68ad"
      },
      "execution_count": null,
      "outputs": [
        {
          "output_type": "stream",
          "name": "stdout",
          "text": [
            "12\n"
          ]
        }
      ]
    },
    {
      "cell_type": "code",
      "source": [
        "# Once you have the molecule, you can loop over its atoms and bonds\n",
        "\n",
        "\n",
        "for atom in mol.GetAtoms():\n",
        "  print(atom.GetAtomicNum())\n",
        "\n",
        "print()\n",
        "\n",
        "for bond in mol.GetBonds():\n",
        "  print(bond.GetBondType())\n",
        "\n",
        "print()\n",
        "\n",
        "# You can also query individual bonds or atoms\n",
        "mol.GetAtomWithIdx(0).GetAtomicNum()\n",
        "mol.GetAtomWithIdx(0).GetExplicitValence()\n",
        "\n",
        "print()\n",
        "\n",
        "bond = mol.GetBondWithIdx(0)\n",
        "print(bond.GetBeginAtomIdx(), bond.GetEndAtomIdx())\n",
        "\n",
        "print()\n",
        "\n",
        "# You can also get the neighbours of a particular atom in a molecule\n",
        "atom = mol.GetAtomWithIdx(0)\n",
        "for n_atom in atom.GetNeighbors():\n",
        "  print(n_atom.GetAtomicNum())\n",
        "\n",
        "# Atoms and bonds both carry information about the molecule’s rings:\n",
        "print(mol.GetAtomWithIdx(0).IsInRing())"
      ],
      "metadata": {
        "colab": {
          "base_uri": "https://localhost:8080/"
        },
        "id": "o4wzErAYJzjE",
        "outputId": "4c2c8382-ee75-4c01-cb42-5b00dadcc2b9"
      },
      "execution_count": null,
      "outputs": [
        {
          "output_type": "stream",
          "name": "stdout",
          "text": [
            "6\n",
            "6\n",
            "6\n",
            "6\n",
            "6\n",
            "6\n",
            "\n",
            "AROMATIC\n",
            "AROMATIC\n",
            "AROMATIC\n",
            "AROMATIC\n",
            "AROMATIC\n",
            "AROMATIC\n",
            "\n",
            "\n",
            "0 1\n",
            "\n",
            "6\n",
            "6\n",
            "True\n"
          ]
        }
      ]
    },
    {
      "cell_type": "markdown",
      "source": [
        "### Exercise Question\n",
        "\n",
        "- For \"COc1ccc(C=NNC2=NC(=O)C(CC(=O)NC(C)C)S2)cc1\", print all the bonds between a carbon and an oxygen atom."
      ],
      "metadata": {
        "id": "pok75eBLLq1B"
      }
    },
    {
      "cell_type": "code",
      "source": [
        "mol = Chem.MolFromSmiles(\"COc1ccc(C=NNC2=NC(=O)C(CC(=O)NC(C)C)S2)cc1\")\n",
        "\n",
        "for bond in mol.GetBonds():\n",
        "  f_atom = mol.GetAtomWithIdx(bond.GetBeginAtomIdx()).GetAtomicNum()\n",
        "  s_atom = mol.GetAtomWithIdx(bond.GetEndAtomIdx()).GetAtomicNum()\n",
        "\n",
        "  if f_atom == 6 and s_atom == 8:\n",
        "    print('C and O')\n",
        "  elif f_atom == 8 and s_atom == 6:\n",
        "    print('O and C')"
      ],
      "metadata": {
        "colab": {
          "base_uri": "https://localhost:8080/"
        },
        "id": "tbMycfu_NCPW",
        "outputId": "83b01c02-08c4-40b1-95dd-72a71be28dde"
      },
      "execution_count": null,
      "outputs": [
        {
          "output_type": "stream",
          "name": "stdout",
          "text": [
            "C and O\n",
            "O and C\n",
            "C and O\n",
            "C and O\n"
          ]
        }
      ]
    },
    {
      "cell_type": "markdown",
      "source": [
        "### Modifying Molecules"
      ],
      "metadata": {
        "id": "Aq8T467zO3ot"
      }
    },
    {
      "cell_type": "code",
      "source": [
        "# You can remove or add explicit Hydrogens in the molecule as we saw earlier. This helps when you're trying to optimize the 3D geometry for e.g.\n",
        "\n",
        "m=Chem.MolFromSmiles('CCO')\n",
        "print(m.GetNumAtoms())\n",
        "\n",
        "m2 = Chem.AddHs(m)\n",
        "print(m2.GetNumAtoms())\n",
        "\n",
        "m3 = Chem.RemoveHs(m2)\n",
        "print(m3.GetNumAtoms())\n"
      ],
      "metadata": {
        "colab": {
          "base_uri": "https://localhost:8080/"
        },
        "id": "PUrowfJ7LqRR",
        "outputId": "bd756d9e-0580-4c9e-bc15-35569171a953"
      },
      "execution_count": null,
      "outputs": [
        {
          "output_type": "stream",
          "name": "stdout",
          "text": [
            "3\n",
            "9\n",
            "3\n"
          ]
        }
      ]
    },
    {
      "cell_type": "code",
      "source": [
        "# Bonds in the aromatic rings of molecules are stored as the aromatic bond type\n",
        "\n",
        "mol = Chem.MolFromSmiles('c1ccccc1')\n",
        "print(mol.GetBondWithIdx(0).GetBondType())\n",
        "\n",
        "# Kekulize the molecule to split up the bonds involved in the aromatic rings to single and double bonds. They are still flagged as aromatic bonds\n",
        "Chem.Kekulize(mol)\n",
        "print(mol.GetBondWithIdx(0).GetBondType(), mol.GetBondWithIdx(0).GetIsAromatic())\n",
        "print(mol.GetBondWithIdx(1).GetBondType(), mol.GetBondWithIdx(1).GetIsAromatic())"
      ],
      "metadata": {
        "colab": {
          "base_uri": "https://localhost:8080/"
        },
        "id": "uvB7A_GHKDkJ",
        "outputId": "af626bce-cf07-4196-c0f6-6acc9bc76ca8"
      },
      "execution_count": null,
      "outputs": [
        {
          "output_type": "stream",
          "name": "stdout",
          "text": [
            "AROMATIC\n",
            "DOUBLE True\n",
            "SINGLE True\n"
          ]
        }
      ]
    },
    {
      "cell_type": "markdown",
      "source": [
        "### Displaying Molecules"
      ],
      "metadata": {
        "id": "8LaeVW51PkMM"
      }
    },
    {
      "cell_type": "code",
      "source": [
        "suppl = Chem.SDMolSupplier('biogenic.sdf')\n",
        "mols = [x for x in suppl if x is not None]\n",
        "\n",
        "\n",
        "img = Draw.MolsToGridImage(mols[:10], molsPerRow=5, legends=[x.GetProp('zinc_id') for x in mols[:10]])\n",
        "display(img)"
      ],
      "metadata": {
        "colab": {
          "base_uri": "https://localhost:8080/",
          "height": 407
        },
        "id": "rNs5EHL-PjrX",
        "outputId": "8d52da58-befc-4e97-c314-09e84e91796b"
      },
      "execution_count": null,
      "outputs": [
        {
          "output_type": "display_data",
          "data": {
            "text/plain": [
              "<PIL.PngImagePlugin.PngImageFile image mode=RGB size=1000x400 at 0x7FBBD64C6450>"
            ],
            "image/png": "[encoded data removed]"
          },
          "metadata": {}
        }
      ]
    },
    {
      "cell_type": "markdown",
      "source": [
        "### Substructure Searching"
      ],
      "metadata": {
        "id": "SdGpV9dcQZeZ"
      }
    },
    {
      "cell_type": "code",
      "source": [
        "from rdkit.Chem.Draw import rdMolDraw2D\n",
        "from IPython.display import SVG\n",
        "\n",
        "smi = 'COc1ccc(C=NNC2=NC(=O)C(CC(=O)NC(C)C)S2)cc1'\n",
        "mol = Chem.MolFromSmiles(smi)\n",
        "\n",
        "patt = Chem.MolFromSmarts('[CX3]=[OX1]')\n",
        "hit_ats = list(mol.GetSubstructMatch(patt))\n",
        "\n",
        "hit_bonds = []\n",
        "for bond in patt.GetBonds():\n",
        "    aid1 = hit_ats[bond.GetBeginAtomIdx()]\n",
        "    aid2 = hit_ats[bond.GetEndAtomIdx()]\n",
        "    hit_bonds.append(mol.GetBondBetweenAtoms(aid1,aid2).GetIdx())\n",
        "\n",
        "\n",
        "d = rdMolDraw2D.MolDraw2DSVG(500, 500)\n",
        "rdMolDraw2D.PrepareAndDrawMolecule(d, mol, highlightAtoms=hit_ats,\n",
        "                                   highlightBonds=hit_bonds)\n",
        "d.FinishDrawing()\n",
        "SVG(d.GetDrawingText())"
      ],
      "metadata": {
        "colab": {
          "base_uri": "https://localhost:8080/",
          "height": 521
        },
        "id": "xP7ETU_nPQpd",
        "outputId": "17e81e6b-9691-4e0a-c43c-82bb14940ac4"
      },
      "execution_count": null,
      "outputs": [
        {
          "output_type": "execute_result",
          "data": {
            "text/plain": [
              "<IPython.core.display.SVG object>"
            ],
            "image/svg+xml": "<svg baseProfile=\"full\" height=\"500px\" version=\"1.1\" viewBox=\"0 0 500 500\" width=\"500px\" xml:space=\"preserve\" xmlns=\"http://www.w3.org/2000/svg\" xmlns:rdkit=\"http://www.rdkit.org/xml\" xmlns:xlink=\"http://www.w3.org/1999/xlink\">\n<!-- END OF HEADER -->\n<rect height=\"500\" style=\"opacity:1.0;fill:#FFFFFF;stroke:none\" width=\"500\" x=\"0\" y=\"0\"> </rect>\n<path d=\"M 418.773,138.037 L 464.641,117.883\" style=\"fill:none;fill-rule:evenodd;stroke:#FF7F7F;stroke-width:10.7px;stroke-linecap:butt;stroke-linejoin:miter;stroke-opacity:1\"/>\n<ellipse cx=\"418.773\" cy=\"138.037\" rx=\"10.02\" ry=\"10.02\" style=\"fill:#FF7F7F;fill-rule:evenodd;stroke:#FF7F7F;stroke-width:1px;stroke-linecap:butt;stroke-linejoin:miter;stroke-opacity:1\"/>\n<ellipse cx=\"464.641\" cy=\"117.993\" rx=\"10.02\" ry=\"10.3019\" style=\"fill:#FF7F7F;fill-rule:evenodd;stroke:#FF7F7F;stroke-width:1px;stroke-linecap:butt;stroke-linejoin:miter;stroke-opacity:1\"/>\n<path class=\"bond-0\" d=\"M 22.7273,299.488 L 43.3215,303.971\" style=\"fill:none;fill-rule:evenodd;stroke:#000000;stroke-width:2.0px;stroke-linecap:butt;stroke-linejoin:miter;stroke-opacity:1\"/>\n<path class=\"bond-0\" d=\"M 43.3215,303.971 L 63.9156,308.453\" style=\"fill:none;fill-rule:evenodd;stroke:#FF0000;stroke-width:2.0px;stroke-linecap:butt;stroke-linejoin:miter;stroke-opacity:1\"/>\n<path class=\"bond-1\" d=\"M 79.3435,301.717 L 92.3648,287.397\" style=\"fill:none;fill-rule:evenodd;stroke:#FF0000;stroke-width:2.0px;stroke-linecap:butt;stroke-linejoin:miter;stroke-opacity:1\"/>\n<path class=\"bond-1\" d=\"M 92.3648,287.397 L 105.386,273.076\" style=\"fill:none;fill-rule:evenodd;stroke:#000000;stroke-width:2.0px;stroke-linecap:butt;stroke-linejoin:miter;stroke-opacity:1\"/>\n<path class=\"bond-2\" d=\"M 105.386,273.076 L 90.1369,225.353\" style=\"fill:none;fill-rule:evenodd;stroke:#000000;stroke-width:2.0px;stroke-linecap:butt;stroke-linejoin:miter;stroke-opacity:1\"/>\n<path class=\"bond-2\" d=\"M 112.643,262.868 L 101.969,229.462\" style=\"fill:none;fill-rule:evenodd;stroke:#000000;stroke-width:2.0px;stroke-linecap:butt;stroke-linejoin:miter;stroke-opacity:1\"/>\n<path class=\"bond-23\" d=\"M 105.386,273.076 L 154.34,283.732\" style=\"fill:none;fill-rule:evenodd;stroke:#000000;stroke-width:2.0px;stroke-linecap:butt;stroke-linejoin:miter;stroke-opacity:1\"/>\n<path class=\"bond-3\" d=\"M 90.1369,225.353 L 123.842,188.286\" style=\"fill:none;fill-rule:evenodd;stroke:#000000;stroke-width:2.0px;stroke-linecap:butt;stroke-linejoin:miter;stroke-opacity:1\"/>\n<path class=\"bond-4\" d=\"M 123.842,188.286 L 172.796,198.941\" style=\"fill:none;fill-rule:evenodd;stroke:#000000;stroke-width:2.0px;stroke-linecap:butt;stroke-linejoin:miter;stroke-opacity:1\"/>\n<path class=\"bond-4\" d=\"M 129.054,199.675 L 163.321,207.133\" style=\"fill:none;fill-rule:evenodd;stroke:#000000;stroke-width:2.0px;stroke-linecap:butt;stroke-linejoin:miter;stroke-opacity:1\"/>\n<path class=\"bond-5\" d=\"M 172.796,198.941 L 206.5,161.873\" style=\"fill:none;fill-rule:evenodd;stroke:#000000;stroke-width:2.0px;stroke-linecap:butt;stroke-linejoin:miter;stroke-opacity:1\"/>\n<path class=\"bond-21\" d=\"M 172.796,198.941 L 188.045,246.664\" style=\"fill:none;fill-rule:evenodd;stroke:#000000;stroke-width:2.0px;stroke-linecap:butt;stroke-linejoin:miter;stroke-opacity:1\"/>\n<path class=\"bond-6\" d=\"M 206.5,161.873 L 227.661,166.479\" style=\"fill:none;fill-rule:evenodd;stroke:#000000;stroke-width:2.0px;stroke-linecap:butt;stroke-linejoin:miter;stroke-opacity:1\"/>\n<path class=\"bond-6\" d=\"M 227.661,166.479 L 248.821,171.085\" style=\"fill:none;fill-rule:evenodd;stroke:#0000FF;stroke-width:2.0px;stroke-linecap:butt;stroke-linejoin:miter;stroke-opacity:1\"/>\n<path class=\"bond-6\" d=\"M 210.718,173.046 L 225.53,176.27\" style=\"fill:none;fill-rule:evenodd;stroke:#000000;stroke-width:2.0px;stroke-linecap:butt;stroke-linejoin:miter;stroke-opacity:1\"/>\n<path class=\"bond-6\" d=\"M 225.53,176.27 L 240.342,179.494\" style=\"fill:none;fill-rule:evenodd;stroke:#0000FF;stroke-width:2.0px;stroke-linecap:butt;stroke-linejoin:miter;stroke-opacity:1\"/>\n<path class=\"bond-7\" d=\"M 262.088,165.234 L 282.772,142.485\" style=\"fill:none;fill-rule:evenodd;stroke:#0000FF;stroke-width:2.0px;stroke-linecap:butt;stroke-linejoin:miter;stroke-opacity:1\"/>\n<path class=\"bond-8\" d=\"M 295.792,136.905 L 316.953,141.511\" style=\"fill:none;fill-rule:evenodd;stroke:#0000FF;stroke-width:2.0px;stroke-linecap:butt;stroke-linejoin:miter;stroke-opacity:1\"/>\n<path class=\"bond-8\" d=\"M 316.953,141.511 L 338.113,146.117\" style=\"fill:none;fill-rule:evenodd;stroke:#000000;stroke-width:2.0px;stroke-linecap:butt;stroke-linejoin:miter;stroke-opacity:1\"/>\n<path class=\"bond-9\" d=\"M 338.113,146.117 L 353.494,132.403\" style=\"fill:none;fill-rule:evenodd;stroke:#000000;stroke-width:2.0px;stroke-linecap:butt;stroke-linejoin:miter;stroke-opacity:1\"/>\n<path class=\"bond-9\" d=\"M 353.494,132.403 L 368.875,118.689\" style=\"fill:none;fill-rule:evenodd;stroke:#0000FF;stroke-width:2.0px;stroke-linecap:butt;stroke-linejoin:miter;stroke-opacity:1\"/>\n<path class=\"bond-9\" d=\"M 349.396,149.482 L 360.162,139.882\" style=\"fill:none;fill-rule:evenodd;stroke:#000000;stroke-width:2.0px;stroke-linecap:butt;stroke-linejoin:miter;stroke-opacity:1\"/>\n<path class=\"bond-9\" d=\"M 360.162,139.882 L 370.929,130.283\" style=\"fill:none;fill-rule:evenodd;stroke:#0000FF;stroke-width:2.0px;stroke-linecap:butt;stroke-linejoin:miter;stroke-opacity:1\"/>\n<path class=\"bond-24\" d=\"M 338.113,146.117 L 346.361,164.887\" style=\"fill:none;fill-rule:evenodd;stroke:#000000;stroke-width:2.0px;stroke-linecap:butt;stroke-linejoin:miter;stroke-opacity:1\"/>\n<path class=\"bond-24\" d=\"M 346.361,164.887 L 354.608,183.658\" style=\"fill:none;fill-rule:evenodd;stroke:#CCCC00;stroke-width:2.0px;stroke-linecap:butt;stroke-linejoin:miter;stroke-opacity:1\"/>\n<path class=\"bond-10\" d=\"M 382.141,116.648 L 400.457,127.342\" style=\"fill:none;fill-rule:evenodd;stroke:#0000FF;stroke-width:2.0px;stroke-linecap:butt;stroke-linejoin:miter;stroke-opacity:1\"/>\n<path class=\"bond-10\" d=\"M 400.457,127.342 L 418.773,138.037\" style=\"fill:none;fill-rule:evenodd;stroke:#000000;stroke-width:2.0px;stroke-linecap:butt;stroke-linejoin:miter;stroke-opacity:1\"/>\n<path class=\"bond-11\" d=\"M 420.789,142.624 L 439.84,134.253\" style=\"fill:none;fill-rule:evenodd;stroke:#000000;stroke-width:2.0px;stroke-linecap:butt;stroke-linejoin:miter;stroke-opacity:1\"/>\n<path class=\"bond-11\" d=\"M 439.84,134.253 L 458.891,125.882\" style=\"fill:none;fill-rule:evenodd;stroke:#FF0000;stroke-width:2.0px;stroke-linecap:butt;stroke-linejoin:miter;stroke-opacity:1\"/>\n<path class=\"bond-11\" d=\"M 416.758,133.45 L 435.809,125.079\" style=\"fill:none;fill-rule:evenodd;stroke:#000000;stroke-width:2.0px;stroke-linecap:butt;stroke-linejoin:miter;stroke-opacity:1\"/>\n<path class=\"bond-11\" d=\"M 435.809,125.079 L 454.86,116.708\" style=\"fill:none;fill-rule:evenodd;stroke:#FF0000;stroke-width:2.0px;stroke-linecap:butt;stroke-linejoin:miter;stroke-opacity:1\"/>\n<path class=\"bond-12\" d=\"M 418.773,138.037 L 408.118,186.991\" style=\"fill:none;fill-rule:evenodd;stroke:#000000;stroke-width:2.0px;stroke-linecap:butt;stroke-linejoin:miter;stroke-opacity:1\"/>\n<path class=\"bond-13\" d=\"M 408.118,186.991 L 441.459,224.385\" style=\"fill:none;fill-rule:evenodd;stroke:#000000;stroke-width:2.0px;stroke-linecap:butt;stroke-linejoin:miter;stroke-opacity:1\"/>\n<path class=\"bond-20\" d=\"M 408.118,186.991 L 386.093,189.197\" style=\"fill:none;fill-rule:evenodd;stroke:#000000;stroke-width:2.0px;stroke-linecap:butt;stroke-linejoin:miter;stroke-opacity:1\"/>\n<path class=\"bond-20\" d=\"M 386.093,189.197 L 364.069,191.403\" style=\"fill:none;fill-rule:evenodd;stroke:#CCCC00;stroke-width:2.0px;stroke-linecap:butt;stroke-linejoin:miter;stroke-opacity:1\"/>\n<path class=\"bond-14\" d=\"M 441.459,224.385 L 425.745,271.957\" style=\"fill:none;fill-rule:evenodd;stroke:#000000;stroke-width:2.0px;stroke-linecap:butt;stroke-linejoin:miter;stroke-opacity:1\"/>\n<path class=\"bond-15\" d=\"M 424.727,267.052 L 404.082,271.335\" style=\"fill:none;fill-rule:evenodd;stroke:#000000;stroke-width:2.0px;stroke-linecap:butt;stroke-linejoin:miter;stroke-opacity:1\"/>\n<path class=\"bond-15\" d=\"M 404.082,271.335 L 383.437,275.618\" style=\"fill:none;fill-rule:evenodd;stroke:#FF0000;stroke-width:2.0px;stroke-linecap:butt;stroke-linejoin:miter;stroke-opacity:1\"/>\n<path class=\"bond-15\" d=\"M 426.763,276.863 L 406.118,281.146\" style=\"fill:none;fill-rule:evenodd;stroke:#000000;stroke-width:2.0px;stroke-linecap:butt;stroke-linejoin:miter;stroke-opacity:1\"/>\n<path class=\"bond-15\" d=\"M 406.118,281.146 L 385.473,285.429\" style=\"fill:none;fill-rule:evenodd;stroke:#FF0000;stroke-width:2.0px;stroke-linecap:butt;stroke-linejoin:miter;stroke-opacity:1\"/>\n<path class=\"bond-16\" d=\"M 425.745,271.957 L 439.099,286.935\" style=\"fill:none;fill-rule:evenodd;stroke:#000000;stroke-width:2.0px;stroke-linecap:butt;stroke-linejoin:miter;stroke-opacity:1\"/>\n<path class=\"bond-16\" d=\"M 439.099,286.935 L 452.453,301.913\" style=\"fill:none;fill-rule:evenodd;stroke:#0000FF;stroke-width:2.0px;stroke-linecap:butt;stroke-linejoin:miter;stroke-opacity:1\"/>\n<path class=\"bond-17\" d=\"M 456.329,317.699 L 449.851,337.312\" style=\"fill:none;fill-rule:evenodd;stroke:#0000FF;stroke-width:2.0px;stroke-linecap:butt;stroke-linejoin:miter;stroke-opacity:1\"/>\n<path class=\"bond-17\" d=\"M 449.851,337.312 L 443.372,356.924\" style=\"fill:none;fill-rule:evenodd;stroke:#000000;stroke-width:2.0px;stroke-linecap:butt;stroke-linejoin:miter;stroke-opacity:1\"/>\n<path class=\"bond-18\" d=\"M 443.372,356.924 L 476.714,394.319\" style=\"fill:none;fill-rule:evenodd;stroke:#000000;stroke-width:2.0px;stroke-linecap:butt;stroke-linejoin:miter;stroke-opacity:1\"/>\n<path class=\"bond-19\" d=\"M 443.372,356.924 L 394.317,367.101\" style=\"fill:none;fill-rule:evenodd;stroke:#000000;stroke-width:2.0px;stroke-linecap:butt;stroke-linejoin:miter;stroke-opacity:1\"/>\n<path class=\"bond-22\" d=\"M 188.045,246.664 L 154.34,283.732\" style=\"fill:none;fill-rule:evenodd;stroke:#000000;stroke-width:2.0px;stroke-linecap:butt;stroke-linejoin:miter;stroke-opacity:1\"/>\n<path class=\"bond-22\" d=\"M 175.575,245.483 L 151.982,271.43\" style=\"fill:none;fill-rule:evenodd;stroke:#000000;stroke-width:2.0px;stroke-linecap:butt;stroke-linejoin:miter;stroke-opacity:1\"/>\n<path class=\"atom-1\" d=\"M 65.1682 310.184 Q 65.1682 306.777, 66.8515 304.873 Q 68.5349 302.969, 71.6812 302.969 Q 74.8275 302.969, 76.5108 304.873 Q 78.1942 306.777, 78.1942 310.184 Q 78.1942 313.631, 76.4908 315.595 Q 74.7874 317.539, 71.6812 317.539 Q 68.5549 317.539, 66.8515 315.595 Q 65.1682 313.651, 65.1682 310.184 M 71.6812 315.935 Q 73.8455 315.935, 75.0078 314.492 Q 76.1902 313.03, 76.1902 310.184 Q 76.1902 307.398, 75.0078 305.995 Q 73.8455 304.573, 71.6812 304.573 Q 69.5168 304.573, 68.3345 305.975 Q 67.1722 307.378, 67.1722 310.184 Q 67.1722 313.05, 68.3345 314.492 Q 69.5168 315.935, 71.6812 315.935 \" fill=\"#FF0000\"/>\n<path class=\"atom-7\" d=\"M 252.318 165.435 L 256.967 172.95 Q 257.428 173.691, 258.17 175.034 Q 258.911 176.377, 258.951 176.457 L 258.951 165.435 L 260.835 165.435 L 260.835 179.623 L 258.891 179.623 L 253.901 171.407 Q 253.32 170.445, 252.699 169.342 Q 252.098 168.24, 251.917 167.9 L 251.917 179.623 L 250.074 179.623 L 250.074 165.435 L 252.318 165.435 \" fill=\"#0000FF\"/>\n<path class=\"atom-8\" d=\"M 286.023 128.367 L 290.672 135.882 Q 291.133 136.624, 291.875 137.966 Q 292.616 139.309, 292.656 139.389 L 292.656 128.367 L 294.54 128.367 L 294.54 142.555 L 292.596 142.555 L 287.606 134.339 Q 287.025 133.377, 286.404 132.275 Q 285.803 131.173, 285.622 130.832 L 285.622 142.555 L 283.778 142.555 L 283.778 128.367 L 286.023 128.367 \" fill=\"#0000FF\"/>\n<path class=\"atom-8\" d=\"M 283.608 112.76 L 285.532 112.76 L 285.532 118.792 L 292.786 118.792 L 292.786 112.76 L 294.71 112.76 L 294.71 126.948 L 292.786 126.948 L 292.786 120.395 L 285.532 120.395 L 285.532 126.948 L 283.608 126.948 L 283.608 112.76 \" fill=\"#0000FF\"/>\n<path class=\"atom-10\" d=\"M 372.372 105.681 L 377.021 113.196 Q 377.482 113.938, 378.223 115.28 Q 378.965 116.623, 379.005 116.703 L 379.005 105.681 L 380.889 105.681 L 380.889 119.869 L 378.945 119.869 L 373.955 111.653 Q 373.374 110.691, 372.752 109.589 Q 372.151 108.487, 371.971 108.146 L 371.971 119.869 L 370.127 119.869 L 370.127 105.681 L 372.372 105.681 \" fill=\"#0000FF\"/>\n<path class=\"atom-12\" d=\"M 458.128 117.923 Q 458.128 114.516, 459.811 112.612 Q 461.494 110.708, 464.641 110.708 Q 467.787 110.708, 469.47 112.612 Q 471.154 114.516, 471.154 117.923 Q 471.154 121.37, 469.45 123.334 Q 467.747 125.278, 464.641 125.278 Q 461.515 125.278, 459.811 123.334 Q 458.128 121.39, 458.128 117.923 M 464.641 123.674 Q 466.805 123.674, 467.967 122.232 Q 469.15 120.769, 469.15 117.923 Q 469.15 115.137, 467.967 113.735 Q 466.805 112.312, 464.641 112.312 Q 462.476 112.312, 461.294 113.714 Q 460.132 115.117, 460.132 117.923 Q 460.132 120.789, 461.294 122.232 Q 462.476 123.674, 464.641 123.674 \" fill=\"#FF0000\"/>\n<path class=\"atom-16\" d=\"M 370.176 282.175 Q 370.176 278.768, 371.86 276.864 Q 373.543 274.96, 376.689 274.96 Q 379.836 274.96, 381.519 276.864 Q 383.202 278.768, 383.202 282.175 Q 383.202 285.621, 381.499 287.585 Q 379.796 289.529, 376.689 289.529 Q 373.563 289.529, 371.86 287.585 Q 370.176 285.642, 370.176 282.175 M 376.689 287.926 Q 378.854 287.926, 380.016 286.483 Q 381.198 285.02, 381.198 282.175 Q 381.198 279.389, 380.016 277.986 Q 378.854 276.563, 376.689 276.563 Q 374.525 276.563, 373.343 277.966 Q 372.18 279.369, 372.18 282.175 Q 372.18 285.04, 373.343 286.483 Q 374.525 287.926, 376.689 287.926 \" fill=\"#FF0000\"/>\n<path class=\"atom-17\" d=\"M 455.95 302.258 L 460.599 309.773 Q 461.06 310.515, 461.802 311.857 Q 462.543 313.2, 462.583 313.28 L 462.583 302.258 L 464.467 302.258 L 464.467 316.446 L 462.523 316.446 L 457.533 308.23 Q 456.952 307.268, 456.331 306.166 Q 455.73 305.064, 455.549 304.723 L 455.549 316.446 L 453.706 316.446 L 453.706 302.258 L 455.95 302.258 \" fill=\"#0000FF\"/>\n<path class=\"atom-17\" d=\"M 466.171 302.258 L 468.094 302.258 L 468.094 308.29 L 475.349 308.29 L 475.349 302.258 L 477.273 302.258 L 477.273 316.446 L 475.349 316.446 L 475.349 309.893 L 468.094 309.893 L 468.094 316.446 L 466.171 316.446 L 466.171 302.258 \" fill=\"#0000FF\"/>\n<path class=\"atom-21\" d=\"M 354.259 196.854 Q 354.419 196.914, 355.081 197.195 Q 355.742 197.475, 356.463 197.656 Q 357.205 197.816, 357.926 197.816 Q 359.269 197.816, 360.051 197.175 Q 360.832 196.513, 360.832 195.371 Q 360.832 194.59, 360.431 194.109 Q 360.051 193.628, 359.449 193.367 Q 358.848 193.107, 357.846 192.806 Q 356.584 192.425, 355.822 192.064 Q 355.081 191.704, 354.54 190.942 Q 354.019 190.181, 354.019 188.898 Q 354.019 187.115, 355.221 186.012 Q 356.443 184.91, 358.848 184.91 Q 360.492 184.91, 362.355 185.692 L 361.894 187.235 Q 360.191 186.533, 358.908 186.533 Q 357.526 186.533, 356.764 187.115 Q 356.003 187.676, 356.023 188.658 Q 356.023 189.419, 356.403 189.88 Q 356.804 190.341, 357.365 190.602 Q 357.946 190.862, 358.908 191.163 Q 360.191 191.563, 360.952 191.964 Q 361.714 192.365, 362.255 193.187 Q 362.816 193.988, 362.816 195.371 Q 362.816 197.335, 361.494 198.397 Q 360.191 199.439, 358.007 199.439 Q 356.744 199.439, 355.782 199.159 Q 354.84 198.898, 353.718 198.437 L 354.259 196.854 \" fill=\"#CCCC00\"/>\n</svg>"
          },
          "metadata": {},
          "execution_count": 65
        }
      ]
    },
    {
      "cell_type": "markdown",
      "source": [
        "### Exercise\n",
        "\n",
        "- Find the SMARTS string that represents a ketone, and display the substructure in a molecule of your choice"
      ],
      "metadata": {
        "id": "rwMx7zpGRM7B"
      }
    },
    {
      "cell_type": "markdown",
      "source": [
        "### Molecular Descriptors"
      ],
      "metadata": {
        "id": "zpBEELq-SxlO"
      }
    },
    {
      "cell_type": "code",
      "source": [
        "from rdkit.Chem import Descriptors\n",
        "\n",
        "\n",
        "m = Chem.MolFromSmiles(r'COc1ccc(C=NNC2=NC(=O)C(CC(=O)NC(C)C)S2)cc1')\n",
        "img = Draw.MolsToGridImage([m])\n",
        "display(img)\n",
        "\n",
        "print(Descriptors.MolLogP(m), Descriptors.TPSA(m), Descriptors.NumRotatableBonds(m))"
      ],
      "metadata": {
        "colab": {
          "base_uri": "https://localhost:8080/",
          "height": 235
        },
        "id": "-eDsoby0QwA3",
        "outputId": "1c96e186-fb2b-41dd-bd53-7e345c4f7d55"
      },
      "execution_count": null,
      "outputs": [
        {
          "output_type": "display_data",
          "data": {
            "text/plain": [
              "<PIL.PngImagePlugin.PngImageFile image mode=RGB size=600x200 at 0x7FBBD4C20C90>"
            ],
            "image/png": "[encoded data removed]"
          },
          "metadata": {}
        },
        {
          "output_type": "stream",
          "name": "stdout",
          "text": [
            "1.5313999999999997 92.15 6\n"
          ]
        }
      ]
    },
    {
      "cell_type": "markdown",
      "source": [
        "### Generating 3D Conformers"
      ],
      "metadata": {
        "id": "hocJ7kH3TD_M"
      }
    },
    {
      "cell_type": "code",
      "source": [
        "m = Chem.MolFromSmiles(r'COc1ccc(C=NNC2=NC(=O)C(CC(=O)NC(C)C)S2)cc1')\n",
        "m = Chem.AddHs(m) # Add Hs to the molecule before generating the conformers\n",
        "\n",
        "AllChem.EmbedMolecule(m,randomSeed=0xf00d,useExpTorsionAnglePrefs=True,useBasicKnowledge=True)\n",
        "print(m.GetNumConformers())\n",
        "\n",
        "cids = AllChem.EmbedMultipleConfs(m,10,pruneRmsThresh=1.0,randomSeed=0xf00d,\n",
        "                           useExpTorsionAnglePrefs=True,useBasicKnowledge=True)\n",
        "print(m.GetNumConformers())\n",
        "\n",
        "conf = m.GetConformer(cids[0])\n",
        "print(conf.GetPositions())"
      ],
      "metadata": {
        "colab": {
          "base_uri": "https://localhost:8080/"
        },
        "id": "OoX4r9H8S3ve",
        "outputId": "a86796c3-1104-4a56-b725-a80b9eebe189"
      },
      "execution_count": null,
      "outputs": [
        {
          "output_type": "stream",
          "name": "stdout",
          "text": [
            "1\n",
            "10\n",
            "[[ 8.30759386 -2.48782306  2.63119074]\n",
            " [ 8.28347386 -2.01791701  1.3112757 ]\n",
            " [ 7.06821138 -1.69452553  0.71763379]\n",
            " [ 5.90098008 -1.83663342  1.43790229]\n",
            " [ 4.71125775 -1.50212868  0.81998788]\n",
            " [ 4.69698501 -1.03417938 -0.49120711]\n",
            " [ 3.46058201 -0.64026513 -1.14022925]\n",
            " [ 2.33711922 -0.6126843  -0.73426461]\n",
            " [ 1.43694177 -0.79267931  0.21096867]\n",
            " [ 0.06438139 -0.73365944 -0.19733271]\n",
            " [-0.45667048 -1.4267537  -1.1041644 ]\n",
            " [-1.83599963 -1.21760546 -1.3619546 ]\n",
            " [-2.60541484 -2.12041134 -1.90974115]\n",
            " [-2.339338    0.0900136  -0.96677513]\n",
            " [-3.78475834  0.16098617 -0.56687533]\n",
            " [-4.07756061  1.63716564 -0.19551774]\n",
            " [-3.07313302  2.20932096  0.2607766 ]\n",
            " [-5.33772458  2.116488   -0.41745443]\n",
            " [-6.57884444  2.59924615 -0.63312124]\n",
            " [-6.99617762  3.83119598  0.18198747]\n",
            " [-7.67775626  1.57885501 -0.42391763]\n",
            " [-1.18395585  0.34400694  0.45677391]\n",
            " [ 5.86817087 -0.9036547  -1.18882258]\n",
            " [ 7.06185531 -1.23896883 -0.56832523]\n",
            " [ 7.53374322 -3.24140563  2.77499337]\n",
            " [ 8.24976885 -1.62711872  3.36828469]\n",
            " [ 9.31091109 -2.92321223  2.86709585]\n",
            " [ 5.85521982 -2.18200904  2.456512  ]\n",
            " [ 3.80485393 -1.62442027  1.34975549]\n",
            " [ 3.60873474 -0.31659013 -2.24363653]\n",
            " [ 1.66647169 -0.96650394  1.22794882]\n",
            " [-2.05963301  0.90463764 -1.69136385]\n",
            " [-4.01339237 -0.50606658  0.2444191 ]\n",
            " [-4.35212515 -0.10079691 -1.48013938]\n",
            " [-4.96870605  3.2715726   0.24701649]\n",
            " [-6.66822233  3.06383721 -1.72186545]\n",
            " [-6.26688855  3.92917152  1.01897157]\n",
            " [-6.9134239   4.73679401 -0.48961648]\n",
            " [-8.01928368  3.75278577  0.5960939 ]\n",
            " [-8.0762368   1.35191179 -1.44938338]\n",
            " [-7.3233866   0.65281799  0.0242833 ]\n",
            " [-8.53941016  1.9766482   0.16062341]\n",
            " [ 5.93275339 -0.55464772 -2.22819966]\n",
            " [ 7.98803302 -1.13533521 -1.16058715]]\n"
          ]
        }
      ]
    },
    {
      "cell_type": "markdown",
      "source": [
        "## Using MMFF94 force field to minimize the energy of a conformer"
      ],
      "metadata": {
        "id": "zv_-H1-kTvav"
      }
    },
    {
      "cell_type": "code",
      "source": [
        "m = Chem.MolFromSmiles(r'COc1ccc(C=NNC2=NC(=O)C(CC(=O)NC(C)C)S2)cc1')\n",
        "m = Chem.AddHs(m) # Add Hs to the molecule before generating the conformers\n",
        "\n",
        "AllChem.EmbedMolecule(m,randomSeed=0xf00d,useExpTorsionAnglePrefs=True,useBasicKnowledge=True)\n",
        "print(m.GetNumConformers())\n",
        "\n",
        "AllChem.MMFFOptimizeMolecule(m)\n",
        "\n",
        "for c in m.GetConformers():\n",
        "  print(c.GetPositions())"
      ],
      "metadata": {
        "colab": {
          "base_uri": "https://localhost:8080/"
        },
        "id": "XtR2tMELTu8N",
        "outputId": "cc0d21b1-58ec-451b-cbec-46f9b6cdb331"
      },
      "execution_count": null,
      "outputs": [
        {
          "output_type": "stream",
          "name": "stdout",
          "text": [
            "1\n",
            "[[ 5.66295452 -3.84556323  2.79911677]\n",
            " [ 6.30855877 -3.1284225   1.75449456]\n",
            " [ 5.51236164 -2.60560284  0.77400982]\n",
            " [ 4.12188031 -2.711426    0.70081619]\n",
            " [ 3.42877362 -2.12190635 -0.36139595]\n",
            " [ 4.12755623 -1.4170007  -1.34477289]\n",
            " [ 3.43113624 -0.80271909 -2.48926093]\n",
            " [ 2.34305131 -0.09019424 -2.49190223]\n",
            " [ 1.78543198  0.26015868 -1.3010001 ]\n",
            " [ 0.59590509  0.92866428 -1.17664635]\n",
            " [-0.28648433  1.18447011 -2.07920787]\n",
            " [-1.3676075   1.88385555 -1.60195957]\n",
            " [-2.37668557  2.09747057 -2.26506033]\n",
            " [-1.22542478  2.37422071 -0.16801053]\n",
            " [-2.45853185  2.00098244  0.64269449]\n",
            " [-3.50015725  3.08763076  0.48998352]\n",
            " [-3.20634543  4.27406069  0.64347111]\n",
            " [-4.79493216  2.76219863  0.22675592]\n",
            " [-5.39661143  1.4500799   0.0140612 ]\n",
            " [-6.69520614  1.59305174 -0.77528991]\n",
            " [-5.65812763  0.75624449  1.34917328]\n",
            " [ 0.24949527  1.49259453  0.44251298]\n",
            " [ 5.5178044  -1.32788076 -1.2933822 ]\n",
            " [ 6.20266648 -1.91548779 -0.22819206]\n",
            " [ 5.1471587  -4.72904324  2.41110039]\n",
            " [ 4.97746131 -3.19941422  3.35634759]\n",
            " [ 6.43704689 -4.18812583  3.49348806]\n",
            " [ 3.54952598 -3.25166375  1.44853126]\n",
            " [ 2.34904242 -2.23708563 -0.4258227 ]\n",
            " [ 3.90984431 -0.96814023 -3.47031342]\n",
            " [ 2.38088504  0.32250382 -0.47851013]\n",
            " [-1.0045091   3.44552411 -0.18476031]\n",
            " [-2.23452582  1.95778179  1.71612599]\n",
            " [-2.8352752   1.01801052  0.35436077]\n",
            " [-5.40013861  3.57492972  0.18456281]\n",
            " [-4.70333016  0.84575695 -0.57861283]\n",
            " [-7.42895643  2.19399055 -0.22582746]\n",
            " [-6.51287053  2.09019146 -1.73424012]\n",
            " [-7.13835309  0.61223654 -0.9786012 ]\n",
            " [-6.05465532 -0.2521625   1.19665878]\n",
            " [-4.74124964  0.66881213  1.93945576]\n",
            " [-6.37971685  1.32006279  1.95186286]\n",
            " [ 6.07478146 -0.79654938 -2.06080285]\n",
            " [ 7.28637285 -1.83763569 -0.17601217]]\n"
          ]
        }
      ]
    },
    {
      "cell_type": "markdown",
      "source": [
        "# Molecule Features and Fingerprints\n",
        "\n",
        "![image.png](data:image/png;base64,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)\n",
        "\n",
        "Details of RDKit Fingerprinting: https://rdkit.org/UGM/2012/Landrum_RDKit_UGM.Fingerprints.Final.pptx.pdf\n",
        "\n",
        "There are many different methods for doing the same. For now we stick with RDKit Fingerprints. Fingerprints attempt to characterize local features and subgraphs.\n",
        "\n",
        "Matching subgraphs, a.k.a. subgraph isomorphism, is an NP-complete problem."
      ],
      "metadata": {
        "id": "hIReOa4kVT0b"
      }
    },
    {
      "cell_type": "markdown",
      "source": [
        "## RDKit Fingerprint Algorithm\n",
        "\n",
        "* Substructure fingerprint\n",
        "* Atom types: set by atomic number and aromaticity\n",
        "* Bond types: set by atom types and bond types\n",
        "\n",
        "Algorithm:\n",
        "For each subgraph (or path, if `branchedPaths` is false) of length `minPath - maxPath` bonds:\n",
        "1. Generate hash for the path using bond types and each bond’s neighbor count\n",
        "2. seed random-number generator with hash\n",
        "3. generate `nBitsPerHash` random numbers between 0 and fpSize and set the corresponding bits\n",
        "4. [optional]: “fold” fingerprint to target density of `tgtDensity` of bits set (minimum size `minSize` bits)"
      ],
      "metadata": {
        "id": "hB7AaSPvV7iw"
      }
    },
    {
      "cell_type": "code",
      "source": [
        "mol = Chem.MolFromSmiles(\"C(C)(C)NC(=O)NO\")\n",
        "fingerprint = Chem.RDKFingerprint(mol)\n",
        "\n",
        "print(\"Number of Bits:\", fingerprint.GetNumBits())\n",
        "print(\"Number of On Bits:\", fingerprint.GetNumOnBits())\n",
        "\n",
        "array = np.array([float(digit) for digit in fingerprint.ToBitString()])\n",
        "print(\"Full Bit String:\", array)\n"
      ],
      "metadata": {
        "colab": {
          "base_uri": "https://localhost:8080/"
        },
        "id": "ct7S2yGHTW8o",
        "outputId": "0e895411-fda4-4fac-ae31-90c892f1b94a"
      },
      "execution_count": null,
      "outputs": [
        {
          "output_type": "stream",
          "name": "stdout",
          "text": [
            "Number of Bits: 2048\n",
            "Number of On Bits: 63\n",
            "Full Bit String: [0. 0. 0. ... 0. 0. 1.]\n"
          ]
        }
      ]
    },
    {
      "cell_type": "markdown",
      "source": [
        "## Fingerprints for predicting Solvation Energy"
      ],
      "metadata": {
        "id": "NQ9eJPm-XREE"
      }
    },
    {
      "cell_type": "code",
      "source": [
        "df = pd.read_csv(\"freesolv_database.csv\", sep=';')"
      ],
      "metadata": {
        "id": "dK3gaWD5XDuI"
      },
      "execution_count": null,
      "outputs": []
    },
    {
      "cell_type": "markdown",
      "source": [
        "Now for each of the molecules we need to compute molecular features, which are the fingerprints. We do it and stack them up to make our inputs matrix."
      ],
      "metadata": {
        "id": "Bsxb9IbvXqT7"
      }
    },
    {
      "cell_type": "code",
      "source": [
        "def featurize(smiles):\n",
        "    molecule = rdkit.Chem.MolFromSmiles(smiles)\n",
        "    fingerprint = rdkit.Chem.RDKFingerprint(molecule)\n",
        "    x = np.array(\n",
        "        [float(digit) for digit in fingerprint.ToBitString()],\n",
        "        dtype=np.float32,\n",
        "    )\n",
        "    return x\n",
        "\n",
        "\n",
        "x = np.stack(df['SMILES'].apply(featurize).values)\n",
        "y = df['experimental value (kcal/mol)'].values"
      ],
      "metadata": {
        "id": "M8Zz15HdXiPq"
      },
      "execution_count": null,
      "outputs": []
    },
    {
      "cell_type": "markdown",
      "source": [
        "We perform linear regression on this feature matrix."
      ],
      "metadata": {
        "id": "UdeME7AUYCDP"
      }
    },
    {
      "cell_type": "code",
      "source": [
        "model = sklearn.linear_model.LinearRegression()\n",
        "\n",
        "x_train, x_test, y_train, y_test = sklearn.model_selection.train_test_split(\n",
        "    x, y, test_size=0.2\n",
        ")\n",
        "model.fit(x_train, y_train)\n"
      ],
      "metadata": {
        "colab": {
          "base_uri": "https://localhost:8080/"
        },
        "id": "1-saAfJsX9nc",
        "outputId": "ed7dbfc5-e7da-4a99-b2e9-05bb0445d761"
      },
      "execution_count": null,
      "outputs": [
        {
          "output_type": "execute_result",
          "data": {
            "text/plain": [
              "LinearRegression()"
            ]
          },
          "metadata": {},
          "execution_count": 75
        }
      ]
    },
    {
      "cell_type": "code",
      "source": [
        "print(\"Error in Train Data:\", \n",
        "      np.mean(np.square(y_train - model.predict(x_train))))\n",
        "print(\"Variance in the Train Data:\", np.var(y_train))\n",
        "\n",
        "print(\"Error in Test Data:\", \n",
        "      np.mean(np.square(y_test - model.predict(x_test))))\n",
        "print(\"Variance in the Test Data:\", np.var(y_test))"
      ],
      "metadata": {
        "colab": {
          "base_uri": "https://localhost:8080/"
        },
        "id": "kvdhOnsaYOci",
        "outputId": "0c4266bf-76a0-4db6-b920-be3601b087b2"
      },
      "execution_count": null,
      "outputs": [
        {
          "output_type": "stream",
          "name": "stdout",
          "text": [
            "Error in Train Data: 0.012387013358824677\n",
            "Variance in the Train Data: 14.872040038456298\n",
            "Error in Test Data: 10020.747827395908\n",
            "Variance in the Test Data: 14.358721579232016\n"
          ]
        }
      ]
    },
    {
      "cell_type": "markdown",
      "source": [
        "## Extended Connectivity Fingerprints\n",
        "\n",
        "1. Compute a unique index for each atom. This is a long integer hash made using the following features (Daylight atomic invariants)\n",
        "\n",
        "* Number of non-hydrogen immediate neighbors\n",
        "* Valency minus the number of connected hydrogens (i.e., total bond order ignoring H)\n",
        "* Atomic number\n",
        "* Atomic mass\n",
        "* Atomic charge\n",
        "* Number of attached hydrogens (both implicit and explicit)\n",
        "\n",
        "2. Aggregate information from neighboring atoms and bonds connecting to them and use it to compute new feature vector.\n",
        "\n",
        "    `[bond-order-1, atom-1-hash, bond-order-1, atom-2-hash, ...]`\n",
        "\n",
        "    We hash this list to generate the 1-st iteration features for the atoms. These features in the 1-st iteration grab information from radius 1, diameter 2. We repeat this proecss, the 2-nd iteration vector will have information from radius 2, diameter 4.\n",
        "\n",
        "    We do this for 2-3 iterations, leading to the different ECFP types, **ECFP-4, ECFP-6**, etc., depending on the diameter of data aggregation. \n",
        "    \n",
        "    We also keep track of which bonds and atoms are getting aggregated in each iteration, and we de-duplicate the same neighborhood being added as a feature from two different starting points.\n",
        "\n",
        "3. Given a target vector size, say 2048, take all the computed hashes over all iterations and find their values in this mod-field. i.e. `feature-id = hash-index % 2048`.\n",
        "\n",
        "    Marks these feature ids in a 2048 length bit-vector, which now represents a hashed list of unique atom features, and substructure features upto small radii.\n",
        "\n",
        "The following features are important to note about ECFP:\n",
        "* The Hydrogen atoms are not a part of the fingerprinting process.\n",
        "* ECFP depends on the hash function implementation of each programming language and therefore may differ in value from implementation to implementation.\n",
        "* ECFP-4 is sufficient for most clustering or similarity indexing tasks.\n",
        "* ECFP-6 or ECFP-8 might be needed for activity prediction tasks.\n",
        "\n",
        "\n",
        "Refer to https://chemicbook.com/2021/03/25/a-beginners-guide-for-understanding-extended-connectivity-fingerprints.html for a detailed explainiation."
      ],
      "metadata": {
        "id": "lifcoEnBYkv-"
      }
    },
    {
      "cell_type": "code",
      "source": [
        "molecule = rdkit.Chem.MolFromSmiles(\"C1CCCC1\")\n",
        "\n",
        "fingerprint = AllChem.GetMorganFingerprintAsBitVect(\n",
        "                                                    molecule,\n",
        "                                                    radius=3,\n",
        "                                                    nBits=32\n",
        "    )\n",
        "fingerprint = np.asarray(fingerprint)\n",
        "\n",
        "print(\"Morgan Fingerprint of Benzene\", fingerprint)"
      ],
      "metadata": {
        "colab": {
          "base_uri": "https://localhost:8080/"
        },
        "id": "8aXQx6XgYUvJ",
        "outputId": "227beee9-bde9-4aec-c31e-f06cb1dcac2c"
      },
      "execution_count": null,
      "outputs": [
        {
          "output_type": "stream",
          "name": "stdout",
          "text": [
            "Morgan Fingerprint of Benzene [0 0 1 0 1 0 0 0 0 0 0 0 0 0 0 0 0 0 0 0 0 0 0 1 0 0 0 0 0 0 1 0]\n"
          ]
        }
      ]
    },
    {
      "cell_type": "markdown",
      "source": [
        "## Molecule Similarity\n",
        "\n",
        "$$\\text{Travsky}_{a,b}(V_i, V_j) = \\frac{V_i \\cdot V_j}{a ||V_i||_1 + b ||V_j||_1 + (1 - a- b) V_i \\cdot V_j}$$\n",
        "\n",
        "Travsky similarity is the general framework in which all other fingerprint similarity measures fit."
      ],
      "metadata": {
        "id": "-wWfJbQ_aKMp"
      }
    },
    {
      "cell_type": "markdown",
      "source": [
        "$$\\text{Tanimoto}(V_i, V_j) = \\text{Travsky}_{1,1}(V_i, V_j)$$\n",
        "\n",
        "Tanimoto similarity is the ratio of the number of molecular features present in both molecules (intersection) over the number of molecular features present in either molecule (union).\n",
        "\n",
        "$$\\text{Tanimoto}(V_i, V_j) = \\frac{V_i \\cdot V_j}{||V_i||_1 + ||V_j||_1 - V_i \\cdot V_j}$$"
      ],
      "metadata": {
        "id": "phBEg0cDaUkE"
      }
    },
    {
      "cell_type": "markdown",
      "source": [
        "$$\\text{Dice}(V_i, V_j) = \\text{Travsky}_{0.5,0.5}(V_i, V_j)$$\n",
        "\n",
        "Tanimoto similarity is the ratio of the number of molecular features present in both molecules (intersection) over the average number of molecular features present in both the molecules (mean of L1 norm).\n",
        "\n",
        "$$\\text{Dice}(V_i, V_j) = \\frac{V_i \\cdot V_j}{\\frac{1}{2} ||V_i||_1 + \\frac{1}{2} ||V_j||_1}$$"
      ],
      "metadata": {
        "id": "wK1iyLv7aXEh"
      }
    },
    {
      "cell_type": "code",
      "source": [
        "def generate_molecule_data(batch_size=128):\n",
        "    smiles, data = [], []\n",
        "    with open(\"gdb11_size08.smi\", \"r\") as f:\n",
        "        for dataline in tqdm.tqdm(list(f.readlines())):\n",
        "            smile = dataline.split()[0]\n",
        "            molecule = rdkit.Chem.MolFromSmiles(smile)\n",
        "            fingerprint = rdkit.Chem.RDKFingerprint(molecule)\n",
        "            data.append(fingerprint)\n",
        "            smiles.append(smile)\n",
        "    return data, smiles\n",
        "\n",
        "fingerprints, smiles = generate_molecule_data()"
      ],
      "metadata": {
        "colab": {
          "base_uri": "https://localhost:8080/",
          "height": 49,
          "referenced_widgets": [
            "bb7c3bc856af4aa788d5d86116fc610c",
            "c2df787e72ac41f6818c41feb297f907",
            "2787d6bb26ca4e48b551c8743c30eb0d",
            "182c25a8a64c4a799652efeb3bed839c",
            "60a267ef9d3544efb01718d29d24b66c",
            "c9f9ff54d01a4c5687c8dfac22ad8461",
            "28d5c50444434e6cb39b8921fcddafb9",
            "5bf12265fa894aa0a25fd1a5bf3b4605",
            "ece87f1fd58d4d0bbcf783c845634b0e",
            "892a24f93aa54646a0369c00e2bad8bd",
            "1958df63fead461eba9d397b578f6ba5"
          ]
        },
        "id": "I-41E4wyaE9A",
        "outputId": "1c8ba4e7-e8e8-47a8-fbd6-21f3405b9576"
      },
      "execution_count": null,
      "outputs": [
        {
          "output_type": "display_data",
          "data": {
            "text/plain": [
              "  0%|          | 0/66706 [00:00<?, ?it/s]"
            ],
            "application/vnd.jupyter.widget-view+json": {
              "version_major": 2,
              "version_minor": 0,
              "model_id": "bb7c3bc856af4aa788d5d86116fc610c"
            }
          },
          "metadata": {}
        }
      ]
    },
    {
      "cell_type": "code",
      "source": [
        "molecule_idx = np.random.randint(len(smiles))\n",
        "\n",
        "similarities = [\n",
        "    rdkit.DataStructs.FingerprintSimilarity(\n",
        "        fingerprints[molecule_idx],\n",
        "        fingerprint\n",
        "    )\n",
        "    for fingerprint in fingerprints\n",
        "]\n",
        "\n",
        "indexes = np.argsort(similarities)[::-1]"
      ],
      "metadata": {
        "id": "2uAPNCv7bBbD"
      },
      "execution_count": null,
      "outputs": []
    },
    {
      "cell_type": "code",
      "source": [
        "img = rdkit.Chem.Draw.MolsToGridImage(\n",
        "    [rdkit.Chem.MolFromSmiles(smile) for smile in smiles[:10]],\n",
        "    molsPerRow=5,\n",
        "    legends=smiles[:10]\n",
        ")\n",
        "display(img)"
      ],
      "metadata": {
        "colab": {
          "base_uri": "https://localhost:8080/",
          "height": 407
        },
        "id": "1nhjRRE7bR8D",
        "outputId": "5665e5ca-a8f2-45cb-93bb-474ff63c1be5"
      },
      "execution_count": null,
      "outputs": [
        {
          "output_type": "display_data",
          "data": {
            "text/plain": [
              "<PIL.PngImagePlugin.PngImageFile image mode=RGB size=1000x400 at 0x7FBBD4928150>"
            ],
            "image/png": "[encoded data removed]"
          },
          "metadata": {}
        }
      ]
    },
    {
      "cell_type": "markdown",
      "source": [
        "## Exercise: Predict Log-p values"
      ],
      "metadata": {
        "id": "DEqEZM4ibmt-"
      }
    },
    {
      "cell_type": "code",
      "source": [
        "import rdkit.Chem.Crippen\n",
        "\n",
        "log_p = np.array([\n",
        "    rdkit.Chem.Crippen.MolLogP(rdkit.Chem.MolFromSmiles(smile))\n",
        "    for smile in tqdm.tqdm(smiles)\n",
        "], dtype=np.float32)"
      ],
      "metadata": {
        "colab": {
          "base_uri": "https://localhost:8080/",
          "height": 49,
          "referenced_widgets": [
            "93ef261cd5c043f3b083199c45ad8cf1",
            "c5e075d3529d43068a0676c5b01d4c53",
            "2abd15b956e649049aef63d91434ce47",
            "a79390214ead4a55b05cc9edb6443db0",
            "d08d45d493184181b77be53aadce78e2",
            "d1bc19c306134a24991e852d44d8e18c",
            "af516199fe51423295859bfe4d23fd0b",
            "b73ae306e09948b2a599f16786a0e0b4",
            "a237023cf9284bf6a1936559c9b49ddc",
            "7ff3fc4c683e417c8f526bc1034d4d35",
            "ce9242aa13b44eff887e0bb9dbdfc2cc"
          ]
        },
        "id": "xDX0kvoOb74E",
        "outputId": "780591d0-5999-4d29-a6f0-3982d23e01fd"
      },
      "execution_count": null,
      "outputs": [
        {
          "output_type": "display_data",
          "data": {
            "text/plain": [
              "  0%|          | 0/66706 [00:00<?, ?it/s]"
            ],
            "application/vnd.jupyter.widget-view+json": {
              "version_major": 2,
              "version_minor": 0,
              "model_id": "93ef261cd5c043f3b083199c45ad8cf1"
            }
          },
          "metadata": {}
        }
      ]
    },
    {
      "cell_type": "markdown",
      "source": [
        "Now you are given the list of all smiles and the list of all log-p values for those smiles. Use RDKit fingerprints and Morgan fingerprints (if it's hard to get these, see the code in the next segment) along with any other fingerprint methods of your choice, and evaluate which perform best as input to a linear regressor."
      ],
      "metadata": {
        "id": "vReYoLwMbuVx"
      }
    },
    {
      "cell_type": "code",
      "source": [
        "fingerprint_array = np.array([\n",
        "    list(map(float, fingerprint.ToBitString()))\n",
        "    for fingerprint in tqdm.tqdm(fingerprints)\n",
        "], dtype=np.float32)"
      ],
      "metadata": {
        "colab": {
          "base_uri": "https://localhost:8080/",
          "height": 49,
          "referenced_widgets": [
            "3a7d504117804a71b554ed98cd943e23",
            "5a82d2fe77b54f91aa475e10c431df39",
            "789523af8d604a2c9fb34a0d6449d50b",
            "e6828f229cca490db9c9bdecea29d727",
            "fc5812b57cff4c27bcff6ef78530b424",
            "28c1e034aef84977ab150243dc669d55",
            "c9cca113f4db4c93a8e2511897948f98",
            "1c411f463cae4687bab94edcc0fcbd96",
            "2efa4f8e86074c6f888da1615d868852",
            "fa8c2fcd6131445c8b61957da8124848",
            "dcf77c58d8a745ec906510e7193beb34"
          ]
        },
        "id": "bcskjb2qbTZZ",
        "outputId": "4eaf1554-80d5-405d-c028-c484c2c451c9"
      },
      "execution_count": null,
      "outputs": [
        {
          "output_type": "display_data",
          "data": {
            "text/plain": [
              "  0%|          | 0/66706 [00:00<?, ?it/s]"
            ],
            "application/vnd.jupyter.widget-view+json": {
              "version_major": 2,
              "version_minor": 0,
              "model_id": "3a7d504117804a71b554ed98cd943e23"
            }
          },
          "metadata": {}
        }
      ]
    },
    {
      "cell_type": "code",
      "source": [
        "fingerprint_array.shape, log_p.shape"
      ],
      "metadata": {
        "colab": {
          "base_uri": "https://localhost:8080/"
        },
        "id": "KY6kBE7gc_aB",
        "outputId": "4bdab9d3-8826-49e6-8c0a-c6f621bdb8f2"
      },
      "execution_count": null,
      "outputs": [
        {
          "output_type": "execute_result",
          "data": {
            "text/plain": [
              "((66706, 2048), (66706,))"
            ]
          },
          "metadata": {},
          "execution_count": 87
        }
      ]
    },
    {
      "cell_type": "code",
      "source": [
        "model = sklearn.linear_model.LinearRegression()\n",
        "\n",
        "fingerprint_array_train, fingerprint_array_test, log_p_train, log_p_test = \\\n",
        "    sklearn.model_selection.train_test_split(\n",
        "        fingerprint_array, log_p, test_size=0.2)\n",
        "\n",
        "model.fit(fingerprint_array_train, log_p_train)\n",
        "\n",
        "print(\"Error in Test Data:\",\n",
        "      np.mean(np.square(log_p_train - model.predict(fingerprint_array_train))))\n",
        "print(\"Variance in the Test Data:\", np.var(log_p_train))\n",
        "\n",
        "print(\"Error in Test Data:\",\n",
        "      np.mean(np.square(log_p_test - model.predict(fingerprint_array_test))))\n",
        "print(\"Variance in the Test Data:\", np.var(log_p_test))"
      ],
      "metadata": {
        "colab": {
          "base_uri": "https://localhost:8080/"
        },
        "id": "nJfHPFdzdCsO",
        "outputId": "b7ff982d-09e2-4d70-dc2b-83937f0504f1"
      },
      "execution_count": null,
      "outputs": [
        {
          "output_type": "stream",
          "name": "stdout",
          "text": [
            "RMS error in Test Data: 0.0870132\n",
            "Variance in the Test Data: 0.97314316\n",
            "RMS error in Test Data: 0.09640389\n",
            "Variance in the Test Data: 0.9718189\n"
          ]
        }
      ]
    },
    {
      "cell_type": "markdown",
      "source": [
        "Now we use Morgan Fingerprints for the same classification."
      ],
      "metadata": {
        "id": "cx1cJeZjdebs"
      }
    },
    {
      "cell_type": "code",
      "source": [
        "morgan_fingerprint_array = np.stack([\n",
        "    np.asarray(\n",
        "        rdkit.Chem.AllChem.GetMorganFingerprintAsBitVect(\n",
        "            rdkit.Chem.MolFromSmiles(smile),\n",
        "            radius=3,\n",
        "            nBits=128\n",
        "        )\n",
        "    )\n",
        "    for smile in tqdm.tqdm(smiles)\n",
        "])"
      ],
      "metadata": {
        "colab": {
          "base_uri": "https://localhost:8080/",
          "height": 49,
          "referenced_widgets": [
            "a940c8b0c85044e8a8067d8f19e23780",
            "27db8eb73c1844c4a8a633b05d75fd29",
            "59ce040d4561482b9d8baa9fdd0f7c55",
            "4023e1702e584b02abbcc7088c2e56c3",
            "b8e6f342570c409db52821e037219b11",
            "93d3039bcc814d6c84e9968c1840e263",
            "ac1270f96a9d4cd38a4e350d5812f84f",
            "6b25151e2a0d45618e65d1beb307acc8",
            "193d1a8aeb4249f5a67bd211d59d521e",
            "05e4fa219b7144128afe25c2e170717a",
            "506949f6b93b4518b5adc8a8de7726e5"
          ]
        },
        "id": "177WaJrddeFJ",
        "outputId": "48f1e0ed-69a3-46b4-d600-f2e902d3fbe0"
      },
      "execution_count": null,
      "outputs": [
        {
          "output_type": "display_data",
          "data": {
            "text/plain": [
              "  0%|          | 0/66706 [00:00<?, ?it/s]"
            ],
            "application/vnd.jupyter.widget-view+json": {
              "version_major": 2,
              "version_minor": 0,
              "model_id": "a940c8b0c85044e8a8067d8f19e23780"
            }
          },
          "metadata": {}
        }
      ]
    },
    {
      "cell_type": "code",
      "source": [
        "model = sklearn.linear_model.LinearRegression()\n",
        "\n",
        "fingerprint_array_train, fingerprint_array_test, log_p_train, log_p_test = \\\n",
        "    sklearn.model_selection.train_test_split(\n",
        "        morgan_fingerprint_array, log_p, test_size=0.2)\n",
        "\n",
        "model.fit(fingerprint_array_train, log_p_train)\n",
        "\n",
        "print(\"Error in Test Data:\",\n",
        "      np.mean(np.square(log_p_train - model.predict(fingerprint_array_train))))\n",
        "print(\"Variance in the Test Data:\", np.var(log_p_train))\n",
        "\n",
        "print(\"Error in Test Data:\",\n",
        "      np.mean(np.square(log_p_test - model.predict(fingerprint_array_test))))\n",
        "print(\"Variance in the Test Data:\", np.var(log_p_test))"
      ],
      "metadata": {
        "colab": {
          "base_uri": "https://localhost:8080/"
        },
        "id": "-oVRL7MsdOb_",
        "outputId": "dc69baf1-8674-4764-8f4e-b7387ed547db"
      },
      "execution_count": null,
      "outputs": [
        {
          "output_type": "stream",
          "name": "stdout",
          "text": [
            "Error in Test Data: 0.4361878013842864\n",
            "Variance in the Test Data: 0.97125566\n",
            "Error in Test Data: 0.43536483536995885\n",
            "Variance in the Test Data: 0.9793462\n"
          ]
        }
      ]
    },
    {
      "cell_type": "markdown",
      "source": [
        "**Exploratory Task:**\n",
        "Play around with the number of bits and radius of features in the Morgan Fingerprint, and compare it to other fingerprint methods, both for learning and finding similar elements. Also compare the different similarity measures for clustering tasks. See Topological-Torsion fingerprints and other methods."
      ],
      "metadata": {
        "id": "5S0v6RdReAkr"
      }
    },
    {
      "cell_type": "markdown",
      "source": [
        "**Exploratory Task:**\n",
        "Lookup the ChEMBL dataset for Log-p values (drug likeness), and the Tox21 dataset for the toxicity value of molecules (the input already has in the sparse features file a list of ECFP fingerprints). Run classification/regression algorithms on these using the techniques learnt above. Attempt to characterize which tasks will these fingerprint based methods work well on and provide intuitive explainations for the same."
      ],
      "metadata": {
        "id": "WpV3E781eLzW"
      }
    },
    {
      "cell_type": "markdown",
      "source": [
        "# End of tutorial"
      ],
      "metadata": {
        "id": "FysjvGVJef7V"
      }
    },
    {
      "cell_type": "code",
      "source": [
        ""
      ],
      "metadata": {
        "id": "GiltXydDd1xZ"
      },
      "execution_count": null,
      "outputs": []
    }
  ]
}